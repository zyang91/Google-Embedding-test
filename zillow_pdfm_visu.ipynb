{
 "cells": [
  {
   "cell_type": "code",
   "execution_count": 1,
   "id": "a25a5eaa",
   "metadata": {},
   "outputs": [],
   "source": [
    "import os\n",
    "import pandas as pd\n",
    "import geopandas as gpd\n",
    "from sklearn.model_selection import train_test_split\n",
    "from sklearn.linear_model import LinearRegression\n",
    "from sklearn.neighbors import KNeighborsRegressor\n",
    "from leafmap.common import evaluate_model, plot_actual_vs_predicted, download_file\n",
    "import leafmap.maplibregl as leafmap"
   ]
  },
  {
   "cell_type": "code",
   "execution_count": 2,
   "id": "150c3328",
   "metadata": {},
   "outputs": [],
   "source": [
    "zhvi= 'https://github.com/opengeos/datasets/releases/download/us/zillow_home_value_index_by_county.csv'\n",
    "zhvo_file = 'zillow_home_value_index_by_county.csv'\n",
    "if not os.path.exists(zhvo_file):\n",
    "    download_file(zhvi, zhvo_file)"
   ]
  },
  {
   "cell_type": "code",
   "execution_count": 3,
   "id": "ab43b872",
   "metadata": {},
   "outputs": [
    {
     "data": {
      "text/html": [
       "<div>\n",
       "<style scoped>\n",
       "    .dataframe tbody tr th:only-of-type {\n",
       "        vertical-align: middle;\n",
       "    }\n",
       "\n",
       "    .dataframe tbody tr th {\n",
       "        vertical-align: top;\n",
       "    }\n",
       "\n",
       "    .dataframe thead th {\n",
       "        text-align: right;\n",
       "    }\n",
       "</style>\n",
       "<table border=\"1\" class=\"dataframe\">\n",
       "  <thead>\n",
       "    <tr style=\"text-align: right;\">\n",
       "      <th></th>\n",
       "      <th>RegionID</th>\n",
       "      <th>SizeRank</th>\n",
       "      <th>RegionName</th>\n",
       "      <th>RegionType</th>\n",
       "      <th>StateName</th>\n",
       "      <th>State</th>\n",
       "      <th>Metro</th>\n",
       "      <th>StateCodeFIPS</th>\n",
       "      <th>MunicipalCodeFIPS</th>\n",
       "      <th>2000-01-31</th>\n",
       "      <th>...</th>\n",
       "      <th>2024-04-30</th>\n",
       "      <th>2024-05-31</th>\n",
       "      <th>2024-06-30</th>\n",
       "      <th>2024-07-31</th>\n",
       "      <th>2024-08-31</th>\n",
       "      <th>2024-09-30</th>\n",
       "      <th>2024-10-31</th>\n",
       "      <th>2024-11-30</th>\n",
       "      <th>2024-12-31</th>\n",
       "      <th>2025-01-31</th>\n",
       "    </tr>\n",
       "  </thead>\n",
       "  <tbody>\n",
       "    <tr>\n",
       "      <th>geoId/06037</th>\n",
       "      <td>3101</td>\n",
       "      <td>0</td>\n",
       "      <td>Los Angeles County</td>\n",
       "      <td>county</td>\n",
       "      <td>CA</td>\n",
       "      <td>CA</td>\n",
       "      <td>Los Angeles-Long Beach-Anaheim, CA</td>\n",
       "      <td>06</td>\n",
       "      <td>037</td>\n",
       "      <td>206685.940073</td>\n",
       "      <td>...</td>\n",
       "      <td>848100.109098</td>\n",
       "      <td>851249.814267</td>\n",
       "      <td>853328.259951</td>\n",
       "      <td>856958.247702</td>\n",
       "      <td>862129.887015</td>\n",
       "      <td>868712.125738</td>\n",
       "      <td>873819.306305</td>\n",
       "      <td>877921.805494</td>\n",
       "      <td>881313.863788</td>\n",
       "      <td>880547.372613</td>\n",
       "    </tr>\n",
       "    <tr>\n",
       "      <th>geoId/17031</th>\n",
       "      <td>139</td>\n",
       "      <td>1</td>\n",
       "      <td>Cook County</td>\n",
       "      <td>county</td>\n",
       "      <td>IL</td>\n",
       "      <td>IL</td>\n",
       "      <td>Chicago-Naperville-Elgin, IL-IN-WI</td>\n",
       "      <td>17</td>\n",
       "      <td>031</td>\n",
       "      <td>145737.060609</td>\n",
       "      <td>...</td>\n",
       "      <td>297797.137247</td>\n",
       "      <td>299609.927472</td>\n",
       "      <td>300652.787054</td>\n",
       "      <td>301303.254592</td>\n",
       "      <td>302118.600852</td>\n",
       "      <td>302781.699599</td>\n",
       "      <td>303133.869223</td>\n",
       "      <td>303523.016515</td>\n",
       "      <td>304181.858348</td>\n",
       "      <td>305000.265124</td>\n",
       "    </tr>\n",
       "    <tr>\n",
       "      <th>geoId/48201</th>\n",
       "      <td>1090</td>\n",
       "      <td>2</td>\n",
       "      <td>Harris County</td>\n",
       "      <td>county</td>\n",
       "      <td>TX</td>\n",
       "      <td>TX</td>\n",
       "      <td>Houston-The Woodlands-Sugar Land, TX</td>\n",
       "      <td>48</td>\n",
       "      <td>201</td>\n",
       "      <td>109327.540062</td>\n",
       "      <td>...</td>\n",
       "      <td>282689.212331</td>\n",
       "      <td>283279.667076</td>\n",
       "      <td>283161.721769</td>\n",
       "      <td>282792.559444</td>\n",
       "      <td>282454.169156</td>\n",
       "      <td>282239.614216</td>\n",
       "      <td>281873.680565</td>\n",
       "      <td>281423.466788</td>\n",
       "      <td>281191.554410</td>\n",
       "      <td>281000.895149</td>\n",
       "    </tr>\n",
       "    <tr>\n",
       "      <th>geoId/04013</th>\n",
       "      <td>2402</td>\n",
       "      <td>3</td>\n",
       "      <td>Maricopa County</td>\n",
       "      <td>county</td>\n",
       "      <td>AZ</td>\n",
       "      <td>AZ</td>\n",
       "      <td>Phoenix-Mesa-Chandler, AZ</td>\n",
       "      <td>04</td>\n",
       "      <td>013</td>\n",
       "      <td>142829.577207</td>\n",
       "      <td>...</td>\n",
       "      <td>467600.239765</td>\n",
       "      <td>468996.512594</td>\n",
       "      <td>469164.401050</td>\n",
       "      <td>468562.421846</td>\n",
       "      <td>467451.263586</td>\n",
       "      <td>466509.197532</td>\n",
       "      <td>465782.610071</td>\n",
       "      <td>465120.188374</td>\n",
       "      <td>464544.544452</td>\n",
       "      <td>463613.340231</td>\n",
       "    </tr>\n",
       "    <tr>\n",
       "      <th>geoId/06073</th>\n",
       "      <td>2841</td>\n",
       "      <td>4</td>\n",
       "      <td>San Diego County</td>\n",
       "      <td>county</td>\n",
       "      <td>CA</td>\n",
       "      <td>CA</td>\n",
       "      <td>San Diego-Chula Vista-Carlsbad, CA</td>\n",
       "      <td>06</td>\n",
       "      <td>073</td>\n",
       "      <td>212384.876155</td>\n",
       "      <td>...</td>\n",
       "      <td>918694.464981</td>\n",
       "      <td>927384.144048</td>\n",
       "      <td>931835.812500</td>\n",
       "      <td>933267.733074</td>\n",
       "      <td>932833.552309</td>\n",
       "      <td>932389.735948</td>\n",
       "      <td>931683.464702</td>\n",
       "      <td>931874.623336</td>\n",
       "      <td>932380.083872</td>\n",
       "      <td>932486.305190</td>\n",
       "    </tr>\n",
       "  </tbody>\n",
       "</table>\n",
       "<p>5 rows × 310 columns</p>\n",
       "</div>"
      ],
      "text/plain": [
       "             RegionID  SizeRank          RegionName RegionType StateName  \\\n",
       "geoId/06037      3101         0  Los Angeles County     county        CA   \n",
       "geoId/17031       139         1         Cook County     county        IL   \n",
       "geoId/48201      1090         2       Harris County     county        TX   \n",
       "geoId/04013      2402         3     Maricopa County     county        AZ   \n",
       "geoId/06073      2841         4    San Diego County     county        CA   \n",
       "\n",
       "            State                                 Metro StateCodeFIPS  \\\n",
       "geoId/06037    CA    Los Angeles-Long Beach-Anaheim, CA            06   \n",
       "geoId/17031    IL    Chicago-Naperville-Elgin, IL-IN-WI            17   \n",
       "geoId/48201    TX  Houston-The Woodlands-Sugar Land, TX            48   \n",
       "geoId/04013    AZ             Phoenix-Mesa-Chandler, AZ            04   \n",
       "geoId/06073    CA    San Diego-Chula Vista-Carlsbad, CA            06   \n",
       "\n",
       "            MunicipalCodeFIPS     2000-01-31  ...     2024-04-30  \\\n",
       "geoId/06037               037  206685.940073  ...  848100.109098   \n",
       "geoId/17031               031  145737.060609  ...  297797.137247   \n",
       "geoId/48201               201  109327.540062  ...  282689.212331   \n",
       "geoId/04013               013  142829.577207  ...  467600.239765   \n",
       "geoId/06073               073  212384.876155  ...  918694.464981   \n",
       "\n",
       "                2024-05-31     2024-06-30     2024-07-31     2024-08-31  \\\n",
       "geoId/06037  851249.814267  853328.259951  856958.247702  862129.887015   \n",
       "geoId/17031  299609.927472  300652.787054  301303.254592  302118.600852   \n",
       "geoId/48201  283279.667076  283161.721769  282792.559444  282454.169156   \n",
       "geoId/04013  468996.512594  469164.401050  468562.421846  467451.263586   \n",
       "geoId/06073  927384.144048  931835.812500  933267.733074  932833.552309   \n",
       "\n",
       "                2024-09-30     2024-10-31     2024-11-30     2024-12-31  \\\n",
       "geoId/06037  868712.125738  873819.306305  877921.805494  881313.863788   \n",
       "geoId/17031  302781.699599  303133.869223  303523.016515  304181.858348   \n",
       "geoId/48201  282239.614216  281873.680565  281423.466788  281191.554410   \n",
       "geoId/04013  466509.197532  465782.610071  465120.188374  464544.544452   \n",
       "geoId/06073  932389.735948  931683.464702  931874.623336  932380.083872   \n",
       "\n",
       "                2025-01-31  \n",
       "geoId/06037  880547.372613  \n",
       "geoId/17031  305000.265124  \n",
       "geoId/48201  281000.895149  \n",
       "geoId/04013  463613.340231  \n",
       "geoId/06073  932486.305190  \n",
       "\n",
       "[5 rows x 310 columns]"
      ]
     },
     "execution_count": 3,
     "metadata": {},
     "output_type": "execute_result"
    }
   ],
   "source": [
    "zhvi_df= pd.read_csv(zhvo_file, dtype={\"StateCodeFIPS\": str, \"MunicipalCodeFIPS\": str})\n",
    "zhvi_df.index= \"geoId/\" + zhvi_df[\"StateCodeFIPS\"] + zhvi_df[\"MunicipalCodeFIPS\"]\n",
    "zhvi_df.head()"
   ]
  },
  {
   "cell_type": "code",
   "execution_count": 4,
   "id": "d8ab07b2",
   "metadata": {},
   "outputs": [],
   "source": [
    "county_geojson= '/home/zyang91/Desktop/us/county.geojson'"
   ]
  },
  {
   "cell_type": "code",
   "execution_count": 5,
   "id": "7e1b1d80",
   "metadata": {},
   "outputs": [
    {
     "data": {
      "text/html": [
       "<div>\n",
       "<style scoped>\n",
       "    .dataframe tbody tr th:only-of-type {\n",
       "        vertical-align: middle;\n",
       "    }\n",
       "\n",
       "    .dataframe tbody tr th {\n",
       "        vertical-align: top;\n",
       "    }\n",
       "\n",
       "    .dataframe thead th {\n",
       "        text-align: right;\n",
       "    }\n",
       "</style>\n",
       "<table border=\"1\" class=\"dataframe\">\n",
       "  <thead>\n",
       "    <tr style=\"text-align: right;\">\n",
       "      <th></th>\n",
       "      <th>index</th>\n",
       "      <th>geometry</th>\n",
       "    </tr>\n",
       "    <tr>\n",
       "      <th>place</th>\n",
       "      <th></th>\n",
       "      <th></th>\n",
       "    </tr>\n",
       "  </thead>\n",
       "  <tbody>\n",
       "    <tr>\n",
       "      <th>geoId/29510</th>\n",
       "      <td>0</td>\n",
       "      <td>POLYGON ((-90.31662 38.60398, -90.32008 38.593...</td>\n",
       "    </tr>\n",
       "    <tr>\n",
       "      <th>geoId/32510</th>\n",
       "      <td>1</td>\n",
       "      <td>POLYGON ((-120.00431 39.16561, -120.00297 39.1...</td>\n",
       "    </tr>\n",
       "    <tr>\n",
       "      <th>geoId/51580</th>\n",
       "      <td>2</td>\n",
       "      <td>POLYGON ((-80.00796 37.76462, -80.0085 37.7611...</td>\n",
       "    </tr>\n",
       "    <tr>\n",
       "      <th>geoId/51530</th>\n",
       "      <td>3</td>\n",
       "      <td>POLYGON ((-79.38112 37.74236, -79.38063 37.740...</td>\n",
       "    </tr>\n",
       "    <tr>\n",
       "      <th>geoId/51678</th>\n",
       "      <td>4</td>\n",
       "      <td>POLYGON ((-79.45401 37.79249, -79.46155 37.785...</td>\n",
       "    </tr>\n",
       "  </tbody>\n",
       "</table>\n",
       "</div>"
      ],
      "text/plain": [
       "             index                                           geometry\n",
       "place                                                                \n",
       "geoId/29510      0  POLYGON ((-90.31662 38.60398, -90.32008 38.593...\n",
       "geoId/32510      1  POLYGON ((-120.00431 39.16561, -120.00297 39.1...\n",
       "geoId/51580      2  POLYGON ((-80.00796 37.76462, -80.0085 37.7611...\n",
       "geoId/51530      3  POLYGON ((-79.38112 37.74236, -79.38063 37.740...\n",
       "geoId/51678      4  POLYGON ((-79.45401 37.79249, -79.46155 37.785..."
      ]
     },
     "execution_count": 5,
     "metadata": {},
     "output_type": "execute_result"
    }
   ],
   "source": [
    "county_gdf = gpd.read_file(county_geojson)\n",
    "county_gdf.set_index(\"place\", inplace=True)\n",
    "county_gdf.head()"
   ]
  },
  {
   "cell_type": "code",
   "execution_count": 6,
   "id": "d1fb30f5",
   "metadata": {},
   "outputs": [
    {
     "data": {
      "text/html": [
       "<div>\n",
       "<style scoped>\n",
       "    .dataframe tbody tr th:only-of-type {\n",
       "        vertical-align: middle;\n",
       "    }\n",
       "\n",
       "    .dataframe tbody tr th {\n",
       "        vertical-align: top;\n",
       "    }\n",
       "\n",
       "    .dataframe thead th {\n",
       "        text-align: right;\n",
       "    }\n",
       "</style>\n",
       "<table border=\"1\" class=\"dataframe\">\n",
       "  <thead>\n",
       "    <tr style=\"text-align: right;\">\n",
       "      <th></th>\n",
       "      <th>RegionID</th>\n",
       "      <th>SizeRank</th>\n",
       "      <th>RegionName</th>\n",
       "      <th>RegionType</th>\n",
       "      <th>StateName</th>\n",
       "      <th>State</th>\n",
       "      <th>Metro</th>\n",
       "      <th>StateCodeFIPS</th>\n",
       "      <th>MunicipalCodeFIPS</th>\n",
       "      <th>2000-01-31</th>\n",
       "      <th>...</th>\n",
       "      <th>2024-06-30</th>\n",
       "      <th>2024-07-31</th>\n",
       "      <th>2024-08-31</th>\n",
       "      <th>2024-09-30</th>\n",
       "      <th>2024-10-31</th>\n",
       "      <th>2024-11-30</th>\n",
       "      <th>2024-12-31</th>\n",
       "      <th>2025-01-31</th>\n",
       "      <th>index</th>\n",
       "      <th>geometry</th>\n",
       "    </tr>\n",
       "  </thead>\n",
       "  <tbody>\n",
       "    <tr>\n",
       "      <th>geoId/06037</th>\n",
       "      <td>3101</td>\n",
       "      <td>0</td>\n",
       "      <td>Los Angeles County</td>\n",
       "      <td>county</td>\n",
       "      <td>CA</td>\n",
       "      <td>CA</td>\n",
       "      <td>Los Angeles-Long Beach-Anaheim, CA</td>\n",
       "      <td>06</td>\n",
       "      <td>037</td>\n",
       "      <td>206685.940073</td>\n",
       "      <td>...</td>\n",
       "      <td>853328.259951</td>\n",
       "      <td>856958.247702</td>\n",
       "      <td>862129.887015</td>\n",
       "      <td>868712.125738</td>\n",
       "      <td>873819.306305</td>\n",
       "      <td>877921.805494</td>\n",
       "      <td>881313.863788</td>\n",
       "      <td>880547.372613</td>\n",
       "      <td>218.0</td>\n",
       "      <td>MULTIPOLYGON (((-118.67855 33.02634, -118.6748...</td>\n",
       "    </tr>\n",
       "    <tr>\n",
       "      <th>geoId/17031</th>\n",
       "      <td>139</td>\n",
       "      <td>1</td>\n",
       "      <td>Cook County</td>\n",
       "      <td>county</td>\n",
       "      <td>IL</td>\n",
       "      <td>IL</td>\n",
       "      <td>Chicago-Naperville-Elgin, IL-IN-WI</td>\n",
       "      <td>17</td>\n",
       "      <td>031</td>\n",
       "      <td>145737.060609</td>\n",
       "      <td>...</td>\n",
       "      <td>300652.787054</td>\n",
       "      <td>301303.254592</td>\n",
       "      <td>302118.600852</td>\n",
       "      <td>302781.699599</td>\n",
       "      <td>303133.869223</td>\n",
       "      <td>303523.016515</td>\n",
       "      <td>304181.858348</td>\n",
       "      <td>305000.265124</td>\n",
       "      <td>635.0</td>\n",
       "      <td>POLYGON ((-88.26308 42.06686, -88.26272 41.986...</td>\n",
       "    </tr>\n",
       "    <tr>\n",
       "      <th>geoId/48201</th>\n",
       "      <td>1090</td>\n",
       "      <td>2</td>\n",
       "      <td>Harris County</td>\n",
       "      <td>county</td>\n",
       "      <td>TX</td>\n",
       "      <td>TX</td>\n",
       "      <td>Houston-The Woodlands-Sugar Land, TX</td>\n",
       "      <td>48</td>\n",
       "      <td>201</td>\n",
       "      <td>109327.540062</td>\n",
       "      <td>...</td>\n",
       "      <td>283161.721769</td>\n",
       "      <td>282792.559444</td>\n",
       "      <td>282454.169156</td>\n",
       "      <td>282239.614216</td>\n",
       "      <td>281873.680565</td>\n",
       "      <td>281423.466788</td>\n",
       "      <td>281191.554410</td>\n",
       "      <td>281000.895149</td>\n",
       "      <td>2362.0</td>\n",
       "      <td>POLYGON ((-95.96052 30.16368, -95.92658 30.068...</td>\n",
       "    </tr>\n",
       "    <tr>\n",
       "      <th>geoId/04013</th>\n",
       "      <td>2402</td>\n",
       "      <td>3</td>\n",
       "      <td>Maricopa County</td>\n",
       "      <td>county</td>\n",
       "      <td>AZ</td>\n",
       "      <td>AZ</td>\n",
       "      <td>Phoenix-Mesa-Chandler, AZ</td>\n",
       "      <td>04</td>\n",
       "      <td>013</td>\n",
       "      <td>142829.577207</td>\n",
       "      <td>...</td>\n",
       "      <td>469164.401050</td>\n",
       "      <td>468562.421846</td>\n",
       "      <td>467451.263586</td>\n",
       "      <td>466509.197532</td>\n",
       "      <td>465782.610071</td>\n",
       "      <td>465120.188374</td>\n",
       "      <td>464544.544452</td>\n",
       "      <td>463613.340231</td>\n",
       "      <td>88.0</td>\n",
       "      <td>POLYGON ((-113.33376 33.99923, -113.33389 32.5...</td>\n",
       "    </tr>\n",
       "    <tr>\n",
       "      <th>geoId/06073</th>\n",
       "      <td>2841</td>\n",
       "      <td>4</td>\n",
       "      <td>San Diego County</td>\n",
       "      <td>county</td>\n",
       "      <td>CA</td>\n",
       "      <td>CA</td>\n",
       "      <td>San Diego-Chula Vista-Carlsbad, CA</td>\n",
       "      <td>06</td>\n",
       "      <td>073</td>\n",
       "      <td>212384.876155</td>\n",
       "      <td>...</td>\n",
       "      <td>931835.812500</td>\n",
       "      <td>933267.733074</td>\n",
       "      <td>932833.552309</td>\n",
       "      <td>932389.735948</td>\n",
       "      <td>931683.464702</td>\n",
       "      <td>931874.623336</td>\n",
       "      <td>932380.083872</td>\n",
       "      <td>932486.305190</td>\n",
       "      <td>212.0</td>\n",
       "      <td>POLYGON ((-117.61109 33.33401, -117.57155 33.3...</td>\n",
       "    </tr>\n",
       "    <tr>\n",
       "      <th>...</th>\n",
       "      <td>...</td>\n",
       "      <td>...</td>\n",
       "      <td>...</td>\n",
       "      <td>...</td>\n",
       "      <td>...</td>\n",
       "      <td>...</td>\n",
       "      <td>...</td>\n",
       "      <td>...</td>\n",
       "      <td>...</td>\n",
       "      <td>...</td>\n",
       "      <td>...</td>\n",
       "      <td>...</td>\n",
       "      <td>...</td>\n",
       "      <td>...</td>\n",
       "      <td>...</td>\n",
       "      <td>...</td>\n",
       "      <td>...</td>\n",
       "      <td>...</td>\n",
       "      <td>...</td>\n",
       "      <td>...</td>\n",
       "      <td>...</td>\n",
       "    </tr>\n",
       "    <tr>\n",
       "      <th>geoId/31007</th>\n",
       "      <td>846</td>\n",
       "      <td>3206</td>\n",
       "      <td>Banner County</td>\n",
       "      <td>county</td>\n",
       "      <td>NE</td>\n",
       "      <td>NE</td>\n",
       "      <td>Scottsbluff, NE</td>\n",
       "      <td>31</td>\n",
       "      <td>007</td>\n",
       "      <td>NaN</td>\n",
       "      <td>...</td>\n",
       "      <td>321838.022818</td>\n",
       "      <td>323894.525181</td>\n",
       "      <td>330340.241603</td>\n",
       "      <td>340048.056447</td>\n",
       "      <td>348255.690352</td>\n",
       "      <td>351834.125302</td>\n",
       "      <td>356282.247220</td>\n",
       "      <td>361271.153620</td>\n",
       "      <td>1577.0</td>\n",
       "      <td>POLYGON ((-104.0527 41.69797, -104.0523 41.393...</td>\n",
       "    </tr>\n",
       "    <tr>\n",
       "      <th>geoId/49009</th>\n",
       "      <td>1648</td>\n",
       "      <td>3207</td>\n",
       "      <td>Daggett County</td>\n",
       "      <td>county</td>\n",
       "      <td>UT</td>\n",
       "      <td>UT</td>\n",
       "      <td>NaN</td>\n",
       "      <td>49</td>\n",
       "      <td>009</td>\n",
       "      <td>NaN</td>\n",
       "      <td>...</td>\n",
       "      <td>308761.377915</td>\n",
       "      <td>306617.625821</td>\n",
       "      <td>306556.018166</td>\n",
       "      <td>308889.348086</td>\n",
       "      <td>313334.046432</td>\n",
       "      <td>316926.936602</td>\n",
       "      <td>320636.922888</td>\n",
       "      <td>323907.317207</td>\n",
       "      <td>2519.0</td>\n",
       "      <td>POLYGON ((-110.00028 40.81368, -109.99332 40.8...</td>\n",
       "    </tr>\n",
       "    <tr>\n",
       "      <th>geoId/31171</th>\n",
       "      <td>1432</td>\n",
       "      <td>3208</td>\n",
       "      <td>Thomas County</td>\n",
       "      <td>county</td>\n",
       "      <td>NE</td>\n",
       "      <td>NE</td>\n",
       "      <td>NaN</td>\n",
       "      <td>31</td>\n",
       "      <td>171</td>\n",
       "      <td>NaN</td>\n",
       "      <td>...</td>\n",
       "      <td>160305.518515</td>\n",
       "      <td>160113.204884</td>\n",
       "      <td>160637.460741</td>\n",
       "      <td>161362.378182</td>\n",
       "      <td>162603.377093</td>\n",
       "      <td>162802.298298</td>\n",
       "      <td>162976.347349</td>\n",
       "      <td>162721.311102</td>\n",
       "      <td>1586.0</td>\n",
       "      <td>POLYGON ((-100.84611 42.08818, -100.84436 41.9...</td>\n",
       "    </tr>\n",
       "    <tr>\n",
       "      <th>geoId/31117</th>\n",
       "      <td>2794</td>\n",
       "      <td>3212</td>\n",
       "      <td>McPherson County</td>\n",
       "      <td>county</td>\n",
       "      <td>NE</td>\n",
       "      <td>NE</td>\n",
       "      <td>North Platte, NE</td>\n",
       "      <td>31</td>\n",
       "      <td>117</td>\n",
       "      <td>NaN</td>\n",
       "      <td>...</td>\n",
       "      <td>288823.914423</td>\n",
       "      <td>291261.158616</td>\n",
       "      <td>298216.019609</td>\n",
       "      <td>308135.413909</td>\n",
       "      <td>317357.571317</td>\n",
       "      <td>322473.200324</td>\n",
       "      <td>328341.338278</td>\n",
       "      <td>331465.598015</td>\n",
       "      <td>1574.0</td>\n",
       "      <td>POLYGON ((-101.40612 41.74321, -101.40724 41.3...</td>\n",
       "    </tr>\n",
       "    <tr>\n",
       "      <th>geoId/30069</th>\n",
       "      <td>2825</td>\n",
       "      <td>3214</td>\n",
       "      <td>Petroleum County</td>\n",
       "      <td>county</td>\n",
       "      <td>MT</td>\n",
       "      <td>MT</td>\n",
       "      <td>NaN</td>\n",
       "      <td>30</td>\n",
       "      <td>069</td>\n",
       "      <td>NaN</td>\n",
       "      <td>...</td>\n",
       "      <td>186905.628454</td>\n",
       "      <td>186885.190954</td>\n",
       "      <td>188831.845652</td>\n",
       "      <td>191958.311933</td>\n",
       "      <td>196730.120070</td>\n",
       "      <td>200622.782446</td>\n",
       "      <td>205937.339516</td>\n",
       "      <td>210134.086763</td>\n",
       "      <td>1527.0</td>\n",
       "      <td>POLYGON ((-108.73686 47.09823, -108.60894 47.0...</td>\n",
       "    </tr>\n",
       "  </tbody>\n",
       "</table>\n",
       "<p>3073 rows × 312 columns</p>\n",
       "</div>"
      ],
      "text/plain": [
       "             RegionID  SizeRank          RegionName RegionType StateName  \\\n",
       "geoId/06037      3101         0  Los Angeles County     county        CA   \n",
       "geoId/17031       139         1         Cook County     county        IL   \n",
       "geoId/48201      1090         2       Harris County     county        TX   \n",
       "geoId/04013      2402         3     Maricopa County     county        AZ   \n",
       "geoId/06073      2841         4    San Diego County     county        CA   \n",
       "...               ...       ...                 ...        ...       ...   \n",
       "geoId/31007       846      3206       Banner County     county        NE   \n",
       "geoId/49009      1648      3207      Daggett County     county        UT   \n",
       "geoId/31171      1432      3208       Thomas County     county        NE   \n",
       "geoId/31117      2794      3212    McPherson County     county        NE   \n",
       "geoId/30069      2825      3214    Petroleum County     county        MT   \n",
       "\n",
       "            State                                 Metro StateCodeFIPS  \\\n",
       "geoId/06037    CA    Los Angeles-Long Beach-Anaheim, CA            06   \n",
       "geoId/17031    IL    Chicago-Naperville-Elgin, IL-IN-WI            17   \n",
       "geoId/48201    TX  Houston-The Woodlands-Sugar Land, TX            48   \n",
       "geoId/04013    AZ             Phoenix-Mesa-Chandler, AZ            04   \n",
       "geoId/06073    CA    San Diego-Chula Vista-Carlsbad, CA            06   \n",
       "...           ...                                   ...           ...   \n",
       "geoId/31007    NE                       Scottsbluff, NE            31   \n",
       "geoId/49009    UT                                   NaN            49   \n",
       "geoId/31171    NE                                   NaN            31   \n",
       "geoId/31117    NE                      North Platte, NE            31   \n",
       "geoId/30069    MT                                   NaN            30   \n",
       "\n",
       "            MunicipalCodeFIPS     2000-01-31  ...     2024-06-30  \\\n",
       "geoId/06037               037  206685.940073  ...  853328.259951   \n",
       "geoId/17031               031  145737.060609  ...  300652.787054   \n",
       "geoId/48201               201  109327.540062  ...  283161.721769   \n",
       "geoId/04013               013  142829.577207  ...  469164.401050   \n",
       "geoId/06073               073  212384.876155  ...  931835.812500   \n",
       "...                       ...            ...  ...            ...   \n",
       "geoId/31007               007            NaN  ...  321838.022818   \n",
       "geoId/49009               009            NaN  ...  308761.377915   \n",
       "geoId/31171               171            NaN  ...  160305.518515   \n",
       "geoId/31117               117            NaN  ...  288823.914423   \n",
       "geoId/30069               069            NaN  ...  186905.628454   \n",
       "\n",
       "                2024-07-31     2024-08-31     2024-09-30     2024-10-31  \\\n",
       "geoId/06037  856958.247702  862129.887015  868712.125738  873819.306305   \n",
       "geoId/17031  301303.254592  302118.600852  302781.699599  303133.869223   \n",
       "geoId/48201  282792.559444  282454.169156  282239.614216  281873.680565   \n",
       "geoId/04013  468562.421846  467451.263586  466509.197532  465782.610071   \n",
       "geoId/06073  933267.733074  932833.552309  932389.735948  931683.464702   \n",
       "...                    ...            ...            ...            ...   \n",
       "geoId/31007  323894.525181  330340.241603  340048.056447  348255.690352   \n",
       "geoId/49009  306617.625821  306556.018166  308889.348086  313334.046432   \n",
       "geoId/31171  160113.204884  160637.460741  161362.378182  162603.377093   \n",
       "geoId/31117  291261.158616  298216.019609  308135.413909  317357.571317   \n",
       "geoId/30069  186885.190954  188831.845652  191958.311933  196730.120070   \n",
       "\n",
       "                2024-11-30     2024-12-31     2025-01-31   index  \\\n",
       "geoId/06037  877921.805494  881313.863788  880547.372613   218.0   \n",
       "geoId/17031  303523.016515  304181.858348  305000.265124   635.0   \n",
       "geoId/48201  281423.466788  281191.554410  281000.895149  2362.0   \n",
       "geoId/04013  465120.188374  464544.544452  463613.340231    88.0   \n",
       "geoId/06073  931874.623336  932380.083872  932486.305190   212.0   \n",
       "...                    ...            ...            ...     ...   \n",
       "geoId/31007  351834.125302  356282.247220  361271.153620  1577.0   \n",
       "geoId/49009  316926.936602  320636.922888  323907.317207  2519.0   \n",
       "geoId/31171  162802.298298  162976.347349  162721.311102  1586.0   \n",
       "geoId/31117  322473.200324  328341.338278  331465.598015  1574.0   \n",
       "geoId/30069  200622.782446  205937.339516  210134.086763  1527.0   \n",
       "\n",
       "                                                      geometry  \n",
       "geoId/06037  MULTIPOLYGON (((-118.67855 33.02634, -118.6748...  \n",
       "geoId/17031  POLYGON ((-88.26308 42.06686, -88.26272 41.986...  \n",
       "geoId/48201  POLYGON ((-95.96052 30.16368, -95.92658 30.068...  \n",
       "geoId/04013  POLYGON ((-113.33376 33.99923, -113.33389 32.5...  \n",
       "geoId/06073  POLYGON ((-117.61109 33.33401, -117.57155 33.3...  \n",
       "...                                                        ...  \n",
       "geoId/31007  POLYGON ((-104.0527 41.69797, -104.0523 41.393...  \n",
       "geoId/49009  POLYGON ((-110.00028 40.81368, -109.99332 40.8...  \n",
       "geoId/31171  POLYGON ((-100.84611 42.08818, -100.84436 41.9...  \n",
       "geoId/31117  POLYGON ((-101.40612 41.74321, -101.40724 41.3...  \n",
       "geoId/30069  POLYGON ((-108.73686 47.09823, -108.60894 47.0...  \n",
       "\n",
       "[3073 rows x 312 columns]"
      ]
     },
     "execution_count": 6,
     "metadata": {},
     "output_type": "execute_result"
    }
   ],
   "source": [
    "df= zhvi_df.join(county_gdf)\n",
    "df"
   ]
  },
  {
   "cell_type": "code",
   "execution_count": 7,
   "id": "dc11ef66",
   "metadata": {},
   "outputs": [
    {
     "data": {
      "text/html": [
       "<div>\n",
       "<style scoped>\n",
       "    .dataframe tbody tr th:only-of-type {\n",
       "        vertical-align: middle;\n",
       "    }\n",
       "\n",
       "    .dataframe tbody tr th {\n",
       "        vertical-align: top;\n",
       "    }\n",
       "\n",
       "    .dataframe thead th {\n",
       "        text-align: right;\n",
       "    }\n",
       "</style>\n",
       "<table border=\"1\" class=\"dataframe\">\n",
       "  <thead>\n",
       "    <tr style=\"text-align: right;\">\n",
       "      <th></th>\n",
       "      <th>RegionID</th>\n",
       "      <th>SizeRank</th>\n",
       "      <th>RegionName</th>\n",
       "      <th>RegionType</th>\n",
       "      <th>StateName</th>\n",
       "      <th>State</th>\n",
       "      <th>Metro</th>\n",
       "      <th>StateCodeFIPS</th>\n",
       "      <th>MunicipalCodeFIPS</th>\n",
       "      <th>2000-01-31</th>\n",
       "      <th>...</th>\n",
       "      <th>2024-06-30</th>\n",
       "      <th>2024-07-31</th>\n",
       "      <th>2024-08-31</th>\n",
       "      <th>2024-09-30</th>\n",
       "      <th>2024-10-31</th>\n",
       "      <th>2024-11-30</th>\n",
       "      <th>2024-12-31</th>\n",
       "      <th>2025-01-31</th>\n",
       "      <th>index</th>\n",
       "      <th>geometry</th>\n",
       "    </tr>\n",
       "  </thead>\n",
       "  <tbody>\n",
       "    <tr>\n",
       "      <th>geoId/06037</th>\n",
       "      <td>3101</td>\n",
       "      <td>0</td>\n",
       "      <td>Los Angeles County</td>\n",
       "      <td>county</td>\n",
       "      <td>CA</td>\n",
       "      <td>CA</td>\n",
       "      <td>Los Angeles-Long Beach-Anaheim, CA</td>\n",
       "      <td>06</td>\n",
       "      <td>037</td>\n",
       "      <td>206685.940073</td>\n",
       "      <td>...</td>\n",
       "      <td>853328.259951</td>\n",
       "      <td>856958.247702</td>\n",
       "      <td>862129.887015</td>\n",
       "      <td>868712.125738</td>\n",
       "      <td>873819.306305</td>\n",
       "      <td>877921.805494</td>\n",
       "      <td>881313.863788</td>\n",
       "      <td>880547.372613</td>\n",
       "      <td>218.0</td>\n",
       "      <td>MULTIPOLYGON (((-118.67855 33.02634, -118.6748...</td>\n",
       "    </tr>\n",
       "    <tr>\n",
       "      <th>geoId/17031</th>\n",
       "      <td>139</td>\n",
       "      <td>1</td>\n",
       "      <td>Cook County</td>\n",
       "      <td>county</td>\n",
       "      <td>IL</td>\n",
       "      <td>IL</td>\n",
       "      <td>Chicago-Naperville-Elgin, IL-IN-WI</td>\n",
       "      <td>17</td>\n",
       "      <td>031</td>\n",
       "      <td>145737.060609</td>\n",
       "      <td>...</td>\n",
       "      <td>300652.787054</td>\n",
       "      <td>301303.254592</td>\n",
       "      <td>302118.600852</td>\n",
       "      <td>302781.699599</td>\n",
       "      <td>303133.869223</td>\n",
       "      <td>303523.016515</td>\n",
       "      <td>304181.858348</td>\n",
       "      <td>305000.265124</td>\n",
       "      <td>635.0</td>\n",
       "      <td>POLYGON ((-88.26308 42.06686, -88.26272 41.986...</td>\n",
       "    </tr>\n",
       "    <tr>\n",
       "      <th>geoId/48201</th>\n",
       "      <td>1090</td>\n",
       "      <td>2</td>\n",
       "      <td>Harris County</td>\n",
       "      <td>county</td>\n",
       "      <td>TX</td>\n",
       "      <td>TX</td>\n",
       "      <td>Houston-The Woodlands-Sugar Land, TX</td>\n",
       "      <td>48</td>\n",
       "      <td>201</td>\n",
       "      <td>109327.540062</td>\n",
       "      <td>...</td>\n",
       "      <td>283161.721769</td>\n",
       "      <td>282792.559444</td>\n",
       "      <td>282454.169156</td>\n",
       "      <td>282239.614216</td>\n",
       "      <td>281873.680565</td>\n",
       "      <td>281423.466788</td>\n",
       "      <td>281191.554410</td>\n",
       "      <td>281000.895149</td>\n",
       "      <td>2362.0</td>\n",
       "      <td>POLYGON ((-95.96052 30.16368, -95.92658 30.068...</td>\n",
       "    </tr>\n",
       "    <tr>\n",
       "      <th>geoId/04013</th>\n",
       "      <td>2402</td>\n",
       "      <td>3</td>\n",
       "      <td>Maricopa County</td>\n",
       "      <td>county</td>\n",
       "      <td>AZ</td>\n",
       "      <td>AZ</td>\n",
       "      <td>Phoenix-Mesa-Chandler, AZ</td>\n",
       "      <td>04</td>\n",
       "      <td>013</td>\n",
       "      <td>142829.577207</td>\n",
       "      <td>...</td>\n",
       "      <td>469164.401050</td>\n",
       "      <td>468562.421846</td>\n",
       "      <td>467451.263586</td>\n",
       "      <td>466509.197532</td>\n",
       "      <td>465782.610071</td>\n",
       "      <td>465120.188374</td>\n",
       "      <td>464544.544452</td>\n",
       "      <td>463613.340231</td>\n",
       "      <td>88.0</td>\n",
       "      <td>POLYGON ((-113.33376 33.99923, -113.33389 32.5...</td>\n",
       "    </tr>\n",
       "    <tr>\n",
       "      <th>geoId/06073</th>\n",
       "      <td>2841</td>\n",
       "      <td>4</td>\n",
       "      <td>San Diego County</td>\n",
       "      <td>county</td>\n",
       "      <td>CA</td>\n",
       "      <td>CA</td>\n",
       "      <td>San Diego-Chula Vista-Carlsbad, CA</td>\n",
       "      <td>06</td>\n",
       "      <td>073</td>\n",
       "      <td>212384.876155</td>\n",
       "      <td>...</td>\n",
       "      <td>931835.812500</td>\n",
       "      <td>933267.733074</td>\n",
       "      <td>932833.552309</td>\n",
       "      <td>932389.735948</td>\n",
       "      <td>931683.464702</td>\n",
       "      <td>931874.623336</td>\n",
       "      <td>932380.083872</td>\n",
       "      <td>932486.305190</td>\n",
       "      <td>212.0</td>\n",
       "      <td>POLYGON ((-117.61109 33.33401, -117.57155 33.3...</td>\n",
       "    </tr>\n",
       "  </tbody>\n",
       "</table>\n",
       "<p>5 rows × 312 columns</p>\n",
       "</div>"
      ],
      "text/plain": [
       "             RegionID  SizeRank          RegionName RegionType StateName  \\\n",
       "geoId/06037      3101         0  Los Angeles County     county        CA   \n",
       "geoId/17031       139         1         Cook County     county        IL   \n",
       "geoId/48201      1090         2       Harris County     county        TX   \n",
       "geoId/04013      2402         3     Maricopa County     county        AZ   \n",
       "geoId/06073      2841         4    San Diego County     county        CA   \n",
       "\n",
       "            State                                 Metro StateCodeFIPS  \\\n",
       "geoId/06037    CA    Los Angeles-Long Beach-Anaheim, CA            06   \n",
       "geoId/17031    IL    Chicago-Naperville-Elgin, IL-IN-WI            17   \n",
       "geoId/48201    TX  Houston-The Woodlands-Sugar Land, TX            48   \n",
       "geoId/04013    AZ             Phoenix-Mesa-Chandler, AZ            04   \n",
       "geoId/06073    CA    San Diego-Chula Vista-Carlsbad, CA            06   \n",
       "\n",
       "            MunicipalCodeFIPS     2000-01-31  ...     2024-06-30  \\\n",
       "geoId/06037               037  206685.940073  ...  853328.259951   \n",
       "geoId/17031               031  145737.060609  ...  300652.787054   \n",
       "geoId/48201               201  109327.540062  ...  283161.721769   \n",
       "geoId/04013               013  142829.577207  ...  469164.401050   \n",
       "geoId/06073               073  212384.876155  ...  931835.812500   \n",
       "\n",
       "                2024-07-31     2024-08-31     2024-09-30     2024-10-31  \\\n",
       "geoId/06037  856958.247702  862129.887015  868712.125738  873819.306305   \n",
       "geoId/17031  301303.254592  302118.600852  302781.699599  303133.869223   \n",
       "geoId/48201  282792.559444  282454.169156  282239.614216  281873.680565   \n",
       "geoId/04013  468562.421846  467451.263586  466509.197532  465782.610071   \n",
       "geoId/06073  933267.733074  932833.552309  932389.735948  931683.464702   \n",
       "\n",
       "                2024-11-30     2024-12-31     2025-01-31   index  \\\n",
       "geoId/06037  877921.805494  881313.863788  880547.372613   218.0   \n",
       "geoId/17031  303523.016515  304181.858348  305000.265124   635.0   \n",
       "geoId/48201  281423.466788  281191.554410  281000.895149  2362.0   \n",
       "geoId/04013  465120.188374  464544.544452  463613.340231    88.0   \n",
       "geoId/06073  931874.623336  932380.083872  932486.305190   212.0   \n",
       "\n",
       "                                                      geometry  \n",
       "geoId/06037  MULTIPOLYGON (((-118.67855 33.02634, -118.6748...  \n",
       "geoId/17031  POLYGON ((-88.26308 42.06686, -88.26272 41.986...  \n",
       "geoId/48201  POLYGON ((-95.96052 30.16368, -95.92658 30.068...  \n",
       "geoId/04013  POLYGON ((-113.33376 33.99923, -113.33389 32.5...  \n",
       "geoId/06073  POLYGON ((-117.61109 33.33401, -117.57155 33.3...  \n",
       "\n",
       "[5 rows x 312 columns]"
      ]
     },
     "execution_count": 7,
     "metadata": {},
     "output_type": "execute_result"
    }
   ],
   "source": [
    "zhvi_gdf = gpd.GeoDataFrame(df, geometry='geometry')\n",
    "zhvi_gdf.head()"
   ]
  },
  {
   "cell_type": "code",
   "execution_count": 8,
   "id": "f6f63a4e",
   "metadata": {},
   "outputs": [
    {
     "data": {
      "text/html": [
       "<div>\n",
       "<style scoped>\n",
       "    .dataframe tbody tr th:only-of-type {\n",
       "        vertical-align: middle;\n",
       "    }\n",
       "\n",
       "    .dataframe tbody tr th {\n",
       "        vertical-align: top;\n",
       "    }\n",
       "\n",
       "    .dataframe thead th {\n",
       "        text-align: right;\n",
       "    }\n",
       "</style>\n",
       "<table border=\"1\" class=\"dataframe\">\n",
       "  <thead>\n",
       "    <tr style=\"text-align: right;\">\n",
       "      <th></th>\n",
       "      <th>RegionName</th>\n",
       "      <th>State</th>\n",
       "      <th>2024-10-31</th>\n",
       "      <th>geometry</th>\n",
       "    </tr>\n",
       "  </thead>\n",
       "  <tbody>\n",
       "    <tr>\n",
       "      <th>geoId/06037</th>\n",
       "      <td>Los Angeles County</td>\n",
       "      <td>CA</td>\n",
       "      <td>873819.306305</td>\n",
       "      <td>MULTIPOLYGON (((-118.67855 33.02634, -118.6748...</td>\n",
       "    </tr>\n",
       "    <tr>\n",
       "      <th>geoId/17031</th>\n",
       "      <td>Cook County</td>\n",
       "      <td>IL</td>\n",
       "      <td>303133.869223</td>\n",
       "      <td>POLYGON ((-88.26308 42.06686, -88.26272 41.986...</td>\n",
       "    </tr>\n",
       "    <tr>\n",
       "      <th>geoId/48201</th>\n",
       "      <td>Harris County</td>\n",
       "      <td>TX</td>\n",
       "      <td>281873.680565</td>\n",
       "      <td>POLYGON ((-95.96052 30.16368, -95.92658 30.068...</td>\n",
       "    </tr>\n",
       "    <tr>\n",
       "      <th>geoId/04013</th>\n",
       "      <td>Maricopa County</td>\n",
       "      <td>AZ</td>\n",
       "      <td>465782.610071</td>\n",
       "      <td>POLYGON ((-113.33376 33.99923, -113.33389 32.5...</td>\n",
       "    </tr>\n",
       "    <tr>\n",
       "      <th>geoId/06073</th>\n",
       "      <td>San Diego County</td>\n",
       "      <td>CA</td>\n",
       "      <td>931683.464702</td>\n",
       "      <td>POLYGON ((-117.61109 33.33401, -117.57155 33.3...</td>\n",
       "    </tr>\n",
       "  </tbody>\n",
       "</table>\n",
       "</div>"
      ],
      "text/plain": [
       "                     RegionName State     2024-10-31  \\\n",
       "geoId/06037  Los Angeles County    CA  873819.306305   \n",
       "geoId/17031         Cook County    IL  303133.869223   \n",
       "geoId/48201       Harris County    TX  281873.680565   \n",
       "geoId/04013     Maricopa County    AZ  465782.610071   \n",
       "geoId/06073    San Diego County    CA  931683.464702   \n",
       "\n",
       "                                                      geometry  \n",
       "geoId/06037  MULTIPOLYGON (((-118.67855 33.02634, -118.6748...  \n",
       "geoId/17031  POLYGON ((-88.26308 42.06686, -88.26272 41.986...  \n",
       "geoId/48201  POLYGON ((-95.96052 30.16368, -95.92658 30.068...  \n",
       "geoId/04013  POLYGON ((-113.33376 33.99923, -113.33389 32.5...  \n",
       "geoId/06073  POLYGON ((-117.61109 33.33401, -117.57155 33.3...  "
      ]
     },
     "execution_count": 8,
     "metadata": {},
     "output_type": "execute_result"
    }
   ],
   "source": [
    "column= \"2024-10-31\"\n",
    "gdf= zhvi_gdf[[\"RegionName\",\"State\", column, \"geometry\"]]\n",
    "gdf.head()"
   ]
  },
  {
   "cell_type": "code",
   "execution_count": 9,
   "id": "c011c8fc",
   "metadata": {},
   "outputs": [
    {
     "data": {
      "application/vnd.jupyter.widget-view+json": {
       "model_id": "8afed91e590c46cfbadc6d271acf9112",
       "version_major": 2,
       "version_minor": 0
      },
      "text/plain": [
       "Container(children=[Row(children=[Col(children=[Map(calls=[['addControl', ('NavigationControl', {'showCompass'…"
      ]
     },
     "metadata": {},
     "output_type": "display_data"
    }
   ],
   "source": [
    "m=leafmap.Map(style=\"liberty\")\n",
    "m.add_data(\n",
    "    gdf,\n",
    "    cmap=\"Blues\",\n",
    "    column=column,\n",
    "    legend_title=\"Zillow Home Median Home Value\",\n",
    "    name=\"Zillow Home Median Home Value\",\n",
    ")\n",
    "m.add_layer_control()\n",
    "m"
   ]
  },
  {
   "cell_type": "code",
   "execution_count": 10,
   "id": "a26c9f0c",
   "metadata": {},
   "outputs": [
    {
     "data": {
      "application/vnd.jupyter.widget-view+json": {
       "model_id": "73fa6c11e7724e3cabefe692835a12c6",
       "version_major": 2,
       "version_minor": 0
      },
      "text/plain": [
       "Container(children=[Row(children=[Col(children=[Map(calls=[['addControl', ('NavigationControl', {'showCompass'…"
      ]
     },
     "metadata": {},
     "output_type": "display_data"
    }
   ],
   "source": [
    "m= leafmap.Map(style=\"liberty\", pitch= 60)\n",
    "m.add_data(\n",
    "    gdf,\n",
    "    cmap=\"Blues\",\n",
    "    column=column,\n",
    "    extrude=True,\n",
    "    scale_factor= 3,\n",
    "    legend_title=\"Zillow Home Median Home Value\",\n",
    "    name=\"Zillow Home Median Home Value\",\n",
    ")\n",
    "m.add_layer_control()\n",
    "m"
   ]
  },
  {
   "cell_type": "code",
   "execution_count": 11,
   "id": "057ad6a8",
   "metadata": {},
   "outputs": [
    {
     "data": {
      "text/html": [
       "<div>\n",
       "<style scoped>\n",
       "    .dataframe tbody tr th:only-of-type {\n",
       "        vertical-align: middle;\n",
       "    }\n",
       "\n",
       "    .dataframe tbody tr th {\n",
       "        vertical-align: top;\n",
       "    }\n",
       "\n",
       "    .dataframe thead th {\n",
       "        text-align: right;\n",
       "    }\n",
       "</style>\n",
       "<table border=\"1\" class=\"dataframe\">\n",
       "  <thead>\n",
       "    <tr style=\"text-align: right;\">\n",
       "      <th></th>\n",
       "      <th>state</th>\n",
       "      <th>county</th>\n",
       "      <th>population</th>\n",
       "      <th>latitude</th>\n",
       "      <th>longitude</th>\n",
       "      <th>feature0</th>\n",
       "      <th>feature1</th>\n",
       "      <th>feature2</th>\n",
       "      <th>feature3</th>\n",
       "      <th>feature4</th>\n",
       "      <th>...</th>\n",
       "      <th>feature320</th>\n",
       "      <th>feature321</th>\n",
       "      <th>feature322</th>\n",
       "      <th>feature323</th>\n",
       "      <th>feature324</th>\n",
       "      <th>feature325</th>\n",
       "      <th>feature326</th>\n",
       "      <th>feature327</th>\n",
       "      <th>feature328</th>\n",
       "      <th>feature329</th>\n",
       "    </tr>\n",
       "    <tr>\n",
       "      <th>place</th>\n",
       "      <th></th>\n",
       "      <th></th>\n",
       "      <th></th>\n",
       "      <th></th>\n",
       "      <th></th>\n",
       "      <th></th>\n",
       "      <th></th>\n",
       "      <th></th>\n",
       "      <th></th>\n",
       "      <th></th>\n",
       "      <th></th>\n",
       "      <th></th>\n",
       "      <th></th>\n",
       "      <th></th>\n",
       "      <th></th>\n",
       "      <th></th>\n",
       "      <th></th>\n",
       "      <th></th>\n",
       "      <th></th>\n",
       "      <th></th>\n",
       "      <th></th>\n",
       "    </tr>\n",
       "  </thead>\n",
       "  <tbody>\n",
       "    <tr>\n",
       "      <th>geoId/01001</th>\n",
       "      <td>AL</td>\n",
       "      <td>Autauga County</td>\n",
       "      <td>58761</td>\n",
       "      <td>32.532237</td>\n",
       "      <td>-86.646439</td>\n",
       "      <td>-0.059204</td>\n",
       "      <td>1.153834</td>\n",
       "      <td>0.286746</td>\n",
       "      <td>0.324178</td>\n",
       "      <td>1.003599</td>\n",
       "      <td>...</td>\n",
       "      <td>-0.059415</td>\n",
       "      <td>-0.165617</td>\n",
       "      <td>0.816348</td>\n",
       "      <td>-0.167234</td>\n",
       "      <td>2.099072</td>\n",
       "      <td>-0.168644</td>\n",
       "      <td>1.155944</td>\n",
       "      <td>1.620912</td>\n",
       "      <td>-0.089127</td>\n",
       "      <td>4.831956</td>\n",
       "    </tr>\n",
       "    <tr>\n",
       "      <th>geoId/01003</th>\n",
       "      <td>AL</td>\n",
       "      <td>Baldwin County</td>\n",
       "      <td>233420</td>\n",
       "      <td>30.659218</td>\n",
       "      <td>-87.746067</td>\n",
       "      <td>-0.089298</td>\n",
       "      <td>0.710666</td>\n",
       "      <td>0.358453</td>\n",
       "      <td>1.138983</td>\n",
       "      <td>2.012795</td>\n",
       "      <td>...</td>\n",
       "      <td>-0.167371</td>\n",
       "      <td>0.049021</td>\n",
       "      <td>0.892724</td>\n",
       "      <td>-0.061048</td>\n",
       "      <td>2.791007</td>\n",
       "      <td>-0.166232</td>\n",
       "      <td>0.276117</td>\n",
       "      <td>2.892894</td>\n",
       "      <td>-0.128016</td>\n",
       "      <td>4.151655</td>\n",
       "    </tr>\n",
       "    <tr>\n",
       "      <th>geoId/01005</th>\n",
       "      <td>AL</td>\n",
       "      <td>Barbour County</td>\n",
       "      <td>24877</td>\n",
       "      <td>31.870253</td>\n",
       "      <td>-85.405103</td>\n",
       "      <td>-0.089458</td>\n",
       "      <td>1.756277</td>\n",
       "      <td>0.749515</td>\n",
       "      <td>0.796651</td>\n",
       "      <td>0.555815</td>\n",
       "      <td>...</td>\n",
       "      <td>-0.110057</td>\n",
       "      <td>-0.013691</td>\n",
       "      <td>0.346536</td>\n",
       "      <td>-0.106772</td>\n",
       "      <td>2.986117</td>\n",
       "      <td>-0.104402</td>\n",
       "      <td>-0.059600</td>\n",
       "      <td>1.893656</td>\n",
       "      <td>-0.147867</td>\n",
       "      <td>0.032731</td>\n",
       "    </tr>\n",
       "    <tr>\n",
       "      <th>geoId/01007</th>\n",
       "      <td>AL</td>\n",
       "      <td>Bibb County</td>\n",
       "      <td>22251</td>\n",
       "      <td>33.015893</td>\n",
       "      <td>-87.127148</td>\n",
       "      <td>-0.117877</td>\n",
       "      <td>0.725561</td>\n",
       "      <td>0.436291</td>\n",
       "      <td>0.307150</td>\n",
       "      <td>1.347822</td>\n",
       "      <td>...</td>\n",
       "      <td>-0.169970</td>\n",
       "      <td>-0.168179</td>\n",
       "      <td>1.796390</td>\n",
       "      <td>-0.128314</td>\n",
       "      <td>1.395750</td>\n",
       "      <td>-0.084409</td>\n",
       "      <td>3.489884</td>\n",
       "      <td>1.249768</td>\n",
       "      <td>-0.028330</td>\n",
       "      <td>4.688914</td>\n",
       "    </tr>\n",
       "    <tr>\n",
       "      <th>geoId/01009</th>\n",
       "      <td>AL</td>\n",
       "      <td>Blount County</td>\n",
       "      <td>59077</td>\n",
       "      <td>33.977357</td>\n",
       "      <td>-86.566440</td>\n",
       "      <td>-0.133150</td>\n",
       "      <td>0.648858</td>\n",
       "      <td>0.592053</td>\n",
       "      <td>0.382824</td>\n",
       "      <td>1.486730</td>\n",
       "      <td>...</td>\n",
       "      <td>-0.167436</td>\n",
       "      <td>0.689164</td>\n",
       "      <td>2.527887</td>\n",
       "      <td>-0.045288</td>\n",
       "      <td>0.530547</td>\n",
       "      <td>-0.156357</td>\n",
       "      <td>1.227069</td>\n",
       "      <td>1.439654</td>\n",
       "      <td>-0.045479</td>\n",
       "      <td>3.491446</td>\n",
       "    </tr>\n",
       "  </tbody>\n",
       "</table>\n",
       "<p>5 rows × 335 columns</p>\n",
       "</div>"
      ],
      "text/plain": [
       "            state          county  population   latitude  longitude  feature0  \\\n",
       "place                                                                           \n",
       "geoId/01001    AL  Autauga County       58761  32.532237 -86.646439 -0.059204   \n",
       "geoId/01003    AL  Baldwin County      233420  30.659218 -87.746067 -0.089298   \n",
       "geoId/01005    AL  Barbour County       24877  31.870253 -85.405103 -0.089458   \n",
       "geoId/01007    AL     Bibb County       22251  33.015893 -87.127148 -0.117877   \n",
       "geoId/01009    AL   Blount County       59077  33.977357 -86.566440 -0.133150   \n",
       "\n",
       "             feature1  feature2  feature3  feature4  ...  feature320  \\\n",
       "place                                                ...               \n",
       "geoId/01001  1.153834  0.286746  0.324178  1.003599  ...   -0.059415   \n",
       "geoId/01003  0.710666  0.358453  1.138983  2.012795  ...   -0.167371   \n",
       "geoId/01005  1.756277  0.749515  0.796651  0.555815  ...   -0.110057   \n",
       "geoId/01007  0.725561  0.436291  0.307150  1.347822  ...   -0.169970   \n",
       "geoId/01009  0.648858  0.592053  0.382824  1.486730  ...   -0.167436   \n",
       "\n",
       "             feature321  feature322  feature323  feature324  feature325  \\\n",
       "place                                                                     \n",
       "geoId/01001   -0.165617    0.816348   -0.167234    2.099072   -0.168644   \n",
       "geoId/01003    0.049021    0.892724   -0.061048    2.791007   -0.166232   \n",
       "geoId/01005   -0.013691    0.346536   -0.106772    2.986117   -0.104402   \n",
       "geoId/01007   -0.168179    1.796390   -0.128314    1.395750   -0.084409   \n",
       "geoId/01009    0.689164    2.527887   -0.045288    0.530547   -0.156357   \n",
       "\n",
       "             feature326  feature327  feature328  feature329  \n",
       "place                                                        \n",
       "geoId/01001    1.155944    1.620912   -0.089127    4.831956  \n",
       "geoId/01003    0.276117    2.892894   -0.128016    4.151655  \n",
       "geoId/01005   -0.059600    1.893656   -0.147867    0.032731  \n",
       "geoId/01007    3.489884    1.249768   -0.028330    4.688914  \n",
       "geoId/01009    1.227069    1.439654   -0.045479    3.491446  \n",
       "\n",
       "[5 rows x 335 columns]"
      ]
     },
     "execution_count": 11,
     "metadata": {},
     "output_type": "execute_result"
    }
   ],
   "source": [
    "embeddings= pd.read_csv(\"/home/zyang91/Desktop/us/county_embeddings.csv\").set_index(\"place\")\n",
    "embeddings.head()"
   ]
  },
  {
   "cell_type": "code",
   "execution_count": 12,
   "id": "7795b952",
   "metadata": {},
   "outputs": [],
   "source": [
    "df= embeddings.join(county_gdf)"
   ]
  },
  {
   "cell_type": "code",
   "execution_count": 13,
   "id": "ec4d19bc",
   "metadata": {},
   "outputs": [
    {
     "data": {
      "text/html": [
       "<div>\n",
       "<style scoped>\n",
       "    .dataframe tbody tr th:only-of-type {\n",
       "        vertical-align: middle;\n",
       "    }\n",
       "\n",
       "    .dataframe tbody tr th {\n",
       "        vertical-align: top;\n",
       "    }\n",
       "\n",
       "    .dataframe thead th {\n",
       "        text-align: right;\n",
       "    }\n",
       "</style>\n",
       "<table border=\"1\" class=\"dataframe\">\n",
       "  <thead>\n",
       "    <tr style=\"text-align: right;\">\n",
       "      <th></th>\n",
       "      <th>state</th>\n",
       "      <th>county</th>\n",
       "      <th>population</th>\n",
       "      <th>latitude</th>\n",
       "      <th>longitude</th>\n",
       "      <th>feature0</th>\n",
       "      <th>feature1</th>\n",
       "      <th>feature2</th>\n",
       "      <th>feature3</th>\n",
       "      <th>feature4</th>\n",
       "      <th>...</th>\n",
       "      <th>feature322</th>\n",
       "      <th>feature323</th>\n",
       "      <th>feature324</th>\n",
       "      <th>feature325</th>\n",
       "      <th>feature326</th>\n",
       "      <th>feature327</th>\n",
       "      <th>feature328</th>\n",
       "      <th>feature329</th>\n",
       "      <th>index</th>\n",
       "      <th>geometry</th>\n",
       "    </tr>\n",
       "    <tr>\n",
       "      <th>place</th>\n",
       "      <th></th>\n",
       "      <th></th>\n",
       "      <th></th>\n",
       "      <th></th>\n",
       "      <th></th>\n",
       "      <th></th>\n",
       "      <th></th>\n",
       "      <th></th>\n",
       "      <th></th>\n",
       "      <th></th>\n",
       "      <th></th>\n",
       "      <th></th>\n",
       "      <th></th>\n",
       "      <th></th>\n",
       "      <th></th>\n",
       "      <th></th>\n",
       "      <th></th>\n",
       "      <th></th>\n",
       "      <th></th>\n",
       "      <th></th>\n",
       "      <th></th>\n",
       "    </tr>\n",
       "  </thead>\n",
       "  <tbody>\n",
       "    <tr>\n",
       "      <th>geoId/01001</th>\n",
       "      <td>AL</td>\n",
       "      <td>Autauga County</td>\n",
       "      <td>58761</td>\n",
       "      <td>32.532237</td>\n",
       "      <td>-86.646439</td>\n",
       "      <td>-0.059204</td>\n",
       "      <td>1.153834</td>\n",
       "      <td>0.286746</td>\n",
       "      <td>0.324178</td>\n",
       "      <td>1.003599</td>\n",
       "      <td>...</td>\n",
       "      <td>0.816348</td>\n",
       "      <td>-0.167234</td>\n",
       "      <td>2.099072</td>\n",
       "      <td>-0.168644</td>\n",
       "      <td>1.155944</td>\n",
       "      <td>1.620912</td>\n",
       "      <td>-0.089127</td>\n",
       "      <td>4.831956</td>\n",
       "      <td>56</td>\n",
       "      <td>POLYGON ((-86.91743 32.66417, -86.9212 32.6565...</td>\n",
       "    </tr>\n",
       "    <tr>\n",
       "      <th>geoId/01003</th>\n",
       "      <td>AL</td>\n",
       "      <td>Baldwin County</td>\n",
       "      <td>233420</td>\n",
       "      <td>30.659218</td>\n",
       "      <td>-87.746067</td>\n",
       "      <td>-0.089298</td>\n",
       "      <td>0.710666</td>\n",
       "      <td>0.358453</td>\n",
       "      <td>1.138983</td>\n",
       "      <td>2.012795</td>\n",
       "      <td>...</td>\n",
       "      <td>0.892724</td>\n",
       "      <td>-0.061048</td>\n",
       "      <td>2.791007</td>\n",
       "      <td>-0.166232</td>\n",
       "      <td>0.276117</td>\n",
       "      <td>2.892894</td>\n",
       "      <td>-0.128016</td>\n",
       "      <td>4.151655</td>\n",
       "      <td>64</td>\n",
       "      <td>MULTIPOLYGON (((-87.44728 30.51503, -87.44562 ...</td>\n",
       "    </tr>\n",
       "    <tr>\n",
       "      <th>geoId/01005</th>\n",
       "      <td>AL</td>\n",
       "      <td>Barbour County</td>\n",
       "      <td>24877</td>\n",
       "      <td>31.870253</td>\n",
       "      <td>-85.405103</td>\n",
       "      <td>-0.089458</td>\n",
       "      <td>1.756277</td>\n",
       "      <td>0.749515</td>\n",
       "      <td>0.796651</td>\n",
       "      <td>0.555815</td>\n",
       "      <td>...</td>\n",
       "      <td>0.346536</td>\n",
       "      <td>-0.106772</td>\n",
       "      <td>2.986117</td>\n",
       "      <td>-0.104402</td>\n",
       "      <td>-0.059600</td>\n",
       "      <td>1.893656</td>\n",
       "      <td>-0.147867</td>\n",
       "      <td>0.032731</td>\n",
       "      <td>51</td>\n",
       "      <td>POLYGON ((-85.74827 31.61803, -85.54881 31.618...</td>\n",
       "    </tr>\n",
       "    <tr>\n",
       "      <th>geoId/01007</th>\n",
       "      <td>AL</td>\n",
       "      <td>Bibb County</td>\n",
       "      <td>22251</td>\n",
       "      <td>33.015893</td>\n",
       "      <td>-87.127148</td>\n",
       "      <td>-0.117877</td>\n",
       "      <td>0.725561</td>\n",
       "      <td>0.436291</td>\n",
       "      <td>0.307150</td>\n",
       "      <td>1.347822</td>\n",
       "      <td>...</td>\n",
       "      <td>1.796390</td>\n",
       "      <td>-0.128314</td>\n",
       "      <td>1.395750</td>\n",
       "      <td>-0.084409</td>\n",
       "      <td>3.489884</td>\n",
       "      <td>1.249768</td>\n",
       "      <td>-0.028330</td>\n",
       "      <td>4.688914</td>\n",
       "      <td>20</td>\n",
       "      <td>POLYGON ((-87.42192 33.0034, -87.42075 32.8846...</td>\n",
       "    </tr>\n",
       "    <tr>\n",
       "      <th>geoId/01009</th>\n",
       "      <td>AL</td>\n",
       "      <td>Blount County</td>\n",
       "      <td>59077</td>\n",
       "      <td>33.977357</td>\n",
       "      <td>-86.566440</td>\n",
       "      <td>-0.133150</td>\n",
       "      <td>0.648858</td>\n",
       "      <td>0.592053</td>\n",
       "      <td>0.382824</td>\n",
       "      <td>1.486730</td>\n",
       "      <td>...</td>\n",
       "      <td>2.527887</td>\n",
       "      <td>-0.045288</td>\n",
       "      <td>0.530547</td>\n",
       "      <td>-0.156357</td>\n",
       "      <td>1.227069</td>\n",
       "      <td>1.439654</td>\n",
       "      <td>-0.045479</td>\n",
       "      <td>3.491446</td>\n",
       "      <td>15</td>\n",
       "      <td>POLYGON ((-86.96227 33.85816, -86.96294 33.844...</td>\n",
       "    </tr>\n",
       "  </tbody>\n",
       "</table>\n",
       "<p>5 rows × 337 columns</p>\n",
       "</div>"
      ],
      "text/plain": [
       "            state          county  population   latitude  longitude  feature0  \\\n",
       "place                                                                           \n",
       "geoId/01001    AL  Autauga County       58761  32.532237 -86.646439 -0.059204   \n",
       "geoId/01003    AL  Baldwin County      233420  30.659218 -87.746067 -0.089298   \n",
       "geoId/01005    AL  Barbour County       24877  31.870253 -85.405103 -0.089458   \n",
       "geoId/01007    AL     Bibb County       22251  33.015893 -87.127148 -0.117877   \n",
       "geoId/01009    AL   Blount County       59077  33.977357 -86.566440 -0.133150   \n",
       "\n",
       "             feature1  feature2  feature3  feature4  ...  feature322  \\\n",
       "place                                                ...               \n",
       "geoId/01001  1.153834  0.286746  0.324178  1.003599  ...    0.816348   \n",
       "geoId/01003  0.710666  0.358453  1.138983  2.012795  ...    0.892724   \n",
       "geoId/01005  1.756277  0.749515  0.796651  0.555815  ...    0.346536   \n",
       "geoId/01007  0.725561  0.436291  0.307150  1.347822  ...    1.796390   \n",
       "geoId/01009  0.648858  0.592053  0.382824  1.486730  ...    2.527887   \n",
       "\n",
       "             feature323  feature324  feature325  feature326  feature327  \\\n",
       "place                                                                     \n",
       "geoId/01001   -0.167234    2.099072   -0.168644    1.155944    1.620912   \n",
       "geoId/01003   -0.061048    2.791007   -0.166232    0.276117    2.892894   \n",
       "geoId/01005   -0.106772    2.986117   -0.104402   -0.059600    1.893656   \n",
       "geoId/01007   -0.128314    1.395750   -0.084409    3.489884    1.249768   \n",
       "geoId/01009   -0.045288    0.530547   -0.156357    1.227069    1.439654   \n",
       "\n",
       "             feature328  feature329  index  \\\n",
       "place                                        \n",
       "geoId/01001   -0.089127    4.831956     56   \n",
       "geoId/01003   -0.128016    4.151655     64   \n",
       "geoId/01005   -0.147867    0.032731     51   \n",
       "geoId/01007   -0.028330    4.688914     20   \n",
       "geoId/01009   -0.045479    3.491446     15   \n",
       "\n",
       "                                                      geometry  \n",
       "place                                                           \n",
       "geoId/01001  POLYGON ((-86.91743 32.66417, -86.9212 32.6565...  \n",
       "geoId/01003  MULTIPOLYGON (((-87.44728 30.51503, -87.44562 ...  \n",
       "geoId/01005  POLYGON ((-85.74827 31.61803, -85.54881 31.618...  \n",
       "geoId/01007  POLYGON ((-87.42192 33.0034, -87.42075 32.8846...  \n",
       "geoId/01009  POLYGON ((-86.96227 33.85816, -86.96294 33.844...  \n",
       "\n",
       "[5 rows x 337 columns]"
      ]
     },
     "execution_count": 13,
     "metadata": {},
     "output_type": "execute_result"
    }
   ],
   "source": [
    "embeddings_gdf = gpd.GeoDataFrame(df, geometry='geometry')\n",
    "embeddings_gdf.head()"
   ]
  },
  {
   "cell_type": "code",
   "execution_count": 22,
   "id": "4829e110",
   "metadata": {},
   "outputs": [
    {
     "data": {
      "text/html": [
       "<div>\n",
       "<style scoped>\n",
       "    .dataframe tbody tr th:only-of-type {\n",
       "        vertical-align: middle;\n",
       "    }\n",
       "\n",
       "    .dataframe tbody tr th {\n",
       "        vertical-align: top;\n",
       "    }\n",
       "\n",
       "    .dataframe thead th {\n",
       "        text-align: right;\n",
       "    }\n",
       "</style>\n",
       "<table border=\"1\" class=\"dataframe\">\n",
       "  <thead>\n",
       "    <tr style=\"text-align: right;\">\n",
       "      <th></th>\n",
       "      <th>state</th>\n",
       "      <th>feature329</th>\n",
       "      <th>geometry</th>\n",
       "    </tr>\n",
       "    <tr>\n",
       "      <th>place</th>\n",
       "      <th></th>\n",
       "      <th></th>\n",
       "      <th></th>\n",
       "    </tr>\n",
       "  </thead>\n",
       "  <tbody>\n",
       "    <tr>\n",
       "      <th>geoId/01001</th>\n",
       "      <td>AL</td>\n",
       "      <td>4.831956</td>\n",
       "      <td>POLYGON ((-86.91743 32.66417, -86.9212 32.6565...</td>\n",
       "    </tr>\n",
       "    <tr>\n",
       "      <th>geoId/01003</th>\n",
       "      <td>AL</td>\n",
       "      <td>4.151655</td>\n",
       "      <td>MULTIPOLYGON (((-87.44728 30.51503, -87.44562 ...</td>\n",
       "    </tr>\n",
       "    <tr>\n",
       "      <th>geoId/01005</th>\n",
       "      <td>AL</td>\n",
       "      <td>0.032731</td>\n",
       "      <td>POLYGON ((-85.74827 31.61803, -85.54881 31.618...</td>\n",
       "    </tr>\n",
       "    <tr>\n",
       "      <th>geoId/01007</th>\n",
       "      <td>AL</td>\n",
       "      <td>4.688914</td>\n",
       "      <td>POLYGON ((-87.42192 33.0034, -87.42075 32.8846...</td>\n",
       "    </tr>\n",
       "    <tr>\n",
       "      <th>geoId/01009</th>\n",
       "      <td>AL</td>\n",
       "      <td>3.491446</td>\n",
       "      <td>POLYGON ((-86.96227 33.85816, -86.96294 33.844...</td>\n",
       "    </tr>\n",
       "  </tbody>\n",
       "</table>\n",
       "</div>"
      ],
      "text/plain": [
       "            state  feature329  \\\n",
       "place                           \n",
       "geoId/01001    AL    4.831956   \n",
       "geoId/01003    AL    4.151655   \n",
       "geoId/01005    AL    0.032731   \n",
       "geoId/01007    AL    4.688914   \n",
       "geoId/01009    AL    3.491446   \n",
       "\n",
       "                                                      geometry  \n",
       "place                                                           \n",
       "geoId/01001  POLYGON ((-86.91743 32.66417, -86.9212 32.6565...  \n",
       "geoId/01003  MULTIPOLYGON (((-87.44728 30.51503, -87.44562 ...  \n",
       "geoId/01005  POLYGON ((-85.74827 31.61803, -85.54881 31.618...  \n",
       "geoId/01007  POLYGON ((-87.42192 33.0034, -87.42075 32.8846...  \n",
       "geoId/01009  POLYGON ((-86.96227 33.85816, -86.96294 33.844...  "
      ]
     },
     "execution_count": 22,
     "metadata": {},
     "output_type": "execute_result"
    }
   ],
   "source": [
    "column=\"feature329\"\n",
    "gdf= embeddings_gdf[[\"state\", column, \"geometry\"]]\n",
    "gdf.head()"
   ]
  },
  {
   "cell_type": "code",
   "execution_count": 16,
   "id": "982c677a",
   "metadata": {},
   "outputs": [
    {
     "data": {
      "application/vnd.jupyter.widget-view+json": {
       "model_id": "009d8f911b994b2c97436c8b0d352428",
       "version_major": 2,
       "version_minor": 0
      },
      "text/plain": [
       "Container(children=[Row(children=[Col(children=[Map(calls=[['addControl', ('NavigationControl', {'showCompass'…"
      ]
     },
     "metadata": {},
     "output_type": "display_data"
    }
   ],
   "source": [
    "m= leafmap.Map(style=\"liberty\")\n",
    "m.add_data(\n",
    "    gdf,\n",
    "    cmap=\"Blues\",\n",
    "    column=column,\n",
    "    legend_title=column,\n",
    "    name=column,\n",
    ")\n",
    "m.add_layer_control()\n",
    "m"
   ]
  },
  {
   "cell_type": "code",
   "execution_count": 23,
   "id": "4a375858",
   "metadata": {},
   "outputs": [
    {
     "data": {
      "application/vnd.jupyter.widget-view+json": {
       "model_id": "e05e7419284648f287c2d0077bd474d8",
       "version_major": 2,
       "version_minor": 0
      },
      "text/plain": [
       "Container(children=[Row(children=[Col(children=[Map(calls=[['addControl', ('NavigationControl', {'showCompass'…"
      ]
     },
     "metadata": {},
     "output_type": "display_data"
    }
   ],
   "source": [
    "m=leafmap.Map(style=\"liberty\", pitch=60)\n",
    "m.add_data(\n",
    "    gdf,\n",
    "    cmap=\"Blues\",\n",
    "    column=column,\n",
    "    extrude=True,\n",
    "    scale_factor=0.00005,\n",
    "    legend_title=column,\n",
    "    name=column,\n",
    ")\n",
    "m.add_layer_control()\n",
    "m"
   ]
  },
  {
   "cell_type": "code",
   "execution_count": 24,
   "id": "ca9f6bb2",
   "metadata": {},
   "outputs": [
    {
     "data": {
      "text/html": [
       "<div>\n",
       "<style scoped>\n",
       "    .dataframe tbody tr th:only-of-type {\n",
       "        vertical-align: middle;\n",
       "    }\n",
       "\n",
       "    .dataframe tbody tr th {\n",
       "        vertical-align: top;\n",
       "    }\n",
       "\n",
       "    .dataframe thead th {\n",
       "        text-align: right;\n",
       "    }\n",
       "</style>\n",
       "<table border=\"1\" class=\"dataframe\">\n",
       "  <thead>\n",
       "    <tr style=\"text-align: right;\">\n",
       "      <th></th>\n",
       "      <th>RegionID</th>\n",
       "      <th>SizeRank</th>\n",
       "      <th>RegionName</th>\n",
       "      <th>RegionType</th>\n",
       "      <th>StateName</th>\n",
       "      <th>State</th>\n",
       "      <th>Metro</th>\n",
       "      <th>StateCodeFIPS</th>\n",
       "      <th>MunicipalCodeFIPS</th>\n",
       "      <th>2000-01-31</th>\n",
       "      <th>...</th>\n",
       "      <th>feature320</th>\n",
       "      <th>feature321</th>\n",
       "      <th>feature322</th>\n",
       "      <th>feature323</th>\n",
       "      <th>feature324</th>\n",
       "      <th>feature325</th>\n",
       "      <th>feature326</th>\n",
       "      <th>feature327</th>\n",
       "      <th>feature328</th>\n",
       "      <th>feature329</th>\n",
       "    </tr>\n",
       "  </thead>\n",
       "  <tbody>\n",
       "    <tr>\n",
       "      <th>geoId/06037</th>\n",
       "      <td>3101</td>\n",
       "      <td>0</td>\n",
       "      <td>Los Angeles County</td>\n",
       "      <td>county</td>\n",
       "      <td>CA</td>\n",
       "      <td>CA</td>\n",
       "      <td>Los Angeles-Long Beach-Anaheim, CA</td>\n",
       "      <td>06</td>\n",
       "      <td>037</td>\n",
       "      <td>206685.940073</td>\n",
       "      <td>...</td>\n",
       "      <td>-7.000000e-08</td>\n",
       "      <td>-0.001461</td>\n",
       "      <td>-0.035212</td>\n",
       "      <td>1.910339</td>\n",
       "      <td>-0.147769</td>\n",
       "      <td>0.003667</td>\n",
       "      <td>-0.164598</td>\n",
       "      <td>-0.000012</td>\n",
       "      <td>-0.000000</td>\n",
       "      <td>1.520711</td>\n",
       "    </tr>\n",
       "    <tr>\n",
       "      <th>geoId/17031</th>\n",
       "      <td>139</td>\n",
       "      <td>1</td>\n",
       "      <td>Cook County</td>\n",
       "      <td>county</td>\n",
       "      <td>IL</td>\n",
       "      <td>IL</td>\n",
       "      <td>Chicago-Naperville-Elgin, IL-IN-WI</td>\n",
       "      <td>17</td>\n",
       "      <td>031</td>\n",
       "      <td>145737.060609</td>\n",
       "      <td>...</td>\n",
       "      <td>-7.855540e-02</td>\n",
       "      <td>-0.160230</td>\n",
       "      <td>2.425814</td>\n",
       "      <td>-0.048814</td>\n",
       "      <td>-0.038273</td>\n",
       "      <td>-0.084591</td>\n",
       "      <td>2.993729</td>\n",
       "      <td>2.485846</td>\n",
       "      <td>-0.000042</td>\n",
       "      <td>2.314278</td>\n",
       "    </tr>\n",
       "    <tr>\n",
       "      <th>geoId/48201</th>\n",
       "      <td>1090</td>\n",
       "      <td>2</td>\n",
       "      <td>Harris County</td>\n",
       "      <td>county</td>\n",
       "      <td>TX</td>\n",
       "      <td>TX</td>\n",
       "      <td>Houston-The Woodlands-Sugar Land, TX</td>\n",
       "      <td>48</td>\n",
       "      <td>201</td>\n",
       "      <td>109327.540062</td>\n",
       "      <td>...</td>\n",
       "      <td>-3.441770e-02</td>\n",
       "      <td>-0.008643</td>\n",
       "      <td>-0.157201</td>\n",
       "      <td>2.186765</td>\n",
       "      <td>5.300742</td>\n",
       "      <td>6.407553</td>\n",
       "      <td>0.975400</td>\n",
       "      <td>3.072631</td>\n",
       "      <td>-0.000006</td>\n",
       "      <td>1.600721</td>\n",
       "    </tr>\n",
       "    <tr>\n",
       "      <th>geoId/04013</th>\n",
       "      <td>2402</td>\n",
       "      <td>3</td>\n",
       "      <td>Maricopa County</td>\n",
       "      <td>county</td>\n",
       "      <td>AZ</td>\n",
       "      <td>AZ</td>\n",
       "      <td>Phoenix-Mesa-Chandler, AZ</td>\n",
       "      <td>04</td>\n",
       "      <td>013</td>\n",
       "      <td>142829.577207</td>\n",
       "      <td>...</td>\n",
       "      <td>-1.682885e-01</td>\n",
       "      <td>-0.099206</td>\n",
       "      <td>4.709348</td>\n",
       "      <td>0.263209</td>\n",
       "      <td>0.575408</td>\n",
       "      <td>4.380611</td>\n",
       "      <td>6.630384</td>\n",
       "      <td>-0.166023</td>\n",
       "      <td>-0.000919</td>\n",
       "      <td>3.876134</td>\n",
       "    </tr>\n",
       "    <tr>\n",
       "      <th>geoId/06073</th>\n",
       "      <td>2841</td>\n",
       "      <td>4</td>\n",
       "      <td>San Diego County</td>\n",
       "      <td>county</td>\n",
       "      <td>CA</td>\n",
       "      <td>CA</td>\n",
       "      <td>San Diego-Chula Vista-Carlsbad, CA</td>\n",
       "      <td>06</td>\n",
       "      <td>073</td>\n",
       "      <td>212384.876155</td>\n",
       "      <td>...</td>\n",
       "      <td>-2.194900e-04</td>\n",
       "      <td>-0.000305</td>\n",
       "      <td>0.408058</td>\n",
       "      <td>0.252055</td>\n",
       "      <td>-0.164628</td>\n",
       "      <td>0.019952</td>\n",
       "      <td>2.901626</td>\n",
       "      <td>-0.000021</td>\n",
       "      <td>-0.000002</td>\n",
       "      <td>0.716236</td>\n",
       "    </tr>\n",
       "  </tbody>\n",
       "</table>\n",
       "<p>5 rows × 645 columns</p>\n",
       "</div>"
      ],
      "text/plain": [
       "             RegionID  SizeRank          RegionName RegionType StateName  \\\n",
       "geoId/06037      3101         0  Los Angeles County     county        CA   \n",
       "geoId/17031       139         1         Cook County     county        IL   \n",
       "geoId/48201      1090         2       Harris County     county        TX   \n",
       "geoId/04013      2402         3     Maricopa County     county        AZ   \n",
       "geoId/06073      2841         4    San Diego County     county        CA   \n",
       "\n",
       "            State                                 Metro StateCodeFIPS  \\\n",
       "geoId/06037    CA    Los Angeles-Long Beach-Anaheim, CA            06   \n",
       "geoId/17031    IL    Chicago-Naperville-Elgin, IL-IN-WI            17   \n",
       "geoId/48201    TX  Houston-The Woodlands-Sugar Land, TX            48   \n",
       "geoId/04013    AZ             Phoenix-Mesa-Chandler, AZ            04   \n",
       "geoId/06073    CA    San Diego-Chula Vista-Carlsbad, CA            06   \n",
       "\n",
       "            MunicipalCodeFIPS     2000-01-31  ...    feature320  feature321  \\\n",
       "geoId/06037               037  206685.940073  ... -7.000000e-08   -0.001461   \n",
       "geoId/17031               031  145737.060609  ... -7.855540e-02   -0.160230   \n",
       "geoId/48201               201  109327.540062  ... -3.441770e-02   -0.008643   \n",
       "geoId/04013               013  142829.577207  ... -1.682885e-01   -0.099206   \n",
       "geoId/06073               073  212384.876155  ... -2.194900e-04   -0.000305   \n",
       "\n",
       "             feature322  feature323  feature324  feature325  feature326  \\\n",
       "geoId/06037   -0.035212    1.910339   -0.147769    0.003667   -0.164598   \n",
       "geoId/17031    2.425814   -0.048814   -0.038273   -0.084591    2.993729   \n",
       "geoId/48201   -0.157201    2.186765    5.300742    6.407553    0.975400   \n",
       "geoId/04013    4.709348    0.263209    0.575408    4.380611    6.630384   \n",
       "geoId/06073    0.408058    0.252055   -0.164628    0.019952    2.901626   \n",
       "\n",
       "             feature327  feature328  feature329  \n",
       "geoId/06037   -0.000012   -0.000000    1.520711  \n",
       "geoId/17031    2.485846   -0.000042    2.314278  \n",
       "geoId/48201    3.072631   -0.000006    1.600721  \n",
       "geoId/04013   -0.166023   -0.000919    3.876134  \n",
       "geoId/06073   -0.000021   -0.000002    0.716236  \n",
       "\n",
       "[5 rows x 645 columns]"
      ]
     },
     "execution_count": 24,
     "metadata": {},
     "output_type": "execute_result"
    }
   ],
   "source": [
    "data=zhvi_df.join(embeddings, how=\"inner\")\n",
    "data.head()"
   ]
  },
  {
   "cell_type": "code",
   "execution_count": 25,
   "id": "dc1aab87",
   "metadata": {},
   "outputs": [],
   "source": [
    "embedding_features=[f\"feature{i}\" for i in range(330)]\n",
    "label= \"2024-10-31\""
   ]
  },
  {
   "cell_type": "code",
   "execution_count": 26,
   "id": "a50e8139",
   "metadata": {},
   "outputs": [],
   "source": [
    "data=data.dropna(subset=[label])"
   ]
  },
  {
   "cell_type": "code",
   "execution_count": 27,
   "id": "a588ce43",
   "metadata": {},
   "outputs": [],
   "source": [
    "data=data[embedding_features + [label]]\n",
    "x= data[embedding_features]\n",
    "y= data[label]\n",
    "x_train, x_test, y_train, y_test = train_test_split(x, y, test_size=0.2, random_state=42)"
   ]
  },
  {
   "cell_type": "code",
   "execution_count": 28,
   "id": "56c6a565",
   "metadata": {},
   "outputs": [],
   "source": [
    "model=LinearRegression()\n",
    "model.fit(x_train, y_train)\n",
    "y_pred = model.predict(x_test)"
   ]
  },
  {
   "cell_type": "code",
   "execution_count": 30,
   "id": "0f561206",
   "metadata": {},
   "outputs": [
    {
     "name": "stdout",
     "output_type": "stream",
     "text": [
      "{'r2': 0.8269914580761699, 'r': np.float64(0.9125487145276073), 'rmse': 61093.7358171606, 'mae': 43101.94549189267, 'mape': 0.1957361870440549}\n"
     ]
    }
   ],
   "source": [
    "evaluation_df=pd.DataFrame({\n",
    "    \"y\": y_test,\n",
    "    \"y_pred\": y_pred\n",
    "})\n",
    "metrics=evaluate_model(evaluation_df)\n",
    "print(metrics)"
   ]
  },
  {
   "cell_type": "code",
   "execution_count": 35,
   "id": "3f3705ba",
   "metadata": {},
   "outputs": [
    {
     "data": {
      "application/vnd.plotly.v1+json": {
       "config": {
        "plotlyServerURL": "https://plot.ly"
       },
       "data": [
        {
         "marker": {
          "color": "blue",
          "opacity": 0.7,
          "size": 6
         },
         "mode": "markers",
         "name": "Predicted vs Actual",
         "type": "scatter",
         "x": {
          "bdata": "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",
          "dtype": "f8"
         },
         "y": {
          "bdata": "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",
          "dtype": "f8"
         }
        },
        {
         "line": {
          "color": "red",
          "dash": "dash"
         },
         "mode": "lines",
         "name": "Reference Line",
         "type": "scatter",
         "x": [
          0,
          1000000
         ],
         "y": [
          0,
          1000000
         ]
        }
       ],
       "layout": {
        "height": 800,
        "showlegend": true,
        "template": {
         "data": {
          "bar": [
           {
            "error_x": {
             "color": "#2a3f5f"
            },
            "error_y": {
             "color": "#2a3f5f"
            },
            "marker": {
             "line": {
              "color": "white",
              "width": 0.5
             },
             "pattern": {
              "fillmode": "overlay",
              "size": 10,
              "solidity": 0.2
             }
            },
            "type": "bar"
           }
          ],
          "barpolar": [
           {
            "marker": {
             "line": {
              "color": "white",
              "width": 0.5
             },
             "pattern": {
              "fillmode": "overlay",
              "size": 10,
              "solidity": 0.2
             }
            },
            "type": "barpolar"
           }
          ],
          "carpet": [
           {
            "aaxis": {
             "endlinecolor": "#2a3f5f",
             "gridcolor": "#C8D4E3",
             "linecolor": "#C8D4E3",
             "minorgridcolor": "#C8D4E3",
             "startlinecolor": "#2a3f5f"
            },
            "baxis": {
             "endlinecolor": "#2a3f5f",
             "gridcolor": "#C8D4E3",
             "linecolor": "#C8D4E3",
             "minorgridcolor": "#C8D4E3",
             "startlinecolor": "#2a3f5f"
            },
            "type": "carpet"
           }
          ],
          "choropleth": [
           {
            "colorbar": {
             "outlinewidth": 0,
             "ticks": ""
            },
            "type": "choropleth"
           }
          ],
          "contour": [
           {
            "colorbar": {
             "outlinewidth": 0,
             "ticks": ""
            },
            "colorscale": [
             [
              0,
              "#0d0887"
             ],
             [
              0.1111111111111111,
              "#46039f"
             ],
             [
              0.2222222222222222,
              "#7201a8"
             ],
             [
              0.3333333333333333,
              "#9c179e"
             ],
             [
              0.4444444444444444,
              "#bd3786"
             ],
             [
              0.5555555555555556,
              "#d8576b"
             ],
             [
              0.6666666666666666,
              "#ed7953"
             ],
             [
              0.7777777777777778,
              "#fb9f3a"
             ],
             [
              0.8888888888888888,
              "#fdca26"
             ],
             [
              1,
              "#f0f921"
             ]
            ],
            "type": "contour"
           }
          ],
          "contourcarpet": [
           {
            "colorbar": {
             "outlinewidth": 0,
             "ticks": ""
            },
            "type": "contourcarpet"
           }
          ],
          "heatmap": [
           {
            "colorbar": {
             "outlinewidth": 0,
             "ticks": ""
            },
            "colorscale": [
             [
              0,
              "#0d0887"
             ],
             [
              0.1111111111111111,
              "#46039f"
             ],
             [
              0.2222222222222222,
              "#7201a8"
             ],
             [
              0.3333333333333333,
              "#9c179e"
             ],
             [
              0.4444444444444444,
              "#bd3786"
             ],
             [
              0.5555555555555556,
              "#d8576b"
             ],
             [
              0.6666666666666666,
              "#ed7953"
             ],
             [
              0.7777777777777778,
              "#fb9f3a"
             ],
             [
              0.8888888888888888,
              "#fdca26"
             ],
             [
              1,
              "#f0f921"
             ]
            ],
            "type": "heatmap"
           }
          ],
          "histogram": [
           {
            "marker": {
             "pattern": {
              "fillmode": "overlay",
              "size": 10,
              "solidity": 0.2
             }
            },
            "type": "histogram"
           }
          ],
          "histogram2d": [
           {
            "colorbar": {
             "outlinewidth": 0,
             "ticks": ""
            },
            "colorscale": [
             [
              0,
              "#0d0887"
             ],
             [
              0.1111111111111111,
              "#46039f"
             ],
             [
              0.2222222222222222,
              "#7201a8"
             ],
             [
              0.3333333333333333,
              "#9c179e"
             ],
             [
              0.4444444444444444,
              "#bd3786"
             ],
             [
              0.5555555555555556,
              "#d8576b"
             ],
             [
              0.6666666666666666,
              "#ed7953"
             ],
             [
              0.7777777777777778,
              "#fb9f3a"
             ],
             [
              0.8888888888888888,
              "#fdca26"
             ],
             [
              1,
              "#f0f921"
             ]
            ],
            "type": "histogram2d"
           }
          ],
          "histogram2dcontour": [
           {
            "colorbar": {
             "outlinewidth": 0,
             "ticks": ""
            },
            "colorscale": [
             [
              0,
              "#0d0887"
             ],
             [
              0.1111111111111111,
              "#46039f"
             ],
             [
              0.2222222222222222,
              "#7201a8"
             ],
             [
              0.3333333333333333,
              "#9c179e"
             ],
             [
              0.4444444444444444,
              "#bd3786"
             ],
             [
              0.5555555555555556,
              "#d8576b"
             ],
             [
              0.6666666666666666,
              "#ed7953"
             ],
             [
              0.7777777777777778,
              "#fb9f3a"
             ],
             [
              0.8888888888888888,
              "#fdca26"
             ],
             [
              1,
              "#f0f921"
             ]
            ],
            "type": "histogram2dcontour"
           }
          ],
          "mesh3d": [
           {
            "colorbar": {
             "outlinewidth": 0,
             "ticks": ""
            },
            "type": "mesh3d"
           }
          ],
          "parcoords": [
           {
            "line": {
             "colorbar": {
              "outlinewidth": 0,
              "ticks": ""
             }
            },
            "type": "parcoords"
           }
          ],
          "pie": [
           {
            "automargin": true,
            "type": "pie"
           }
          ],
          "scatter": [
           {
            "fillpattern": {
             "fillmode": "overlay",
             "size": 10,
             "solidity": 0.2
            },
            "type": "scatter"
           }
          ],
          "scatter3d": [
           {
            "line": {
             "colorbar": {
              "outlinewidth": 0,
              "ticks": ""
             }
            },
            "marker": {
             "colorbar": {
              "outlinewidth": 0,
              "ticks": ""
             }
            },
            "type": "scatter3d"
           }
          ],
          "scattercarpet": [
           {
            "marker": {
             "colorbar": {
              "outlinewidth": 0,
              "ticks": ""
             }
            },
            "type": "scattercarpet"
           }
          ],
          "scattergeo": [
           {
            "marker": {
             "colorbar": {
              "outlinewidth": 0,
              "ticks": ""
             }
            },
            "type": "scattergeo"
           }
          ],
          "scattergl": [
           {
            "marker": {
             "colorbar": {
              "outlinewidth": 0,
              "ticks": ""
             }
            },
            "type": "scattergl"
           }
          ],
          "scattermap": [
           {
            "marker": {
             "colorbar": {
              "outlinewidth": 0,
              "ticks": ""
             }
            },
            "type": "scattermap"
           }
          ],
          "scattermapbox": [
           {
            "marker": {
             "colorbar": {
              "outlinewidth": 0,
              "ticks": ""
             }
            },
            "type": "scattermapbox"
           }
          ],
          "scatterpolar": [
           {
            "marker": {
             "colorbar": {
              "outlinewidth": 0,
              "ticks": ""
             }
            },
            "type": "scatterpolar"
           }
          ],
          "scatterpolargl": [
           {
            "marker": {
             "colorbar": {
              "outlinewidth": 0,
              "ticks": ""
             }
            },
            "type": "scatterpolargl"
           }
          ],
          "scatterternary": [
           {
            "marker": {
             "colorbar": {
              "outlinewidth": 0,
              "ticks": ""
             }
            },
            "type": "scatterternary"
           }
          ],
          "surface": [
           {
            "colorbar": {
             "outlinewidth": 0,
             "ticks": ""
            },
            "colorscale": [
             [
              0,
              "#0d0887"
             ],
             [
              0.1111111111111111,
              "#46039f"
             ],
             [
              0.2222222222222222,
              "#7201a8"
             ],
             [
              0.3333333333333333,
              "#9c179e"
             ],
             [
              0.4444444444444444,
              "#bd3786"
             ],
             [
              0.5555555555555556,
              "#d8576b"
             ],
             [
              0.6666666666666666,
              "#ed7953"
             ],
             [
              0.7777777777777778,
              "#fb9f3a"
             ],
             [
              0.8888888888888888,
              "#fdca26"
             ],
             [
              1,
              "#f0f921"
             ]
            ],
            "type": "surface"
           }
          ],
          "table": [
           {
            "cells": {
             "fill": {
              "color": "#EBF0F8"
             },
             "line": {
              "color": "white"
             }
            },
            "header": {
             "fill": {
              "color": "#C8D4E3"
             },
             "line": {
              "color": "white"
             }
            },
            "type": "table"
           }
          ]
         },
         "layout": {
          "annotationdefaults": {
           "arrowcolor": "#2a3f5f",
           "arrowhead": 0,
           "arrowwidth": 1
          },
          "autotypenumbers": "strict",
          "coloraxis": {
           "colorbar": {
            "outlinewidth": 0,
            "ticks": ""
           }
          },
          "colorscale": {
           "diverging": [
            [
             0,
             "#8e0152"
            ],
            [
             0.1,
             "#c51b7d"
            ],
            [
             0.2,
             "#de77ae"
            ],
            [
             0.3,
             "#f1b6da"
            ],
            [
             0.4,
             "#fde0ef"
            ],
            [
             0.5,
             "#f7f7f7"
            ],
            [
             0.6,
             "#e6f5d0"
            ],
            [
             0.7,
             "#b8e186"
            ],
            [
             0.8,
             "#7fbc41"
            ],
            [
             0.9,
             "#4d9221"
            ],
            [
             1,
             "#276419"
            ]
           ],
           "sequential": [
            [
             0,
             "#0d0887"
            ],
            [
             0.1111111111111111,
             "#46039f"
            ],
            [
             0.2222222222222222,
             "#7201a8"
            ],
            [
             0.3333333333333333,
             "#9c179e"
            ],
            [
             0.4444444444444444,
             "#bd3786"
            ],
            [
             0.5555555555555556,
             "#d8576b"
            ],
            [
             0.6666666666666666,
             "#ed7953"
            ],
            [
             0.7777777777777778,
             "#fb9f3a"
            ],
            [
             0.8888888888888888,
             "#fdca26"
            ],
            [
             1,
             "#f0f921"
            ]
           ],
           "sequentialminus": [
            [
             0,
             "#0d0887"
            ],
            [
             0.1111111111111111,
             "#46039f"
            ],
            [
             0.2222222222222222,
             "#7201a8"
            ],
            [
             0.3333333333333333,
             "#9c179e"
            ],
            [
             0.4444444444444444,
             "#bd3786"
            ],
            [
             0.5555555555555556,
             "#d8576b"
            ],
            [
             0.6666666666666666,
             "#ed7953"
            ],
            [
             0.7777777777777778,
             "#fb9f3a"
            ],
            [
             0.8888888888888888,
             "#fdca26"
            ],
            [
             1,
             "#f0f921"
            ]
           ]
          },
          "colorway": [
           "#636efa",
           "#EF553B",
           "#00cc96",
           "#ab63fa",
           "#FFA15A",
           "#19d3f3",
           "#FF6692",
           "#B6E880",
           "#FF97FF",
           "#FECB52"
          ],
          "font": {
           "color": "#2a3f5f"
          },
          "geo": {
           "bgcolor": "white",
           "lakecolor": "white",
           "landcolor": "white",
           "showlakes": true,
           "showland": true,
           "subunitcolor": "#C8D4E3"
          },
          "hoverlabel": {
           "align": "left"
          },
          "hovermode": "closest",
          "mapbox": {
           "style": "light"
          },
          "paper_bgcolor": "white",
          "plot_bgcolor": "white",
          "polar": {
           "angularaxis": {
            "gridcolor": "#EBF0F8",
            "linecolor": "#EBF0F8",
            "ticks": ""
           },
           "bgcolor": "white",
           "radialaxis": {
            "gridcolor": "#EBF0F8",
            "linecolor": "#EBF0F8",
            "ticks": ""
           }
          },
          "scene": {
           "xaxis": {
            "backgroundcolor": "white",
            "gridcolor": "#DFE8F3",
            "gridwidth": 2,
            "linecolor": "#EBF0F8",
            "showbackground": true,
            "ticks": "",
            "zerolinecolor": "#EBF0F8"
           },
           "yaxis": {
            "backgroundcolor": "white",
            "gridcolor": "#DFE8F3",
            "gridwidth": 2,
            "linecolor": "#EBF0F8",
            "showbackground": true,
            "ticks": "",
            "zerolinecolor": "#EBF0F8"
           },
           "zaxis": {
            "backgroundcolor": "white",
            "gridcolor": "#DFE8F3",
            "gridwidth": 2,
            "linecolor": "#EBF0F8",
            "showbackground": true,
            "ticks": "",
            "zerolinecolor": "#EBF0F8"
           }
          },
          "shapedefaults": {
           "line": {
            "color": "#2a3f5f"
           }
          },
          "ternary": {
           "aaxis": {
            "gridcolor": "#DFE8F3",
            "linecolor": "#A2B1C6",
            "ticks": ""
           },
           "baxis": {
            "gridcolor": "#DFE8F3",
            "linecolor": "#A2B1C6",
            "ticks": ""
           },
           "bgcolor": "white",
           "caxis": {
            "gridcolor": "#DFE8F3",
            "linecolor": "#A2B1C6",
            "ticks": ""
           }
          },
          "title": {
           "x": 0.05
          },
          "xaxis": {
           "automargin": true,
           "gridcolor": "#EBF0F8",
           "linecolor": "#EBF0F8",
           "ticks": "",
           "title": {
            "standoff": 15
           },
           "zerolinecolor": "#EBF0F8",
           "zerolinewidth": 2
          },
          "yaxis": {
           "automargin": true,
           "gridcolor": "#EBF0F8",
           "linecolor": "#EBF0F8",
           "ticks": "",
           "title": {
            "standoff": 15
           },
           "zerolinecolor": "#EBF0F8",
           "zerolinewidth": 2
          }
         }
        },
        "title": {
         "text": "Linear Regression: Actual vs Predicted"
        },
        "width": 800,
        "xaxis": {
         "range": [
          0,
          1000000
         ],
         "scaleanchor": "y",
         "title": {
          "text": "Actual Home Value"
         }
        },
        "yaxis": {
         "range": [
          0,
          1000000
         ],
         "title": {
          "text": "Predicted Home Value"
         }
        }
       }
      }
     },
     "metadata": {},
     "output_type": "display_data"
    }
   ],
   "source": [
    "xy_lim=(0,1000000)\n",
    "plot_actual_vs_predicted(\n",
    "    evaluation_df,\n",
    "    xlim=xy_lim,\n",
    "    ylim=xy_lim,\n",
    "    title=\"Linear Regression: Actual vs Predicted\",\n",
    "    x_label=\"Actual Home Value\",\n",
    "    y_label=\"Predicted Home Value\",\n",
    ")"
   ]
  },
  {
   "cell_type": "code",
   "execution_count": 36,
   "id": "198d4d13",
   "metadata": {},
   "outputs": [],
   "source": [
    "df=evaluation_df.join(gdf)\n",
    "df[\"difference\"] = df[\"y\"] - df[\"y_pred\"]\n"
   ]
  },
  {
   "cell_type": "code",
   "execution_count": 38,
   "id": "449930bd",
   "metadata": {},
   "outputs": [
    {
     "data": {
      "text/html": [
       "<div>\n",
       "<style scoped>\n",
       "    .dataframe tbody tr th:only-of-type {\n",
       "        vertical-align: middle;\n",
       "    }\n",
       "\n",
       "    .dataframe tbody tr th {\n",
       "        vertical-align: top;\n",
       "    }\n",
       "\n",
       "    .dataframe thead th {\n",
       "        text-align: right;\n",
       "    }\n",
       "</style>\n",
       "<table border=\"1\" class=\"dataframe\">\n",
       "  <thead>\n",
       "    <tr style=\"text-align: right;\">\n",
       "      <th></th>\n",
       "      <th>y</th>\n",
       "      <th>y_pred</th>\n",
       "      <th>state</th>\n",
       "      <th>feature329</th>\n",
       "      <th>geometry</th>\n",
       "      <th>category</th>\n",
       "      <th>color</th>\n",
       "      <th>difference</th>\n",
       "    </tr>\n",
       "  </thead>\n",
       "  <tbody>\n",
       "    <tr>\n",
       "      <th>geoId/34017</th>\n",
       "      <td>598888.295081</td>\n",
       "      <td>776849.887625</td>\n",
       "      <td>NJ</td>\n",
       "      <td>-6.000000e-08</td>\n",
       "      <td>POLYGON ((-74.16456 40.75596, -74.1651 40.7427...</td>\n",
       "      <td>1</td>\n",
       "      <td>#f7fbff</td>\n",
       "      <td>-177961.592544</td>\n",
       "    </tr>\n",
       "    <tr>\n",
       "      <th>geoId/48411</th>\n",
       "      <td>192620.109978</td>\n",
       "      <td>180320.802383</td>\n",
       "      <td>TX</td>\n",
       "      <td>1.929096e-01</td>\n",
       "      <td>POLYGON ((-99.09189 30.92198, -98.72061 30.921...</td>\n",
       "      <td>1</td>\n",
       "      <td>#f7fbff</td>\n",
       "      <td>12299.307595</td>\n",
       "    </tr>\n",
       "    <tr>\n",
       "      <th>geoId/21137</th>\n",
       "      <td>170778.967173</td>\n",
       "      <td>259197.493542</td>\n",
       "      <td>KY</td>\n",
       "      <td>3.470986e+00</td>\n",
       "      <td>MULTIPOLYGON (((-84.74777 37.58648, -84.74418 ...</td>\n",
       "      <td>4</td>\n",
       "      <td>#2171b5</td>\n",
       "      <td>-88418.526369</td>\n",
       "    </tr>\n",
       "    <tr>\n",
       "      <th>geoId/55007</th>\n",
       "      <td>275854.538422</td>\n",
       "      <td>300917.601055</td>\n",
       "      <td>WI</td>\n",
       "      <td>2.753146e+00</td>\n",
       "      <td>POLYGON ((-91.54939 46.89321, -91.55343 46.502...</td>\n",
       "      <td>4</td>\n",
       "      <td>#2171b5</td>\n",
       "      <td>-25063.062633</td>\n",
       "    </tr>\n",
       "    <tr>\n",
       "      <th>geoId/22081</th>\n",
       "      <td>120883.872924</td>\n",
       "      <td>76727.777705</td>\n",
       "      <td>LA</td>\n",
       "      <td>1.799954e+00</td>\n",
       "      <td>MULTIPOLYGON (((-93.15244 32.00524, -93.15168 ...</td>\n",
       "      <td>3</td>\n",
       "      <td>#6baed6</td>\n",
       "      <td>44156.095219</td>\n",
       "    </tr>\n",
       "  </tbody>\n",
       "</table>\n",
       "</div>"
      ],
      "text/plain": [
       "                         y         y_pred state    feature329  \\\n",
       "geoId/34017  598888.295081  776849.887625    NJ -6.000000e-08   \n",
       "geoId/48411  192620.109978  180320.802383    TX  1.929096e-01   \n",
       "geoId/21137  170778.967173  259197.493542    KY  3.470986e+00   \n",
       "geoId/55007  275854.538422  300917.601055    WI  2.753146e+00   \n",
       "geoId/22081  120883.872924   76727.777705    LA  1.799954e+00   \n",
       "\n",
       "                                                      geometry  category  \\\n",
       "geoId/34017  POLYGON ((-74.16456 40.75596, -74.1651 40.7427...         1   \n",
       "geoId/48411  POLYGON ((-99.09189 30.92198, -98.72061 30.921...         1   \n",
       "geoId/21137  MULTIPOLYGON (((-84.74777 37.58648, -84.74418 ...         4   \n",
       "geoId/55007  POLYGON ((-91.54939 46.89321, -91.55343 46.502...         4   \n",
       "geoId/22081  MULTIPOLYGON (((-93.15244 32.00524, -93.15168 ...         3   \n",
       "\n",
       "               color     difference  \n",
       "geoId/34017  #f7fbff -177961.592544  \n",
       "geoId/48411  #f7fbff   12299.307595  \n",
       "geoId/21137  #2171b5  -88418.526369  \n",
       "geoId/55007  #2171b5  -25063.062633  \n",
       "geoId/22081  #6baed6   44156.095219  "
      ]
     },
     "execution_count": 38,
     "metadata": {},
     "output_type": "execute_result"
    }
   ],
   "source": [
    "df.head()"
   ]
  },
  {
   "cell_type": "code",
   "execution_count": 39,
   "id": "55610792",
   "metadata": {},
   "outputs": [
    {
     "data": {
      "text/html": [
       "<div>\n",
       "<style scoped>\n",
       "    .dataframe tbody tr th:only-of-type {\n",
       "        vertical-align: middle;\n",
       "    }\n",
       "\n",
       "    .dataframe tbody tr th {\n",
       "        vertical-align: top;\n",
       "    }\n",
       "\n",
       "    .dataframe thead th {\n",
       "        text-align: right;\n",
       "    }\n",
       "</style>\n",
       "<table border=\"1\" class=\"dataframe\">\n",
       "  <thead>\n",
       "    <tr style=\"text-align: right;\">\n",
       "      <th></th>\n",
       "      <th>y</th>\n",
       "      <th>y_pred</th>\n",
       "      <th>state</th>\n",
       "      <th>feature329</th>\n",
       "      <th>geometry</th>\n",
       "      <th>category</th>\n",
       "      <th>color</th>\n",
       "      <th>difference</th>\n",
       "    </tr>\n",
       "  </thead>\n",
       "  <tbody>\n",
       "    <tr>\n",
       "      <th>geoId/34017</th>\n",
       "      <td>598888.295081</td>\n",
       "      <td>776849.887625</td>\n",
       "      <td>NJ</td>\n",
       "      <td>-6.000000e-08</td>\n",
       "      <td>POLYGON ((-74.16456 40.75596, -74.1651 40.7427...</td>\n",
       "      <td>1</td>\n",
       "      <td>#f7fbff</td>\n",
       "      <td>-177961.592544</td>\n",
       "    </tr>\n",
       "    <tr>\n",
       "      <th>geoId/48411</th>\n",
       "      <td>192620.109978</td>\n",
       "      <td>180320.802383</td>\n",
       "      <td>TX</td>\n",
       "      <td>1.929096e-01</td>\n",
       "      <td>POLYGON ((-99.09189 30.92198, -98.72061 30.921...</td>\n",
       "      <td>1</td>\n",
       "      <td>#f7fbff</td>\n",
       "      <td>12299.307595</td>\n",
       "    </tr>\n",
       "    <tr>\n",
       "      <th>geoId/21137</th>\n",
       "      <td>170778.967173</td>\n",
       "      <td>259197.493542</td>\n",
       "      <td>KY</td>\n",
       "      <td>3.470986e+00</td>\n",
       "      <td>MULTIPOLYGON (((-84.74777 37.58648, -84.74418 ...</td>\n",
       "      <td>4</td>\n",
       "      <td>#2171b5</td>\n",
       "      <td>-88418.526369</td>\n",
       "    </tr>\n",
       "    <tr>\n",
       "      <th>geoId/55007</th>\n",
       "      <td>275854.538422</td>\n",
       "      <td>300917.601055</td>\n",
       "      <td>WI</td>\n",
       "      <td>2.753146e+00</td>\n",
       "      <td>POLYGON ((-91.54939 46.89321, -91.55343 46.502...</td>\n",
       "      <td>4</td>\n",
       "      <td>#2171b5</td>\n",
       "      <td>-25063.062633</td>\n",
       "    </tr>\n",
       "    <tr>\n",
       "      <th>geoId/22081</th>\n",
       "      <td>120883.872924</td>\n",
       "      <td>76727.777705</td>\n",
       "      <td>LA</td>\n",
       "      <td>1.799954e+00</td>\n",
       "      <td>MULTIPOLYGON (((-93.15244 32.00524, -93.15168 ...</td>\n",
       "      <td>3</td>\n",
       "      <td>#6baed6</td>\n",
       "      <td>44156.095219</td>\n",
       "    </tr>\n",
       "  </tbody>\n",
       "</table>\n",
       "</div>"
      ],
      "text/plain": [
       "                         y         y_pred state    feature329  \\\n",
       "geoId/34017  598888.295081  776849.887625    NJ -6.000000e-08   \n",
       "geoId/48411  192620.109978  180320.802383    TX  1.929096e-01   \n",
       "geoId/21137  170778.967173  259197.493542    KY  3.470986e+00   \n",
       "geoId/55007  275854.538422  300917.601055    WI  2.753146e+00   \n",
       "geoId/22081  120883.872924   76727.777705    LA  1.799954e+00   \n",
       "\n",
       "                                                      geometry  category  \\\n",
       "geoId/34017  POLYGON ((-74.16456 40.75596, -74.1651 40.7427...         1   \n",
       "geoId/48411  POLYGON ((-99.09189 30.92198, -98.72061 30.921...         1   \n",
       "geoId/21137  MULTIPOLYGON (((-84.74777 37.58648, -84.74418 ...         4   \n",
       "geoId/55007  POLYGON ((-91.54939 46.89321, -91.55343 46.502...         4   \n",
       "geoId/22081  MULTIPOLYGON (((-93.15244 32.00524, -93.15168 ...         3   \n",
       "\n",
       "               color     difference  \n",
       "geoId/34017  #f7fbff -177961.592544  \n",
       "geoId/48411  #f7fbff   12299.307595  \n",
       "geoId/21137  #2171b5  -88418.526369  \n",
       "geoId/55007  #2171b5  -25063.062633  \n",
       "geoId/22081  #6baed6   44156.095219  "
      ]
     },
     "execution_count": 39,
     "metadata": {},
     "output_type": "execute_result"
    }
   ],
   "source": [
    "gdf = gpd.GeoDataFrame(df, geometry='geometry')\n",
    "gdf.head()"
   ]
  },
  {
   "cell_type": "code",
   "execution_count": 40,
   "id": "201e6787",
   "metadata": {},
   "outputs": [
    {
     "data": {
      "text/html": [
       "<div>\n",
       "<style scoped>\n",
       "    .dataframe tbody tr th:only-of-type {\n",
       "        vertical-align: middle;\n",
       "    }\n",
       "\n",
       "    .dataframe tbody tr th {\n",
       "        vertical-align: top;\n",
       "    }\n",
       "\n",
       "    .dataframe thead th {\n",
       "        text-align: right;\n",
       "    }\n",
       "</style>\n",
       "<table border=\"1\" class=\"dataframe\">\n",
       "  <thead>\n",
       "    <tr style=\"text-align: right;\">\n",
       "      <th></th>\n",
       "      <th>y</th>\n",
       "      <th>y_pred</th>\n",
       "      <th>state</th>\n",
       "      <th>geometry</th>\n",
       "      <th>difference</th>\n",
       "    </tr>\n",
       "  </thead>\n",
       "  <tbody>\n",
       "    <tr>\n",
       "      <th>geoId/34017</th>\n",
       "      <td>598888.295081</td>\n",
       "      <td>776849.887625</td>\n",
       "      <td>NJ</td>\n",
       "      <td>POLYGON ((-74.16456 40.75596, -74.1651 40.7427...</td>\n",
       "      <td>-177961.592544</td>\n",
       "    </tr>\n",
       "    <tr>\n",
       "      <th>geoId/48411</th>\n",
       "      <td>192620.109978</td>\n",
       "      <td>180320.802383</td>\n",
       "      <td>TX</td>\n",
       "      <td>POLYGON ((-99.09189 30.92198, -98.72061 30.921...</td>\n",
       "      <td>12299.307595</td>\n",
       "    </tr>\n",
       "    <tr>\n",
       "      <th>geoId/21137</th>\n",
       "      <td>170778.967173</td>\n",
       "      <td>259197.493542</td>\n",
       "      <td>KY</td>\n",
       "      <td>MULTIPOLYGON (((-84.74777 37.58648, -84.74418 ...</td>\n",
       "      <td>-88418.526369</td>\n",
       "    </tr>\n",
       "    <tr>\n",
       "      <th>geoId/55007</th>\n",
       "      <td>275854.538422</td>\n",
       "      <td>300917.601055</td>\n",
       "      <td>WI</td>\n",
       "      <td>POLYGON ((-91.54939 46.89321, -91.55343 46.502...</td>\n",
       "      <td>-25063.062633</td>\n",
       "    </tr>\n",
       "    <tr>\n",
       "      <th>geoId/22081</th>\n",
       "      <td>120883.872924</td>\n",
       "      <td>76727.777705</td>\n",
       "      <td>LA</td>\n",
       "      <td>MULTIPOLYGON (((-93.15244 32.00524, -93.15168 ...</td>\n",
       "      <td>44156.095219</td>\n",
       "    </tr>\n",
       "  </tbody>\n",
       "</table>\n",
       "</div>"
      ],
      "text/plain": [
       "                         y         y_pred state  \\\n",
       "geoId/34017  598888.295081  776849.887625    NJ   \n",
       "geoId/48411  192620.109978  180320.802383    TX   \n",
       "geoId/21137  170778.967173  259197.493542    KY   \n",
       "geoId/55007  275854.538422  300917.601055    WI   \n",
       "geoId/22081  120883.872924   76727.777705    LA   \n",
       "\n",
       "                                                      geometry     difference  \n",
       "geoId/34017  POLYGON ((-74.16456 40.75596, -74.1651 40.7427... -177961.592544  \n",
       "geoId/48411  POLYGON ((-99.09189 30.92198, -98.72061 30.921...   12299.307595  \n",
       "geoId/21137  MULTIPOLYGON (((-84.74777 37.58648, -84.74418 ...  -88418.526369  \n",
       "geoId/55007  POLYGON ((-91.54939 46.89321, -91.55343 46.502...  -25063.062633  \n",
       "geoId/22081  MULTIPOLYGON (((-93.15244 32.00524, -93.15168 ...   44156.095219  "
      ]
     },
     "execution_count": 40,
     "metadata": {},
     "output_type": "execute_result"
    }
   ],
   "source": [
    "gdf.drop(columns=[\"category\",\"color\",column], inplace=True)\n",
    "gdf.head()"
   ]
  },
  {
   "cell_type": "code",
   "execution_count": 41,
   "id": "cc9d00d1",
   "metadata": {},
   "outputs": [
    {
     "data": {
      "application/vnd.jupyter.widget-view+json": {
       "model_id": "3048cac9de8742279967058cce8c8e42",
       "version_major": 2,
       "version_minor": 0
      },
      "text/plain": [
       "Container(children=[Row(children=[Col(children=[Map(calls=[['addControl', ('NavigationControl', {'showCompass'…"
      ]
     },
     "metadata": {},
     "output_type": "display_data"
    }
   ],
   "source": [
    "m=leafmap.Map(style=\"liberty\")\n",
    "m.add_data(\n",
    "    gdf,\n",
    "    cmap=\"Blues\",\n",
    "    column=\"difference\",\n",
    "    legend_title=\"Difference (Actual - Predicted)\",\n",
    "    name=\"Difference\",\n",
    ")\n",
    "m.add_layer_control()\n",
    "m"
   ]
  },
  {
   "cell_type": "code",
   "execution_count": null,
   "id": "f0b660a0",
   "metadata": {},
   "outputs": [],
   "source": []
  },
  {
   "cell_type": "code",
   "execution_count": null,
   "id": "304c779e",
   "metadata": {},
   "outputs": [],
   "source": []
  },
  {
   "cell_type": "code",
   "execution_count": null,
   "id": "087a108b",
   "metadata": {},
   "outputs": [],
   "source": []
  },
  {
   "cell_type": "code",
   "execution_count": null,
   "id": "a65bb7ef",
   "metadata": {},
   "outputs": [],
   "source": []
  },
  {
   "cell_type": "code",
   "execution_count": null,
   "id": "89f8e883",
   "metadata": {},
   "outputs": [],
   "source": []
  },
  {
   "cell_type": "code",
   "execution_count": null,
   "id": "b944f9cc",
   "metadata": {},
   "outputs": [],
   "source": []
  },
  {
   "cell_type": "code",
   "execution_count": null,
   "id": "a684868d",
   "metadata": {},
   "outputs": [],
   "source": []
  }
 ],
 "metadata": {
  "kernelspec": {
   "display_name": "gee",
   "language": "python",
   "name": "python3"
  },
  "language_info": {
   "codemirror_mode": {
    "name": "ipython",
    "version": 3
   },
   "file_extension": ".py",
   "mimetype": "text/x-python",
   "name": "python",
   "nbconvert_exporter": "python",
   "pygments_lexer": "ipython3",
   "version": "3.12.3"
  }
 },
 "nbformat": 4,
 "nbformat_minor": 5
}
