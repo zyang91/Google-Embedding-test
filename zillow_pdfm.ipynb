{
 "cells": [
  {
   "cell_type": "code",
   "execution_count": 1,
   "id": "1ad64cbf",
   "metadata": {},
   "outputs": [],
   "source": [
    "import os\n",
    "import pandas as pd\n",
    "from sklearn.model_selection import train_test_split\n",
    "from sklearn.linear_model import LinearRegression\n",
    "from sklearn.neighbors import KNeighborsRegressor\n",
    "from leafmap.common import evaluate_model, plot_actual_vs_predicted, download_file"
   ]
  },
  {
   "cell_type": "code",
   "execution_count": 2,
   "id": "f1c6b86e",
   "metadata": {},
   "outputs": [],
   "source": [
    "zhvi_file= \"/home/zyang91/Desktop/data/zillow_home_value_index_by_zipcode.csv\""
   ]
  },
  {
   "cell_type": "code",
   "execution_count": 3,
   "id": "f7e17688",
   "metadata": {},
   "outputs": [
    {
     "data": {
      "text/html": [
       "<div>\n",
       "<style scoped>\n",
       "    .dataframe tbody tr th:only-of-type {\n",
       "        vertical-align: middle;\n",
       "    }\n",
       "\n",
       "    .dataframe tbody tr th {\n",
       "        vertical-align: top;\n",
       "    }\n",
       "\n",
       "    .dataframe thead th {\n",
       "        text-align: right;\n",
       "    }\n",
       "</style>\n",
       "<table border=\"1\" class=\"dataframe\">\n",
       "  <thead>\n",
       "    <tr style=\"text-align: right;\">\n",
       "      <th></th>\n",
       "      <th>RegionID</th>\n",
       "      <th>SizeRank</th>\n",
       "      <th>RegionName</th>\n",
       "      <th>RegionType</th>\n",
       "      <th>StateName</th>\n",
       "      <th>State</th>\n",
       "      <th>City</th>\n",
       "      <th>Metro</th>\n",
       "      <th>CountyName</th>\n",
       "      <th>2000-01-31</th>\n",
       "      <th>...</th>\n",
       "      <th>2024-04-30</th>\n",
       "      <th>2024-05-31</th>\n",
       "      <th>2024-06-30</th>\n",
       "      <th>2024-07-31</th>\n",
       "      <th>2024-08-31</th>\n",
       "      <th>2024-09-30</th>\n",
       "      <th>2024-10-31</th>\n",
       "      <th>2024-11-30</th>\n",
       "      <th>2024-12-31</th>\n",
       "      <th>2025-01-31</th>\n",
       "    </tr>\n",
       "    <tr>\n",
       "      <th>RegionName</th>\n",
       "      <th></th>\n",
       "      <th></th>\n",
       "      <th></th>\n",
       "      <th></th>\n",
       "      <th></th>\n",
       "      <th></th>\n",
       "      <th></th>\n",
       "      <th></th>\n",
       "      <th></th>\n",
       "      <th></th>\n",
       "      <th></th>\n",
       "      <th></th>\n",
       "      <th></th>\n",
       "      <th></th>\n",
       "      <th></th>\n",
       "      <th></th>\n",
       "      <th></th>\n",
       "      <th></th>\n",
       "      <th></th>\n",
       "      <th></th>\n",
       "      <th></th>\n",
       "    </tr>\n",
       "  </thead>\n",
       "  <tbody>\n",
       "    <tr>\n",
       "      <th>zip/77494</th>\n",
       "      <td>91982</td>\n",
       "      <td>1</td>\n",
       "      <td>77494</td>\n",
       "      <td>zip</td>\n",
       "      <td>TX</td>\n",
       "      <td>TX</td>\n",
       "      <td>Katy</td>\n",
       "      <td>Houston-The Woodlands-Sugar Land, TX</td>\n",
       "      <td>Fort Bend County</td>\n",
       "      <td>209050.47676</td>\n",
       "      <td>...</td>\n",
       "      <td>493768.79581</td>\n",
       "      <td>495075.41384</td>\n",
       "      <td>495380.40257</td>\n",
       "      <td>495002.98333</td>\n",
       "      <td>495408.56194</td>\n",
       "      <td>496096.30546</td>\n",
       "      <td>497215.16189</td>\n",
       "      <td>497931.31997</td>\n",
       "      <td>498348.02484</td>\n",
       "      <td>498770.07052</td>\n",
       "    </tr>\n",
       "    <tr>\n",
       "      <th>zip/8701</th>\n",
       "      <td>61148</td>\n",
       "      <td>2</td>\n",
       "      <td>8701</td>\n",
       "      <td>zip</td>\n",
       "      <td>NJ</td>\n",
       "      <td>NJ</td>\n",
       "      <td>Lakewood</td>\n",
       "      <td>New York-Newark-Jersey City, NY-NJ-PA</td>\n",
       "      <td>Ocean County</td>\n",
       "      <td>129618.78060</td>\n",
       "      <td>...</td>\n",
       "      <td>567181.88952</td>\n",
       "      <td>574111.68852</td>\n",
       "      <td>579228.58585</td>\n",
       "      <td>583825.79895</td>\n",
       "      <td>588765.87771</td>\n",
       "      <td>594583.48573</td>\n",
       "      <td>599788.27507</td>\n",
       "      <td>603106.03147</td>\n",
       "      <td>605075.74933</td>\n",
       "      <td>605701.71314</td>\n",
       "    </tr>\n",
       "    <tr>\n",
       "      <th>zip/77449</th>\n",
       "      <td>91940</td>\n",
       "      <td>3</td>\n",
       "      <td>77449</td>\n",
       "      <td>zip</td>\n",
       "      <td>TX</td>\n",
       "      <td>TX</td>\n",
       "      <td>Katy</td>\n",
       "      <td>Houston-The Woodlands-Sugar Land, TX</td>\n",
       "      <td>Harris County</td>\n",
       "      <td>103655.52834</td>\n",
       "      <td>...</td>\n",
       "      <td>281613.08126</td>\n",
       "      <td>282147.02210</td>\n",
       "      <td>282107.28078</td>\n",
       "      <td>281872.89042</td>\n",
       "      <td>281691.18638</td>\n",
       "      <td>281502.99185</td>\n",
       "      <td>281086.41028</td>\n",
       "      <td>280298.90222</td>\n",
       "      <td>279570.22174</td>\n",
       "      <td>278960.08768</td>\n",
       "    </tr>\n",
       "    <tr>\n",
       "      <th>zip/11368</th>\n",
       "      <td>62080</td>\n",
       "      <td>4</td>\n",
       "      <td>11368</td>\n",
       "      <td>zip</td>\n",
       "      <td>NY</td>\n",
       "      <td>NY</td>\n",
       "      <td>New York</td>\n",
       "      <td>New York-Newark-Jersey City, NY-NJ-PA</td>\n",
       "      <td>Queens County</td>\n",
       "      <td>146323.41156</td>\n",
       "      <td>...</td>\n",
       "      <td>448237.17350</td>\n",
       "      <td>452805.95427</td>\n",
       "      <td>453500.45273</td>\n",
       "      <td>452997.37976</td>\n",
       "      <td>452371.99866</td>\n",
       "      <td>453320.49579</td>\n",
       "      <td>453075.34378</td>\n",
       "      <td>451863.57197</td>\n",
       "      <td>449627.30018</td>\n",
       "      <td>447532.07593</td>\n",
       "    </tr>\n",
       "    <tr>\n",
       "      <th>zip/77084</th>\n",
       "      <td>91733</td>\n",
       "      <td>5</td>\n",
       "      <td>77084</td>\n",
       "      <td>zip</td>\n",
       "      <td>TX</td>\n",
       "      <td>TX</td>\n",
       "      <td>Houston</td>\n",
       "      <td>Houston-The Woodlands-Sugar Land, TX</td>\n",
       "      <td>Harris County</td>\n",
       "      <td>102106.86183</td>\n",
       "      <td>...</td>\n",
       "      <td>274112.51755</td>\n",
       "      <td>274613.19668</td>\n",
       "      <td>274446.91817</td>\n",
       "      <td>274155.37019</td>\n",
       "      <td>273883.45917</td>\n",
       "      <td>273631.25456</td>\n",
       "      <td>273125.76564</td>\n",
       "      <td>272528.81542</td>\n",
       "      <td>272190.92108</td>\n",
       "      <td>271949.29478</td>\n",
       "    </tr>\n",
       "    <tr>\n",
       "      <th>...</th>\n",
       "      <td>...</td>\n",
       "      <td>...</td>\n",
       "      <td>...</td>\n",
       "      <td>...</td>\n",
       "      <td>...</td>\n",
       "      <td>...</td>\n",
       "      <td>...</td>\n",
       "      <td>...</td>\n",
       "      <td>...</td>\n",
       "      <td>...</td>\n",
       "      <td>...</td>\n",
       "      <td>...</td>\n",
       "      <td>...</td>\n",
       "      <td>...</td>\n",
       "      <td>...</td>\n",
       "      <td>...</td>\n",
       "      <td>...</td>\n",
       "      <td>...</td>\n",
       "      <td>...</td>\n",
       "      <td>...</td>\n",
       "      <td>...</td>\n",
       "    </tr>\n",
       "    <tr>\n",
       "      <th>zip/14441</th>\n",
       "      <td>63527</td>\n",
       "      <td>39992</td>\n",
       "      <td>14441</td>\n",
       "      <td>zip</td>\n",
       "      <td>NY</td>\n",
       "      <td>NY</td>\n",
       "      <td>Dresden</td>\n",
       "      <td>Rochester, NY</td>\n",
       "      <td>Yates County</td>\n",
       "      <td>95200.50699</td>\n",
       "      <td>...</td>\n",
       "      <td>207411.50108</td>\n",
       "      <td>212859.34574</td>\n",
       "      <td>217705.20709</td>\n",
       "      <td>220747.04046</td>\n",
       "      <td>223033.16078</td>\n",
       "      <td>225156.69128</td>\n",
       "      <td>227314.26864</td>\n",
       "      <td>228544.60812</td>\n",
       "      <td>228472.62049</td>\n",
       "      <td>227382.44448</td>\n",
       "    </tr>\n",
       "    <tr>\n",
       "      <th>zip/98628</th>\n",
       "      <td>99927</td>\n",
       "      <td>39992</td>\n",
       "      <td>98628</td>\n",
       "      <td>zip</td>\n",
       "      <td>WA</td>\n",
       "      <td>WA</td>\n",
       "      <td>Klickitat</td>\n",
       "      <td>NaN</td>\n",
       "      <td>Klickitat County</td>\n",
       "      <td>NaN</td>\n",
       "      <td>...</td>\n",
       "      <td>180804.48613</td>\n",
       "      <td>183691.42860</td>\n",
       "      <td>184378.49311</td>\n",
       "      <td>182270.09823</td>\n",
       "      <td>179856.66170</td>\n",
       "      <td>177621.28838</td>\n",
       "      <td>176436.41050</td>\n",
       "      <td>175243.01948</td>\n",
       "      <td>174289.08096</td>\n",
       "      <td>172769.70567</td>\n",
       "    </tr>\n",
       "    <tr>\n",
       "      <th>zip/52163</th>\n",
       "      <td>80861</td>\n",
       "      <td>39992</td>\n",
       "      <td>52163</td>\n",
       "      <td>zip</td>\n",
       "      <td>IA</td>\n",
       "      <td>IA</td>\n",
       "      <td>Protivin</td>\n",
       "      <td>NaN</td>\n",
       "      <td>Howard County</td>\n",
       "      <td>NaN</td>\n",
       "      <td>...</td>\n",
       "      <td>108590.53252</td>\n",
       "      <td>110531.05868</td>\n",
       "      <td>112546.78660</td>\n",
       "      <td>114074.31279</td>\n",
       "      <td>114923.34847</td>\n",
       "      <td>114988.32175</td>\n",
       "      <td>115144.24508</td>\n",
       "      <td>115385.62968</td>\n",
       "      <td>115883.51422</td>\n",
       "      <td>116227.22666</td>\n",
       "    </tr>\n",
       "    <tr>\n",
       "      <th>zip/82515</th>\n",
       "      <td>93941</td>\n",
       "      <td>39992</td>\n",
       "      <td>82515</td>\n",
       "      <td>zip</td>\n",
       "      <td>WY</td>\n",
       "      <td>WY</td>\n",
       "      <td>Hudson</td>\n",
       "      <td>Riverton, WY</td>\n",
       "      <td>Fremont County</td>\n",
       "      <td>NaN</td>\n",
       "      <td>...</td>\n",
       "      <td>172749.51473</td>\n",
       "      <td>173795.26943</td>\n",
       "      <td>174129.18080</td>\n",
       "      <td>173601.28544</td>\n",
       "      <td>173438.17253</td>\n",
       "      <td>173265.88871</td>\n",
       "      <td>173444.63429</td>\n",
       "      <td>172971.96409</td>\n",
       "      <td>172685.45419</td>\n",
       "      <td>172487.20152</td>\n",
       "    </tr>\n",
       "    <tr>\n",
       "      <th>zip/50160</th>\n",
       "      <td>80190</td>\n",
       "      <td>39992</td>\n",
       "      <td>50160</td>\n",
       "      <td>zip</td>\n",
       "      <td>IA</td>\n",
       "      <td>IA</td>\n",
       "      <td>Martensdale</td>\n",
       "      <td>Des Moines-West Des Moines, IA</td>\n",
       "      <td>Warren County</td>\n",
       "      <td>NaN</td>\n",
       "      <td>...</td>\n",
       "      <td>196175.58759</td>\n",
       "      <td>197239.57154</td>\n",
       "      <td>197434.12514</td>\n",
       "      <td>197622.44778</td>\n",
       "      <td>197875.01391</td>\n",
       "      <td>198489.17993</td>\n",
       "      <td>199001.79534</td>\n",
       "      <td>199616.16038</td>\n",
       "      <td>200645.25013</td>\n",
       "      <td>201405.93792</td>\n",
       "    </tr>\n",
       "  </tbody>\n",
       "</table>\n",
       "<p>26323 rows × 310 columns</p>\n",
       "</div>"
      ],
      "text/plain": [
       "            RegionID  SizeRank RegionName RegionType StateName State  \\\n",
       "RegionName                                                             \n",
       "zip/77494      91982         1      77494        zip        TX    TX   \n",
       "zip/8701       61148         2       8701        zip        NJ    NJ   \n",
       "zip/77449      91940         3      77449        zip        TX    TX   \n",
       "zip/11368      62080         4      11368        zip        NY    NY   \n",
       "zip/77084      91733         5      77084        zip        TX    TX   \n",
       "...              ...       ...        ...        ...       ...   ...   \n",
       "zip/14441      63527     39992      14441        zip        NY    NY   \n",
       "zip/98628      99927     39992      98628        zip        WA    WA   \n",
       "zip/52163      80861     39992      52163        zip        IA    IA   \n",
       "zip/82515      93941     39992      82515        zip        WY    WY   \n",
       "zip/50160      80190     39992      50160        zip        IA    IA   \n",
       "\n",
       "                   City                                  Metro  \\\n",
       "RegionName                                                       \n",
       "zip/77494          Katy   Houston-The Woodlands-Sugar Land, TX   \n",
       "zip/8701       Lakewood  New York-Newark-Jersey City, NY-NJ-PA   \n",
       "zip/77449          Katy   Houston-The Woodlands-Sugar Land, TX   \n",
       "zip/11368      New York  New York-Newark-Jersey City, NY-NJ-PA   \n",
       "zip/77084       Houston   Houston-The Woodlands-Sugar Land, TX   \n",
       "...                 ...                                    ...   \n",
       "zip/14441       Dresden                          Rochester, NY   \n",
       "zip/98628     Klickitat                                    NaN   \n",
       "zip/52163      Protivin                                    NaN   \n",
       "zip/82515        Hudson                           Riverton, WY   \n",
       "zip/50160   Martensdale         Des Moines-West Des Moines, IA   \n",
       "\n",
       "                  CountyName    2000-01-31  ...    2024-04-30    2024-05-31  \\\n",
       "RegionName                                  ...                               \n",
       "zip/77494   Fort Bend County  209050.47676  ...  493768.79581  495075.41384   \n",
       "zip/8701        Ocean County  129618.78060  ...  567181.88952  574111.68852   \n",
       "zip/77449      Harris County  103655.52834  ...  281613.08126  282147.02210   \n",
       "zip/11368      Queens County  146323.41156  ...  448237.17350  452805.95427   \n",
       "zip/77084      Harris County  102106.86183  ...  274112.51755  274613.19668   \n",
       "...                      ...           ...  ...           ...           ...   \n",
       "zip/14441       Yates County   95200.50699  ...  207411.50108  212859.34574   \n",
       "zip/98628   Klickitat County           NaN  ...  180804.48613  183691.42860   \n",
       "zip/52163      Howard County           NaN  ...  108590.53252  110531.05868   \n",
       "zip/82515     Fremont County           NaN  ...  172749.51473  173795.26943   \n",
       "zip/50160      Warren County           NaN  ...  196175.58759  197239.57154   \n",
       "\n",
       "              2024-06-30    2024-07-31    2024-08-31    2024-09-30  \\\n",
       "RegionName                                                           \n",
       "zip/77494   495380.40257  495002.98333  495408.56194  496096.30546   \n",
       "zip/8701    579228.58585  583825.79895  588765.87771  594583.48573   \n",
       "zip/77449   282107.28078  281872.89042  281691.18638  281502.99185   \n",
       "zip/11368   453500.45273  452997.37976  452371.99866  453320.49579   \n",
       "zip/77084   274446.91817  274155.37019  273883.45917  273631.25456   \n",
       "...                  ...           ...           ...           ...   \n",
       "zip/14441   217705.20709  220747.04046  223033.16078  225156.69128   \n",
       "zip/98628   184378.49311  182270.09823  179856.66170  177621.28838   \n",
       "zip/52163   112546.78660  114074.31279  114923.34847  114988.32175   \n",
       "zip/82515   174129.18080  173601.28544  173438.17253  173265.88871   \n",
       "zip/50160   197434.12514  197622.44778  197875.01391  198489.17993   \n",
       "\n",
       "              2024-10-31    2024-11-30    2024-12-31    2025-01-31  \n",
       "RegionName                                                          \n",
       "zip/77494   497215.16189  497931.31997  498348.02484  498770.07052  \n",
       "zip/8701    599788.27507  603106.03147  605075.74933  605701.71314  \n",
       "zip/77449   281086.41028  280298.90222  279570.22174  278960.08768  \n",
       "zip/11368   453075.34378  451863.57197  449627.30018  447532.07593  \n",
       "zip/77084   273125.76564  272528.81542  272190.92108  271949.29478  \n",
       "...                  ...           ...           ...           ...  \n",
       "zip/14441   227314.26864  228544.60812  228472.62049  227382.44448  \n",
       "zip/98628   176436.41050  175243.01948  174289.08096  172769.70567  \n",
       "zip/52163   115144.24508  115385.62968  115883.51422  116227.22666  \n",
       "zip/82515   173444.63429  172971.96409  172685.45419  172487.20152  \n",
       "zip/50160   199001.79534  199616.16038  200645.25013  201405.93792  \n",
       "\n",
       "[26323 rows x 310 columns]"
      ]
     },
     "execution_count": 3,
     "metadata": {},
     "output_type": "execute_result"
    }
   ],
   "source": [
    "zhvi_df= pd.read_csv(zhvi_file,dtype={'RegionName': str})\n",
    "zhvi_df.index= zhvi_df[\"RegionName\"].apply(lambda x: f\"zip/{x}\")\n",
    "zhvi_df"
   ]
  },
  {
   "cell_type": "code",
   "execution_count": 4,
   "id": "a967c968",
   "metadata": {},
   "outputs": [],
   "source": [
    "embeddings_file = \"/home/zyang91/Desktop/us/zcta_embeddings.csv\""
   ]
  },
  {
   "cell_type": "code",
   "execution_count": 5,
   "id": "f153bbeb",
   "metadata": {},
   "outputs": [
    {
     "data": {
      "text/html": [
       "<div>\n",
       "<style scoped>\n",
       "    .dataframe tbody tr th:only-of-type {\n",
       "        vertical-align: middle;\n",
       "    }\n",
       "\n",
       "    .dataframe tbody tr th {\n",
       "        vertical-align: top;\n",
       "    }\n",
       "\n",
       "    .dataframe thead th {\n",
       "        text-align: right;\n",
       "    }\n",
       "</style>\n",
       "<table border=\"1\" class=\"dataframe\">\n",
       "  <thead>\n",
       "    <tr style=\"text-align: right;\">\n",
       "      <th></th>\n",
       "      <th>state</th>\n",
       "      <th>county</th>\n",
       "      <th>city</th>\n",
       "      <th>population</th>\n",
       "      <th>latitude</th>\n",
       "      <th>longitude</th>\n",
       "      <th>feature0</th>\n",
       "      <th>feature1</th>\n",
       "      <th>feature2</th>\n",
       "      <th>feature3</th>\n",
       "      <th>...</th>\n",
       "      <th>feature320</th>\n",
       "      <th>feature321</th>\n",
       "      <th>feature322</th>\n",
       "      <th>feature323</th>\n",
       "      <th>feature324</th>\n",
       "      <th>feature325</th>\n",
       "      <th>feature326</th>\n",
       "      <th>feature327</th>\n",
       "      <th>feature328</th>\n",
       "      <th>feature329</th>\n",
       "    </tr>\n",
       "    <tr>\n",
       "      <th>place</th>\n",
       "      <th></th>\n",
       "      <th></th>\n",
       "      <th></th>\n",
       "      <th></th>\n",
       "      <th></th>\n",
       "      <th></th>\n",
       "      <th></th>\n",
       "      <th></th>\n",
       "      <th></th>\n",
       "      <th></th>\n",
       "      <th></th>\n",
       "      <th></th>\n",
       "      <th></th>\n",
       "      <th></th>\n",
       "      <th></th>\n",
       "      <th></th>\n",
       "      <th></th>\n",
       "      <th></th>\n",
       "      <th></th>\n",
       "      <th></th>\n",
       "      <th></th>\n",
       "    </tr>\n",
       "  </thead>\n",
       "  <tbody>\n",
       "    <tr>\n",
       "      <th>zip/97910</th>\n",
       "      <td>OR</td>\n",
       "      <td>Malheur County</td>\n",
       "      <td>Jordan Valley</td>\n",
       "      <td>609</td>\n",
       "      <td>42.749076</td>\n",
       "      <td>-117.511459</td>\n",
       "      <td>-0.138227</td>\n",
       "      <td>1.120377</td>\n",
       "      <td>0.072900</td>\n",
       "      <td>0.297442</td>\n",
       "      <td>...</td>\n",
       "      <td>-1.588909e-01</td>\n",
       "      <td>-0.168708</td>\n",
       "      <td>1.231994</td>\n",
       "      <td>-1.557645e-01</td>\n",
       "      <td>3.043214</td>\n",
       "      <td>-1.697491e-01</td>\n",
       "      <td>0.177463</td>\n",
       "      <td>-0.001661</td>\n",
       "      <td>-1.010470e-03</td>\n",
       "      <td>4.495589</td>\n",
       "    </tr>\n",
       "    <tr>\n",
       "      <th>zip/89412</th>\n",
       "      <td>NV</td>\n",
       "      <td>Washoe County</td>\n",
       "      <td>Gerlach</td>\n",
       "      <td>98</td>\n",
       "      <td>41.102934</td>\n",
       "      <td>-119.695361</td>\n",
       "      <td>-0.141379</td>\n",
       "      <td>1.422782</td>\n",
       "      <td>0.234269</td>\n",
       "      <td>0.159156</td>\n",
       "      <td>...</td>\n",
       "      <td>-1.574173e-01</td>\n",
       "      <td>-0.043606</td>\n",
       "      <td>2.788701</td>\n",
       "      <td>-6.254692e-02</td>\n",
       "      <td>3.700745</td>\n",
       "      <td>-1.698268e-01</td>\n",
       "      <td>-0.137990</td>\n",
       "      <td>-0.024385</td>\n",
       "      <td>-2.950600e-04</td>\n",
       "      <td>3.399393</td>\n",
       "    </tr>\n",
       "    <tr>\n",
       "      <th>zip/88030</th>\n",
       "      <td>NM</td>\n",
       "      <td>Luna County</td>\n",
       "      <td>Deming</td>\n",
       "      <td>24139</td>\n",
       "      <td>32.191634</td>\n",
       "      <td>-107.729431</td>\n",
       "      <td>-0.046666</td>\n",
       "      <td>1.414424</td>\n",
       "      <td>0.146803</td>\n",
       "      <td>1.113256</td>\n",
       "      <td>...</td>\n",
       "      <td>-6.540800e-04</td>\n",
       "      <td>0.437475</td>\n",
       "      <td>4.229295</td>\n",
       "      <td>2.291990e-01</td>\n",
       "      <td>2.098469</td>\n",
       "      <td>1.150497e+00</td>\n",
       "      <td>0.716122</td>\n",
       "      <td>-0.116499</td>\n",
       "      <td>-5.116325e-02</td>\n",
       "      <td>3.866543</td>\n",
       "    </tr>\n",
       "    <tr>\n",
       "      <th>zip/82633</th>\n",
       "      <td>WY</td>\n",
       "      <td>Converse County</td>\n",
       "      <td>Douglas</td>\n",
       "      <td>9478</td>\n",
       "      <td>43.022270</td>\n",
       "      <td>-105.410250</td>\n",
       "      <td>-0.090293</td>\n",
       "      <td>1.266280</td>\n",
       "      <td>0.447868</td>\n",
       "      <td>0.781861</td>\n",
       "      <td>...</td>\n",
       "      <td>-3.377113e-02</td>\n",
       "      <td>0.579775</td>\n",
       "      <td>2.688665</td>\n",
       "      <td>1.756692e-01</td>\n",
       "      <td>0.990921</td>\n",
       "      <td>1.644879e+00</td>\n",
       "      <td>0.222517</td>\n",
       "      <td>-0.047864</td>\n",
       "      <td>-4.237000e-05</td>\n",
       "      <td>7.453567</td>\n",
       "    </tr>\n",
       "    <tr>\n",
       "      <th>zip/59538</th>\n",
       "      <td>MT</td>\n",
       "      <td>Phillips County</td>\n",
       "      <td>Malta</td>\n",
       "      <td>2936</td>\n",
       "      <td>48.112019</td>\n",
       "      <td>-107.845520</td>\n",
       "      <td>-0.092886</td>\n",
       "      <td>1.256203</td>\n",
       "      <td>-0.050897</td>\n",
       "      <td>0.321954</td>\n",
       "      <td>...</td>\n",
       "      <td>-1.699154e-01</td>\n",
       "      <td>-0.088829</td>\n",
       "      <td>0.338914</td>\n",
       "      <td>-1.029619e-01</td>\n",
       "      <td>-0.156583</td>\n",
       "      <td>1.493696e+00</td>\n",
       "      <td>2.259007</td>\n",
       "      <td>-0.161916</td>\n",
       "      <td>-1.086910e-03</td>\n",
       "      <td>0.972243</td>\n",
       "    </tr>\n",
       "    <tr>\n",
       "      <th>...</th>\n",
       "      <td>...</td>\n",
       "      <td>...</td>\n",
       "      <td>...</td>\n",
       "      <td>...</td>\n",
       "      <td>...</td>\n",
       "      <td>...</td>\n",
       "      <td>...</td>\n",
       "      <td>...</td>\n",
       "      <td>...</td>\n",
       "      <td>...</td>\n",
       "      <td>...</td>\n",
       "      <td>...</td>\n",
       "      <td>...</td>\n",
       "      <td>...</td>\n",
       "      <td>...</td>\n",
       "      <td>...</td>\n",
       "      <td>...</td>\n",
       "      <td>...</td>\n",
       "      <td>...</td>\n",
       "      <td>...</td>\n",
       "      <td>...</td>\n",
       "    </tr>\n",
       "    <tr>\n",
       "      <th>zip/43117</th>\n",
       "      <td>OH</td>\n",
       "      <td>Pickaway County</td>\n",
       "      <td>Derby</td>\n",
       "      <td>69</td>\n",
       "      <td>39.768789</td>\n",
       "      <td>-83.206122</td>\n",
       "      <td>-0.027339</td>\n",
       "      <td>1.556422</td>\n",
       "      <td>1.229264</td>\n",
       "      <td>0.801588</td>\n",
       "      <td>...</td>\n",
       "      <td>-1.090080e-01</td>\n",
       "      <td>-0.039277</td>\n",
       "      <td>1.950797</td>\n",
       "      <td>-1.548614e-01</td>\n",
       "      <td>-0.163302</td>\n",
       "      <td>-1.699533e-01</td>\n",
       "      <td>1.940206</td>\n",
       "      <td>1.456303</td>\n",
       "      <td>-9.436400e-04</td>\n",
       "      <td>2.706647</td>\n",
       "    </tr>\n",
       "    <tr>\n",
       "      <th>zip/14302</th>\n",
       "      <td>NY</td>\n",
       "      <td>Niagara County</td>\n",
       "      <td>Niagara Falls</td>\n",
       "      <td>229</td>\n",
       "      <td>43.093896</td>\n",
       "      <td>-79.049193</td>\n",
       "      <td>-0.081384</td>\n",
       "      <td>1.241892</td>\n",
       "      <td>0.655743</td>\n",
       "      <td>0.431606</td>\n",
       "      <td>...</td>\n",
       "      <td>8.140615e-01</td>\n",
       "      <td>-0.000713</td>\n",
       "      <td>-0.117548</td>\n",
       "      <td>-7.834878e-02</td>\n",
       "      <td>1.176950</td>\n",
       "      <td>-1.900440e-02</td>\n",
       "      <td>0.445953</td>\n",
       "      <td>-0.071082</td>\n",
       "      <td>-3.293640e-03</td>\n",
       "      <td>1.193913</td>\n",
       "    </tr>\n",
       "    <tr>\n",
       "      <th>zip/10162</th>\n",
       "      <td>NY</td>\n",
       "      <td>New York County</td>\n",
       "      <td>New York</td>\n",
       "      <td>2268</td>\n",
       "      <td>40.769298</td>\n",
       "      <td>-73.949942</td>\n",
       "      <td>-0.130655</td>\n",
       "      <td>1.159695</td>\n",
       "      <td>3.368129</td>\n",
       "      <td>1.547286</td>\n",
       "      <td>...</td>\n",
       "      <td>-9.400000e-07</td>\n",
       "      <td>-0.130648</td>\n",
       "      <td>-0.000000</td>\n",
       "      <td>-3.996429e-02</td>\n",
       "      <td>-0.023050</td>\n",
       "      <td>-2.800000e-07</td>\n",
       "      <td>0.033541</td>\n",
       "      <td>-0.000002</td>\n",
       "      <td>-2.000000e-08</td>\n",
       "      <td>-0.097251</td>\n",
       "    </tr>\n",
       "    <tr>\n",
       "      <th>zip/80290</th>\n",
       "      <td>CO</td>\n",
       "      <td>Denver County</td>\n",
       "      <td>Denver</td>\n",
       "      <td>281</td>\n",
       "      <td>39.744092</td>\n",
       "      <td>-104.986754</td>\n",
       "      <td>-0.112998</td>\n",
       "      <td>0.355581</td>\n",
       "      <td>3.924113</td>\n",
       "      <td>3.203672</td>\n",
       "      <td>...</td>\n",
       "      <td>-5.011000e-05</td>\n",
       "      <td>0.050413</td>\n",
       "      <td>2.452633</td>\n",
       "      <td>2.943200e+00</td>\n",
       "      <td>0.056537</td>\n",
       "      <td>1.590900e+00</td>\n",
       "      <td>3.215226</td>\n",
       "      <td>-0.002824</td>\n",
       "      <td>-5.924400e-04</td>\n",
       "      <td>4.557303</td>\n",
       "    </tr>\n",
       "    <tr>\n",
       "      <th>zip/10279</th>\n",
       "      <td>NY</td>\n",
       "      <td>New York County</td>\n",
       "      <td>New York</td>\n",
       "      <td>131</td>\n",
       "      <td>40.712626</td>\n",
       "      <td>-74.008669</td>\n",
       "      <td>-0.130601</td>\n",
       "      <td>0.820977</td>\n",
       "      <td>3.554522</td>\n",
       "      <td>1.780694</td>\n",
       "      <td>...</td>\n",
       "      <td>-0.000000e+00</td>\n",
       "      <td>-0.000002</td>\n",
       "      <td>-0.000000</td>\n",
       "      <td>-2.100000e-07</td>\n",
       "      <td>-0.000002</td>\n",
       "      <td>-0.000000e+00</td>\n",
       "      <td>-0.016128</td>\n",
       "      <td>-0.000000</td>\n",
       "      <td>-1.000000e-08</td>\n",
       "      <td>-0.000792</td>\n",
       "    </tr>\n",
       "  </tbody>\n",
       "</table>\n",
       "<p>32069 rows × 336 columns</p>\n",
       "</div>"
      ],
      "text/plain": [
       "          state           county           city  population   latitude  \\\n",
       "place                                                                    \n",
       "zip/97910    OR   Malheur County  Jordan Valley         609  42.749076   \n",
       "zip/89412    NV    Washoe County        Gerlach          98  41.102934   \n",
       "zip/88030    NM      Luna County         Deming       24139  32.191634   \n",
       "zip/82633    WY  Converse County        Douglas        9478  43.022270   \n",
       "zip/59538    MT  Phillips County          Malta        2936  48.112019   \n",
       "...         ...              ...            ...         ...        ...   \n",
       "zip/43117    OH  Pickaway County          Derby          69  39.768789   \n",
       "zip/14302    NY   Niagara County  Niagara Falls         229  43.093896   \n",
       "zip/10162    NY  New York County       New York        2268  40.769298   \n",
       "zip/80290    CO    Denver County         Denver         281  39.744092   \n",
       "zip/10279    NY  New York County       New York         131  40.712626   \n",
       "\n",
       "            longitude  feature0  feature1  feature2  feature3  ...  \\\n",
       "place                                                          ...   \n",
       "zip/97910 -117.511459 -0.138227  1.120377  0.072900  0.297442  ...   \n",
       "zip/89412 -119.695361 -0.141379  1.422782  0.234269  0.159156  ...   \n",
       "zip/88030 -107.729431 -0.046666  1.414424  0.146803  1.113256  ...   \n",
       "zip/82633 -105.410250 -0.090293  1.266280  0.447868  0.781861  ...   \n",
       "zip/59538 -107.845520 -0.092886  1.256203 -0.050897  0.321954  ...   \n",
       "...               ...       ...       ...       ...       ...  ...   \n",
       "zip/43117  -83.206122 -0.027339  1.556422  1.229264  0.801588  ...   \n",
       "zip/14302  -79.049193 -0.081384  1.241892  0.655743  0.431606  ...   \n",
       "zip/10162  -73.949942 -0.130655  1.159695  3.368129  1.547286  ...   \n",
       "zip/80290 -104.986754 -0.112998  0.355581  3.924113  3.203672  ...   \n",
       "zip/10279  -74.008669 -0.130601  0.820977  3.554522  1.780694  ...   \n",
       "\n",
       "             feature320  feature321  feature322    feature323  feature324  \\\n",
       "place                                                                       \n",
       "zip/97910 -1.588909e-01   -0.168708    1.231994 -1.557645e-01    3.043214   \n",
       "zip/89412 -1.574173e-01   -0.043606    2.788701 -6.254692e-02    3.700745   \n",
       "zip/88030 -6.540800e-04    0.437475    4.229295  2.291990e-01    2.098469   \n",
       "zip/82633 -3.377113e-02    0.579775    2.688665  1.756692e-01    0.990921   \n",
       "zip/59538 -1.699154e-01   -0.088829    0.338914 -1.029619e-01   -0.156583   \n",
       "...                 ...         ...         ...           ...         ...   \n",
       "zip/43117 -1.090080e-01   -0.039277    1.950797 -1.548614e-01   -0.163302   \n",
       "zip/14302  8.140615e-01   -0.000713   -0.117548 -7.834878e-02    1.176950   \n",
       "zip/10162 -9.400000e-07   -0.130648   -0.000000 -3.996429e-02   -0.023050   \n",
       "zip/80290 -5.011000e-05    0.050413    2.452633  2.943200e+00    0.056537   \n",
       "zip/10279 -0.000000e+00   -0.000002   -0.000000 -2.100000e-07   -0.000002   \n",
       "\n",
       "             feature325  feature326  feature327    feature328  feature329  \n",
       "place                                                                      \n",
       "zip/97910 -1.697491e-01    0.177463   -0.001661 -1.010470e-03    4.495589  \n",
       "zip/89412 -1.698268e-01   -0.137990   -0.024385 -2.950600e-04    3.399393  \n",
       "zip/88030  1.150497e+00    0.716122   -0.116499 -5.116325e-02    3.866543  \n",
       "zip/82633  1.644879e+00    0.222517   -0.047864 -4.237000e-05    7.453567  \n",
       "zip/59538  1.493696e+00    2.259007   -0.161916 -1.086910e-03    0.972243  \n",
       "...                 ...         ...         ...           ...         ...  \n",
       "zip/43117 -1.699533e-01    1.940206    1.456303 -9.436400e-04    2.706647  \n",
       "zip/14302 -1.900440e-02    0.445953   -0.071082 -3.293640e-03    1.193913  \n",
       "zip/10162 -2.800000e-07    0.033541   -0.000002 -2.000000e-08   -0.097251  \n",
       "zip/80290  1.590900e+00    3.215226   -0.002824 -5.924400e-04    4.557303  \n",
       "zip/10279 -0.000000e+00   -0.016128   -0.000000 -1.000000e-08   -0.000792  \n",
       "\n",
       "[32069 rows x 336 columns]"
      ]
     },
     "execution_count": 5,
     "metadata": {},
     "output_type": "execute_result"
    }
   ],
   "source": [
    "zipcode_embeddings = pd.read_csv(embeddings_file).set_index(\"place\")\n",
    "zipcode_embeddings"
   ]
  },
  {
   "cell_type": "code",
   "execution_count": 11,
   "id": "b4b823df",
   "metadata": {},
   "outputs": [
    {
     "data": {
      "text/html": [
       "<div>\n",
       "<style scoped>\n",
       "    .dataframe tbody tr th:only-of-type {\n",
       "        vertical-align: middle;\n",
       "    }\n",
       "\n",
       "    .dataframe tbody tr th {\n",
       "        vertical-align: top;\n",
       "    }\n",
       "\n",
       "    .dataframe thead th {\n",
       "        text-align: right;\n",
       "    }\n",
       "</style>\n",
       "<table border=\"1\" class=\"dataframe\">\n",
       "  <thead>\n",
       "    <tr style=\"text-align: right;\">\n",
       "      <th></th>\n",
       "      <th>RegionID</th>\n",
       "      <th>SizeRank</th>\n",
       "      <th>RegionName</th>\n",
       "      <th>RegionType</th>\n",
       "      <th>StateName</th>\n",
       "      <th>State</th>\n",
       "      <th>City</th>\n",
       "      <th>Metro</th>\n",
       "      <th>CountyName</th>\n",
       "      <th>2000-01-31</th>\n",
       "      <th>...</th>\n",
       "      <th>feature320</th>\n",
       "      <th>feature321</th>\n",
       "      <th>feature322</th>\n",
       "      <th>feature323</th>\n",
       "      <th>feature324</th>\n",
       "      <th>feature325</th>\n",
       "      <th>feature326</th>\n",
       "      <th>feature327</th>\n",
       "      <th>feature328</th>\n",
       "      <th>feature329</th>\n",
       "    </tr>\n",
       "  </thead>\n",
       "  <tbody>\n",
       "    <tr>\n",
       "      <th>zip/77494</th>\n",
       "      <td>91982</td>\n",
       "      <td>1</td>\n",
       "      <td>77494</td>\n",
       "      <td>zip</td>\n",
       "      <td>TX</td>\n",
       "      <td>TX</td>\n",
       "      <td>Katy</td>\n",
       "      <td>Houston-The Woodlands-Sugar Land, TX</td>\n",
       "      <td>Fort Bend County</td>\n",
       "      <td>209050.47676</td>\n",
       "      <td>...</td>\n",
       "      <td>-0.000001</td>\n",
       "      <td>-0.000573</td>\n",
       "      <td>-7.384640e-02</td>\n",
       "      <td>3.741291</td>\n",
       "      <td>6.835684</td>\n",
       "      <td>7.062005e+00</td>\n",
       "      <td>2.521905</td>\n",
       "      <td>1.494393</td>\n",
       "      <td>-0.000000e+00</td>\n",
       "      <td>0.663955</td>\n",
       "    </tr>\n",
       "    <tr>\n",
       "      <th>zip/77449</th>\n",
       "      <td>91940</td>\n",
       "      <td>3</td>\n",
       "      <td>77449</td>\n",
       "      <td>zip</td>\n",
       "      <td>TX</td>\n",
       "      <td>TX</td>\n",
       "      <td>Katy</td>\n",
       "      <td>Houston-The Woodlands-Sugar Land, TX</td>\n",
       "      <td>Harris County</td>\n",
       "      <td>103655.52834</td>\n",
       "      <td>...</td>\n",
       "      <td>-0.017497</td>\n",
       "      <td>-0.003990</td>\n",
       "      <td>-1.646668e-01</td>\n",
       "      <td>4.616399</td>\n",
       "      <td>6.331781</td>\n",
       "      <td>6.382573e+00</td>\n",
       "      <td>2.943955</td>\n",
       "      <td>1.990187</td>\n",
       "      <td>-4.000000e-06</td>\n",
       "      <td>1.199221</td>\n",
       "    </tr>\n",
       "    <tr>\n",
       "      <th>zip/11368</th>\n",
       "      <td>62080</td>\n",
       "      <td>4</td>\n",
       "      <td>11368</td>\n",
       "      <td>zip</td>\n",
       "      <td>NY</td>\n",
       "      <td>NY</td>\n",
       "      <td>New York</td>\n",
       "      <td>New York-Newark-Jersey City, NY-NJ-PA</td>\n",
       "      <td>Queens County</td>\n",
       "      <td>146323.41156</td>\n",
       "      <td>...</td>\n",
       "      <td>-0.099274</td>\n",
       "      <td>2.189546</td>\n",
       "      <td>-2.500000e-07</td>\n",
       "      <td>6.165315</td>\n",
       "      <td>-0.082513</td>\n",
       "      <td>-1.300000e-07</td>\n",
       "      <td>3.876507</td>\n",
       "      <td>-0.031210</td>\n",
       "      <td>-4.438200e-04</td>\n",
       "      <td>3.084769</td>\n",
       "    </tr>\n",
       "    <tr>\n",
       "      <th>zip/77084</th>\n",
       "      <td>91733</td>\n",
       "      <td>5</td>\n",
       "      <td>77084</td>\n",
       "      <td>zip</td>\n",
       "      <td>TX</td>\n",
       "      <td>TX</td>\n",
       "      <td>Houston</td>\n",
       "      <td>Houston-The Woodlands-Sugar Land, TX</td>\n",
       "      <td>Harris County</td>\n",
       "      <td>102106.86183</td>\n",
       "      <td>...</td>\n",
       "      <td>-0.006604</td>\n",
       "      <td>-0.015875</td>\n",
       "      <td>-1.620866e-01</td>\n",
       "      <td>4.832126</td>\n",
       "      <td>6.007081</td>\n",
       "      <td>6.243350e+00</td>\n",
       "      <td>1.670585</td>\n",
       "      <td>2.623777</td>\n",
       "      <td>-7.000000e-08</td>\n",
       "      <td>0.925346</td>\n",
       "    </tr>\n",
       "    <tr>\n",
       "      <th>zip/79936</th>\n",
       "      <td>93144</td>\n",
       "      <td>6</td>\n",
       "      <td>79936</td>\n",
       "      <td>zip</td>\n",
       "      <td>TX</td>\n",
       "      <td>TX</td>\n",
       "      <td>El Paso</td>\n",
       "      <td>El Paso, TX</td>\n",
       "      <td>El Paso County</td>\n",
       "      <td>88633.20026</td>\n",
       "      <td>...</td>\n",
       "      <td>2.817620</td>\n",
       "      <td>3.308279</td>\n",
       "      <td>1.424846e+00</td>\n",
       "      <td>5.052125</td>\n",
       "      <td>-0.169852</td>\n",
       "      <td>-1.595640e-03</td>\n",
       "      <td>0.101079</td>\n",
       "      <td>-0.168736</td>\n",
       "      <td>-4.000000e-08</td>\n",
       "      <td>11.867829</td>\n",
       "    </tr>\n",
       "    <tr>\n",
       "      <th>...</th>\n",
       "      <td>...</td>\n",
       "      <td>...</td>\n",
       "      <td>...</td>\n",
       "      <td>...</td>\n",
       "      <td>...</td>\n",
       "      <td>...</td>\n",
       "      <td>...</td>\n",
       "      <td>...</td>\n",
       "      <td>...</td>\n",
       "      <td>...</td>\n",
       "      <td>...</td>\n",
       "      <td>...</td>\n",
       "      <td>...</td>\n",
       "      <td>...</td>\n",
       "      <td>...</td>\n",
       "      <td>...</td>\n",
       "      <td>...</td>\n",
       "      <td>...</td>\n",
       "      <td>...</td>\n",
       "      <td>...</td>\n",
       "      <td>...</td>\n",
       "    </tr>\n",
       "    <tr>\n",
       "      <th>zip/14441</th>\n",
       "      <td>63527</td>\n",
       "      <td>39992</td>\n",
       "      <td>14441</td>\n",
       "      <td>zip</td>\n",
       "      <td>NY</td>\n",
       "      <td>NY</td>\n",
       "      <td>Dresden</td>\n",
       "      <td>Rochester, NY</td>\n",
       "      <td>Yates County</td>\n",
       "      <td>95200.50699</td>\n",
       "      <td>...</td>\n",
       "      <td>4.180083</td>\n",
       "      <td>-0.131965</td>\n",
       "      <td>1.830823e+00</td>\n",
       "      <td>0.323147</td>\n",
       "      <td>0.010833</td>\n",
       "      <td>-9.629160e-03</td>\n",
       "      <td>1.642928</td>\n",
       "      <td>0.619273</td>\n",
       "      <td>-1.592139e-02</td>\n",
       "      <td>0.255313</td>\n",
       "    </tr>\n",
       "    <tr>\n",
       "      <th>zip/98628</th>\n",
       "      <td>99927</td>\n",
       "      <td>39992</td>\n",
       "      <td>98628</td>\n",
       "      <td>zip</td>\n",
       "      <td>WA</td>\n",
       "      <td>WA</td>\n",
       "      <td>Klickitat</td>\n",
       "      <td>NaN</td>\n",
       "      <td>Klickitat County</td>\n",
       "      <td>NaN</td>\n",
       "      <td>...</td>\n",
       "      <td>-0.167128</td>\n",
       "      <td>0.219471</td>\n",
       "      <td>-1.258920e-03</td>\n",
       "      <td>-0.017126</td>\n",
       "      <td>4.365533</td>\n",
       "      <td>4.186756e-01</td>\n",
       "      <td>0.186192</td>\n",
       "      <td>-0.163884</td>\n",
       "      <td>-7.537420e-03</td>\n",
       "      <td>1.982381</td>\n",
       "    </tr>\n",
       "    <tr>\n",
       "      <th>zip/52163</th>\n",
       "      <td>80861</td>\n",
       "      <td>39992</td>\n",
       "      <td>52163</td>\n",
       "      <td>zip</td>\n",
       "      <td>IA</td>\n",
       "      <td>IA</td>\n",
       "      <td>Protivin</td>\n",
       "      <td>NaN</td>\n",
       "      <td>Howard County</td>\n",
       "      <td>NaN</td>\n",
       "      <td>...</td>\n",
       "      <td>-0.160310</td>\n",
       "      <td>0.264810</td>\n",
       "      <td>-1.492518e-01</td>\n",
       "      <td>-0.099826</td>\n",
       "      <td>0.856826</td>\n",
       "      <td>-2.017140e-02</td>\n",
       "      <td>9.899288</td>\n",
       "      <td>-0.132805</td>\n",
       "      <td>-2.782500e-04</td>\n",
       "      <td>0.601016</td>\n",
       "    </tr>\n",
       "    <tr>\n",
       "      <th>zip/82515</th>\n",
       "      <td>93941</td>\n",
       "      <td>39992</td>\n",
       "      <td>82515</td>\n",
       "      <td>zip</td>\n",
       "      <td>WY</td>\n",
       "      <td>WY</td>\n",
       "      <td>Hudson</td>\n",
       "      <td>Riverton, WY</td>\n",
       "      <td>Fremont County</td>\n",
       "      <td>NaN</td>\n",
       "      <td>...</td>\n",
       "      <td>0.308261</td>\n",
       "      <td>0.603739</td>\n",
       "      <td>3.155533e+00</td>\n",
       "      <td>-0.080326</td>\n",
       "      <td>1.294188</td>\n",
       "      <td>8.093709e-01</td>\n",
       "      <td>-0.147521</td>\n",
       "      <td>-0.047723</td>\n",
       "      <td>-1.597920e-03</td>\n",
       "      <td>6.474327</td>\n",
       "    </tr>\n",
       "    <tr>\n",
       "      <th>zip/50160</th>\n",
       "      <td>80190</td>\n",
       "      <td>39992</td>\n",
       "      <td>50160</td>\n",
       "      <td>zip</td>\n",
       "      <td>IA</td>\n",
       "      <td>IA</td>\n",
       "      <td>Martensdale</td>\n",
       "      <td>Des Moines-West Des Moines, IA</td>\n",
       "      <td>Warren County</td>\n",
       "      <td>NaN</td>\n",
       "      <td>...</td>\n",
       "      <td>-0.162361</td>\n",
       "      <td>-0.149574</td>\n",
       "      <td>1.953593e+00</td>\n",
       "      <td>-0.001024</td>\n",
       "      <td>1.201412</td>\n",
       "      <td>-1.557630e-03</td>\n",
       "      <td>2.875653</td>\n",
       "      <td>-0.168282</td>\n",
       "      <td>-4.259114e-02</td>\n",
       "      <td>0.575394</td>\n",
       "    </tr>\n",
       "  </tbody>\n",
       "</table>\n",
       "<p>24003 rows × 646 columns</p>\n",
       "</div>"
      ],
      "text/plain": [
       "           RegionID  SizeRank RegionName RegionType StateName State  \\\n",
       "zip/77494     91982         1      77494        zip        TX    TX   \n",
       "zip/77449     91940         3      77449        zip        TX    TX   \n",
       "zip/11368     62080         4      11368        zip        NY    NY   \n",
       "zip/77084     91733         5      77084        zip        TX    TX   \n",
       "zip/79936     93144         6      79936        zip        TX    TX   \n",
       "...             ...       ...        ...        ...       ...   ...   \n",
       "zip/14441     63527     39992      14441        zip        NY    NY   \n",
       "zip/98628     99927     39992      98628        zip        WA    WA   \n",
       "zip/52163     80861     39992      52163        zip        IA    IA   \n",
       "zip/82515     93941     39992      82515        zip        WY    WY   \n",
       "zip/50160     80190     39992      50160        zip        IA    IA   \n",
       "\n",
       "                  City                                  Metro  \\\n",
       "zip/77494         Katy   Houston-The Woodlands-Sugar Land, TX   \n",
       "zip/77449         Katy   Houston-The Woodlands-Sugar Land, TX   \n",
       "zip/11368     New York  New York-Newark-Jersey City, NY-NJ-PA   \n",
       "zip/77084      Houston   Houston-The Woodlands-Sugar Land, TX   \n",
       "zip/79936      El Paso                            El Paso, TX   \n",
       "...                ...                                    ...   \n",
       "zip/14441      Dresden                          Rochester, NY   \n",
       "zip/98628    Klickitat                                    NaN   \n",
       "zip/52163     Protivin                                    NaN   \n",
       "zip/82515       Hudson                           Riverton, WY   \n",
       "zip/50160  Martensdale         Des Moines-West Des Moines, IA   \n",
       "\n",
       "                 CountyName    2000-01-31  ...  feature320  feature321  \\\n",
       "zip/77494  Fort Bend County  209050.47676  ...   -0.000001   -0.000573   \n",
       "zip/77449     Harris County  103655.52834  ...   -0.017497   -0.003990   \n",
       "zip/11368     Queens County  146323.41156  ...   -0.099274    2.189546   \n",
       "zip/77084     Harris County  102106.86183  ...   -0.006604   -0.015875   \n",
       "zip/79936    El Paso County   88633.20026  ...    2.817620    3.308279   \n",
       "...                     ...           ...  ...         ...         ...   \n",
       "zip/14441      Yates County   95200.50699  ...    4.180083   -0.131965   \n",
       "zip/98628  Klickitat County           NaN  ...   -0.167128    0.219471   \n",
       "zip/52163     Howard County           NaN  ...   -0.160310    0.264810   \n",
       "zip/82515    Fremont County           NaN  ...    0.308261    0.603739   \n",
       "zip/50160     Warren County           NaN  ...   -0.162361   -0.149574   \n",
       "\n",
       "             feature322  feature323  feature324    feature325  feature326  \\\n",
       "zip/77494 -7.384640e-02    3.741291    6.835684  7.062005e+00    2.521905   \n",
       "zip/77449 -1.646668e-01    4.616399    6.331781  6.382573e+00    2.943955   \n",
       "zip/11368 -2.500000e-07    6.165315   -0.082513 -1.300000e-07    3.876507   \n",
       "zip/77084 -1.620866e-01    4.832126    6.007081  6.243350e+00    1.670585   \n",
       "zip/79936  1.424846e+00    5.052125   -0.169852 -1.595640e-03    0.101079   \n",
       "...                 ...         ...         ...           ...         ...   \n",
       "zip/14441  1.830823e+00    0.323147    0.010833 -9.629160e-03    1.642928   \n",
       "zip/98628 -1.258920e-03   -0.017126    4.365533  4.186756e-01    0.186192   \n",
       "zip/52163 -1.492518e-01   -0.099826    0.856826 -2.017140e-02    9.899288   \n",
       "zip/82515  3.155533e+00   -0.080326    1.294188  8.093709e-01   -0.147521   \n",
       "zip/50160  1.953593e+00   -0.001024    1.201412 -1.557630e-03    2.875653   \n",
       "\n",
       "           feature327    feature328  feature329  \n",
       "zip/77494    1.494393 -0.000000e+00    0.663955  \n",
       "zip/77449    1.990187 -4.000000e-06    1.199221  \n",
       "zip/11368   -0.031210 -4.438200e-04    3.084769  \n",
       "zip/77084    2.623777 -7.000000e-08    0.925346  \n",
       "zip/79936   -0.168736 -4.000000e-08   11.867829  \n",
       "...               ...           ...         ...  \n",
       "zip/14441    0.619273 -1.592139e-02    0.255313  \n",
       "zip/98628   -0.163884 -7.537420e-03    1.982381  \n",
       "zip/52163   -0.132805 -2.782500e-04    0.601016  \n",
       "zip/82515   -0.047723 -1.597920e-03    6.474327  \n",
       "zip/50160   -0.168282 -4.259114e-02    0.575394  \n",
       "\n",
       "[24003 rows x 646 columns]"
      ]
     },
     "execution_count": 11,
     "metadata": {},
     "output_type": "execute_result"
    }
   ],
   "source": [
    "data= zhvi_df.join(zipcode_embeddings, how=\"inner\")\n",
    "data"
   ]
  },
  {
   "cell_type": "code",
   "execution_count": 12,
   "id": "e08b2710",
   "metadata": {},
   "outputs": [],
   "source": [
    "embedding_features= [f\"feature{x}\" for x in range(330)]\n",
    "label= \"2024-10-31\""
   ]
  },
  {
   "cell_type": "code",
   "execution_count": 13,
   "id": "e61dbceb",
   "metadata": {},
   "outputs": [
    {
     "data": {
      "text/html": [
       "<div>\n",
       "<style scoped>\n",
       "    .dataframe tbody tr th:only-of-type {\n",
       "        vertical-align: middle;\n",
       "    }\n",
       "\n",
       "    .dataframe tbody tr th {\n",
       "        vertical-align: top;\n",
       "    }\n",
       "\n",
       "    .dataframe thead th {\n",
       "        text-align: right;\n",
       "    }\n",
       "</style>\n",
       "<table border=\"1\" class=\"dataframe\">\n",
       "  <thead>\n",
       "    <tr style=\"text-align: right;\">\n",
       "      <th></th>\n",
       "      <th>RegionID</th>\n",
       "      <th>SizeRank</th>\n",
       "      <th>RegionName</th>\n",
       "      <th>RegionType</th>\n",
       "      <th>StateName</th>\n",
       "      <th>State</th>\n",
       "      <th>City</th>\n",
       "      <th>Metro</th>\n",
       "      <th>CountyName</th>\n",
       "      <th>2000-01-31</th>\n",
       "      <th>...</th>\n",
       "      <th>feature320</th>\n",
       "      <th>feature321</th>\n",
       "      <th>feature322</th>\n",
       "      <th>feature323</th>\n",
       "      <th>feature324</th>\n",
       "      <th>feature325</th>\n",
       "      <th>feature326</th>\n",
       "      <th>feature327</th>\n",
       "      <th>feature328</th>\n",
       "      <th>feature329</th>\n",
       "    </tr>\n",
       "  </thead>\n",
       "  <tbody>\n",
       "    <tr>\n",
       "      <th>zip/77494</th>\n",
       "      <td>91982</td>\n",
       "      <td>1</td>\n",
       "      <td>77494</td>\n",
       "      <td>zip</td>\n",
       "      <td>TX</td>\n",
       "      <td>TX</td>\n",
       "      <td>Katy</td>\n",
       "      <td>Houston-The Woodlands-Sugar Land, TX</td>\n",
       "      <td>Fort Bend County</td>\n",
       "      <td>209050.47676</td>\n",
       "      <td>...</td>\n",
       "      <td>-0.000001</td>\n",
       "      <td>-0.000573</td>\n",
       "      <td>-7.384640e-02</td>\n",
       "      <td>3.741291</td>\n",
       "      <td>6.835684</td>\n",
       "      <td>7.062005e+00</td>\n",
       "      <td>2.521905</td>\n",
       "      <td>1.494393</td>\n",
       "      <td>-0.000000e+00</td>\n",
       "      <td>0.663955</td>\n",
       "    </tr>\n",
       "    <tr>\n",
       "      <th>zip/77449</th>\n",
       "      <td>91940</td>\n",
       "      <td>3</td>\n",
       "      <td>77449</td>\n",
       "      <td>zip</td>\n",
       "      <td>TX</td>\n",
       "      <td>TX</td>\n",
       "      <td>Katy</td>\n",
       "      <td>Houston-The Woodlands-Sugar Land, TX</td>\n",
       "      <td>Harris County</td>\n",
       "      <td>103655.52834</td>\n",
       "      <td>...</td>\n",
       "      <td>-0.017497</td>\n",
       "      <td>-0.003990</td>\n",
       "      <td>-1.646668e-01</td>\n",
       "      <td>4.616399</td>\n",
       "      <td>6.331781</td>\n",
       "      <td>6.382573e+00</td>\n",
       "      <td>2.943955</td>\n",
       "      <td>1.990187</td>\n",
       "      <td>-4.000000e-06</td>\n",
       "      <td>1.199221</td>\n",
       "    </tr>\n",
       "    <tr>\n",
       "      <th>zip/11368</th>\n",
       "      <td>62080</td>\n",
       "      <td>4</td>\n",
       "      <td>11368</td>\n",
       "      <td>zip</td>\n",
       "      <td>NY</td>\n",
       "      <td>NY</td>\n",
       "      <td>New York</td>\n",
       "      <td>New York-Newark-Jersey City, NY-NJ-PA</td>\n",
       "      <td>Queens County</td>\n",
       "      <td>146323.41156</td>\n",
       "      <td>...</td>\n",
       "      <td>-0.099274</td>\n",
       "      <td>2.189546</td>\n",
       "      <td>-2.500000e-07</td>\n",
       "      <td>6.165315</td>\n",
       "      <td>-0.082513</td>\n",
       "      <td>-1.300000e-07</td>\n",
       "      <td>3.876507</td>\n",
       "      <td>-0.031210</td>\n",
       "      <td>-4.438200e-04</td>\n",
       "      <td>3.084769</td>\n",
       "    </tr>\n",
       "    <tr>\n",
       "      <th>zip/77084</th>\n",
       "      <td>91733</td>\n",
       "      <td>5</td>\n",
       "      <td>77084</td>\n",
       "      <td>zip</td>\n",
       "      <td>TX</td>\n",
       "      <td>TX</td>\n",
       "      <td>Houston</td>\n",
       "      <td>Houston-The Woodlands-Sugar Land, TX</td>\n",
       "      <td>Harris County</td>\n",
       "      <td>102106.86183</td>\n",
       "      <td>...</td>\n",
       "      <td>-0.006604</td>\n",
       "      <td>-0.015875</td>\n",
       "      <td>-1.620866e-01</td>\n",
       "      <td>4.832126</td>\n",
       "      <td>6.007081</td>\n",
       "      <td>6.243350e+00</td>\n",
       "      <td>1.670585</td>\n",
       "      <td>2.623777</td>\n",
       "      <td>-7.000000e-08</td>\n",
       "      <td>0.925346</td>\n",
       "    </tr>\n",
       "    <tr>\n",
       "      <th>zip/79936</th>\n",
       "      <td>93144</td>\n",
       "      <td>6</td>\n",
       "      <td>79936</td>\n",
       "      <td>zip</td>\n",
       "      <td>TX</td>\n",
       "      <td>TX</td>\n",
       "      <td>El Paso</td>\n",
       "      <td>El Paso, TX</td>\n",
       "      <td>El Paso County</td>\n",
       "      <td>88633.20026</td>\n",
       "      <td>...</td>\n",
       "      <td>2.817620</td>\n",
       "      <td>3.308279</td>\n",
       "      <td>1.424846e+00</td>\n",
       "      <td>5.052125</td>\n",
       "      <td>-0.169852</td>\n",
       "      <td>-1.595640e-03</td>\n",
       "      <td>0.101079</td>\n",
       "      <td>-0.168736</td>\n",
       "      <td>-4.000000e-08</td>\n",
       "      <td>11.867829</td>\n",
       "    </tr>\n",
       "    <tr>\n",
       "      <th>...</th>\n",
       "      <td>...</td>\n",
       "      <td>...</td>\n",
       "      <td>...</td>\n",
       "      <td>...</td>\n",
       "      <td>...</td>\n",
       "      <td>...</td>\n",
       "      <td>...</td>\n",
       "      <td>...</td>\n",
       "      <td>...</td>\n",
       "      <td>...</td>\n",
       "      <td>...</td>\n",
       "      <td>...</td>\n",
       "      <td>...</td>\n",
       "      <td>...</td>\n",
       "      <td>...</td>\n",
       "      <td>...</td>\n",
       "      <td>...</td>\n",
       "      <td>...</td>\n",
       "      <td>...</td>\n",
       "      <td>...</td>\n",
       "      <td>...</td>\n",
       "    </tr>\n",
       "    <tr>\n",
       "      <th>zip/14441</th>\n",
       "      <td>63527</td>\n",
       "      <td>39992</td>\n",
       "      <td>14441</td>\n",
       "      <td>zip</td>\n",
       "      <td>NY</td>\n",
       "      <td>NY</td>\n",
       "      <td>Dresden</td>\n",
       "      <td>Rochester, NY</td>\n",
       "      <td>Yates County</td>\n",
       "      <td>95200.50699</td>\n",
       "      <td>...</td>\n",
       "      <td>4.180083</td>\n",
       "      <td>-0.131965</td>\n",
       "      <td>1.830823e+00</td>\n",
       "      <td>0.323147</td>\n",
       "      <td>0.010833</td>\n",
       "      <td>-9.629160e-03</td>\n",
       "      <td>1.642928</td>\n",
       "      <td>0.619273</td>\n",
       "      <td>-1.592139e-02</td>\n",
       "      <td>0.255313</td>\n",
       "    </tr>\n",
       "    <tr>\n",
       "      <th>zip/98628</th>\n",
       "      <td>99927</td>\n",
       "      <td>39992</td>\n",
       "      <td>98628</td>\n",
       "      <td>zip</td>\n",
       "      <td>WA</td>\n",
       "      <td>WA</td>\n",
       "      <td>Klickitat</td>\n",
       "      <td>NaN</td>\n",
       "      <td>Klickitat County</td>\n",
       "      <td>NaN</td>\n",
       "      <td>...</td>\n",
       "      <td>-0.167128</td>\n",
       "      <td>0.219471</td>\n",
       "      <td>-1.258920e-03</td>\n",
       "      <td>-0.017126</td>\n",
       "      <td>4.365533</td>\n",
       "      <td>4.186756e-01</td>\n",
       "      <td>0.186192</td>\n",
       "      <td>-0.163884</td>\n",
       "      <td>-7.537420e-03</td>\n",
       "      <td>1.982381</td>\n",
       "    </tr>\n",
       "    <tr>\n",
       "      <th>zip/52163</th>\n",
       "      <td>80861</td>\n",
       "      <td>39992</td>\n",
       "      <td>52163</td>\n",
       "      <td>zip</td>\n",
       "      <td>IA</td>\n",
       "      <td>IA</td>\n",
       "      <td>Protivin</td>\n",
       "      <td>NaN</td>\n",
       "      <td>Howard County</td>\n",
       "      <td>NaN</td>\n",
       "      <td>...</td>\n",
       "      <td>-0.160310</td>\n",
       "      <td>0.264810</td>\n",
       "      <td>-1.492518e-01</td>\n",
       "      <td>-0.099826</td>\n",
       "      <td>0.856826</td>\n",
       "      <td>-2.017140e-02</td>\n",
       "      <td>9.899288</td>\n",
       "      <td>-0.132805</td>\n",
       "      <td>-2.782500e-04</td>\n",
       "      <td>0.601016</td>\n",
       "    </tr>\n",
       "    <tr>\n",
       "      <th>zip/82515</th>\n",
       "      <td>93941</td>\n",
       "      <td>39992</td>\n",
       "      <td>82515</td>\n",
       "      <td>zip</td>\n",
       "      <td>WY</td>\n",
       "      <td>WY</td>\n",
       "      <td>Hudson</td>\n",
       "      <td>Riverton, WY</td>\n",
       "      <td>Fremont County</td>\n",
       "      <td>NaN</td>\n",
       "      <td>...</td>\n",
       "      <td>0.308261</td>\n",
       "      <td>0.603739</td>\n",
       "      <td>3.155533e+00</td>\n",
       "      <td>-0.080326</td>\n",
       "      <td>1.294188</td>\n",
       "      <td>8.093709e-01</td>\n",
       "      <td>-0.147521</td>\n",
       "      <td>-0.047723</td>\n",
       "      <td>-1.597920e-03</td>\n",
       "      <td>6.474327</td>\n",
       "    </tr>\n",
       "    <tr>\n",
       "      <th>zip/50160</th>\n",
       "      <td>80190</td>\n",
       "      <td>39992</td>\n",
       "      <td>50160</td>\n",
       "      <td>zip</td>\n",
       "      <td>IA</td>\n",
       "      <td>IA</td>\n",
       "      <td>Martensdale</td>\n",
       "      <td>Des Moines-West Des Moines, IA</td>\n",
       "      <td>Warren County</td>\n",
       "      <td>NaN</td>\n",
       "      <td>...</td>\n",
       "      <td>-0.162361</td>\n",
       "      <td>-0.149574</td>\n",
       "      <td>1.953593e+00</td>\n",
       "      <td>-0.001024</td>\n",
       "      <td>1.201412</td>\n",
       "      <td>-1.557630e-03</td>\n",
       "      <td>2.875653</td>\n",
       "      <td>-0.168282</td>\n",
       "      <td>-4.259114e-02</td>\n",
       "      <td>0.575394</td>\n",
       "    </tr>\n",
       "  </tbody>\n",
       "</table>\n",
       "<p>24002 rows × 646 columns</p>\n",
       "</div>"
      ],
      "text/plain": [
       "           RegionID  SizeRank RegionName RegionType StateName State  \\\n",
       "zip/77494     91982         1      77494        zip        TX    TX   \n",
       "zip/77449     91940         3      77449        zip        TX    TX   \n",
       "zip/11368     62080         4      11368        zip        NY    NY   \n",
       "zip/77084     91733         5      77084        zip        TX    TX   \n",
       "zip/79936     93144         6      79936        zip        TX    TX   \n",
       "...             ...       ...        ...        ...       ...   ...   \n",
       "zip/14441     63527     39992      14441        zip        NY    NY   \n",
       "zip/98628     99927     39992      98628        zip        WA    WA   \n",
       "zip/52163     80861     39992      52163        zip        IA    IA   \n",
       "zip/82515     93941     39992      82515        zip        WY    WY   \n",
       "zip/50160     80190     39992      50160        zip        IA    IA   \n",
       "\n",
       "                  City                                  Metro  \\\n",
       "zip/77494         Katy   Houston-The Woodlands-Sugar Land, TX   \n",
       "zip/77449         Katy   Houston-The Woodlands-Sugar Land, TX   \n",
       "zip/11368     New York  New York-Newark-Jersey City, NY-NJ-PA   \n",
       "zip/77084      Houston   Houston-The Woodlands-Sugar Land, TX   \n",
       "zip/79936      El Paso                            El Paso, TX   \n",
       "...                ...                                    ...   \n",
       "zip/14441      Dresden                          Rochester, NY   \n",
       "zip/98628    Klickitat                                    NaN   \n",
       "zip/52163     Protivin                                    NaN   \n",
       "zip/82515       Hudson                           Riverton, WY   \n",
       "zip/50160  Martensdale         Des Moines-West Des Moines, IA   \n",
       "\n",
       "                 CountyName    2000-01-31  ...  feature320  feature321  \\\n",
       "zip/77494  Fort Bend County  209050.47676  ...   -0.000001   -0.000573   \n",
       "zip/77449     Harris County  103655.52834  ...   -0.017497   -0.003990   \n",
       "zip/11368     Queens County  146323.41156  ...   -0.099274    2.189546   \n",
       "zip/77084     Harris County  102106.86183  ...   -0.006604   -0.015875   \n",
       "zip/79936    El Paso County   88633.20026  ...    2.817620    3.308279   \n",
       "...                     ...           ...  ...         ...         ...   \n",
       "zip/14441      Yates County   95200.50699  ...    4.180083   -0.131965   \n",
       "zip/98628  Klickitat County           NaN  ...   -0.167128    0.219471   \n",
       "zip/52163     Howard County           NaN  ...   -0.160310    0.264810   \n",
       "zip/82515    Fremont County           NaN  ...    0.308261    0.603739   \n",
       "zip/50160     Warren County           NaN  ...   -0.162361   -0.149574   \n",
       "\n",
       "             feature322  feature323  feature324    feature325  feature326  \\\n",
       "zip/77494 -7.384640e-02    3.741291    6.835684  7.062005e+00    2.521905   \n",
       "zip/77449 -1.646668e-01    4.616399    6.331781  6.382573e+00    2.943955   \n",
       "zip/11368 -2.500000e-07    6.165315   -0.082513 -1.300000e-07    3.876507   \n",
       "zip/77084 -1.620866e-01    4.832126    6.007081  6.243350e+00    1.670585   \n",
       "zip/79936  1.424846e+00    5.052125   -0.169852 -1.595640e-03    0.101079   \n",
       "...                 ...         ...         ...           ...         ...   \n",
       "zip/14441  1.830823e+00    0.323147    0.010833 -9.629160e-03    1.642928   \n",
       "zip/98628 -1.258920e-03   -0.017126    4.365533  4.186756e-01    0.186192   \n",
       "zip/52163 -1.492518e-01   -0.099826    0.856826 -2.017140e-02    9.899288   \n",
       "zip/82515  3.155533e+00   -0.080326    1.294188  8.093709e-01   -0.147521   \n",
       "zip/50160  1.953593e+00   -0.001024    1.201412 -1.557630e-03    2.875653   \n",
       "\n",
       "           feature327    feature328  feature329  \n",
       "zip/77494    1.494393 -0.000000e+00    0.663955  \n",
       "zip/77449    1.990187 -4.000000e-06    1.199221  \n",
       "zip/11368   -0.031210 -4.438200e-04    3.084769  \n",
       "zip/77084    2.623777 -7.000000e-08    0.925346  \n",
       "zip/79936   -0.168736 -4.000000e-08   11.867829  \n",
       "...               ...           ...         ...  \n",
       "zip/14441    0.619273 -1.592139e-02    0.255313  \n",
       "zip/98628   -0.163884 -7.537420e-03    1.982381  \n",
       "zip/52163   -0.132805 -2.782500e-04    0.601016  \n",
       "zip/82515   -0.047723 -1.597920e-03    6.474327  \n",
       "zip/50160   -0.168282 -4.259114e-02    0.575394  \n",
       "\n",
       "[24002 rows x 646 columns]"
      ]
     },
     "execution_count": 13,
     "metadata": {},
     "output_type": "execute_result"
    }
   ],
   "source": [
    "data= data.dropna(subset=[label])\n",
    "data"
   ]
  },
  {
   "cell_type": "code",
   "execution_count": 14,
   "id": "b6f1393b",
   "metadata": {},
   "outputs": [],
   "source": [
    "data = data[embedding_features + [label]]\n",
    "X = data[embedding_features]\n",
    "y = data[label]\n",
    "\n",
    "X_train, X_test, y_train, y_test = train_test_split(\n",
    "    X, y, test_size=0.2, random_state=42\n",
    ")"
   ]
  },
  {
   "cell_type": "code",
   "execution_count": 15,
   "id": "0ecda9f2",
   "metadata": {},
   "outputs": [],
   "source": [
    "# Initialize and train a simple linear regression model\n",
    "model = LinearRegression()\n",
    "model.fit(X_train, y_train)\n",
    "\n",
    "# Make predictions\n",
    "y_pred = model.predict(X_test)"
   ]
  },
  {
   "cell_type": "code",
   "execution_count": 16,
   "id": "8d262ee9",
   "metadata": {},
   "outputs": [
    {
     "name": "stdout",
     "output_type": "stream",
     "text": [
      "{'r2': 0.7923863392335829, 'r': np.float64(0.890846915263462), 'rmse': 131888.38743343446, 'mae': 72573.83922121955, 'mape': 0.26673190601469865}\n"
     ]
    }
   ],
   "source": [
    "evaluation_df = pd.DataFrame({\"y\": y_test, \"y_pred\": y_pred})\n",
    "metrics = evaluate_model(evaluation_df)\n",
    "print(metrics)"
   ]
  },
  {
   "cell_type": "code",
   "execution_count": 17,
   "id": "41dfdc78",
   "metadata": {},
   "outputs": [
    {
     "data": {
      "application/vnd.plotly.v1+json": {
       "config": {
        "plotlyServerURL": "https://plot.ly"
       },
       "data": [
        {
         "marker": {
          "color": "blue",
          "opacity": 0.7,
          "size": 6
         },
         "mode": "markers",
         "name": "Predicted vs Actual",
         "type": "scatter",
         "x": {
          "bdata": "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",
          "dtype": "f8"
         },
         "y": {
          "bdata": "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",
          "dtype": "f8"
         }
        },
        {
         "line": {
          "color": "red",
          "dash": "dash"
         },
         "mode": "lines",
         "name": "Reference Line",
         "type": "scatter",
         "x": [
          0,
          3000000
         ],
         "y": [
          0,
          3000000
         ]
        }
       ],
       "layout": {
        "height": 800,
        "showlegend": true,
        "template": {
         "data": {
          "bar": [
           {
            "error_x": {
             "color": "#2a3f5f"
            },
            "error_y": {
             "color": "#2a3f5f"
            },
            "marker": {
             "line": {
              "color": "white",
              "width": 0.5
             },
             "pattern": {
              "fillmode": "overlay",
              "size": 10,
              "solidity": 0.2
             }
            },
            "type": "bar"
           }
          ],
          "barpolar": [
           {
            "marker": {
             "line": {
              "color": "white",
              "width": 0.5
             },
             "pattern": {
              "fillmode": "overlay",
              "size": 10,
              "solidity": 0.2
             }
            },
            "type": "barpolar"
           }
          ],
          "carpet": [
           {
            "aaxis": {
             "endlinecolor": "#2a3f5f",
             "gridcolor": "#C8D4E3",
             "linecolor": "#C8D4E3",
             "minorgridcolor": "#C8D4E3",
             "startlinecolor": "#2a3f5f"
            },
            "baxis": {
             "endlinecolor": "#2a3f5f",
             "gridcolor": "#C8D4E3",
             "linecolor": "#C8D4E3",
             "minorgridcolor": "#C8D4E3",
             "startlinecolor": "#2a3f5f"
            },
            "type": "carpet"
           }
          ],
          "choropleth": [
           {
            "colorbar": {
             "outlinewidth": 0,
             "ticks": ""
            },
            "type": "choropleth"
           }
          ],
          "contour": [
           {
            "colorbar": {
             "outlinewidth": 0,
             "ticks": ""
            },
            "colorscale": [
             [
              0,
              "#0d0887"
             ],
             [
              0.1111111111111111,
              "#46039f"
             ],
             [
              0.2222222222222222,
              "#7201a8"
             ],
             [
              0.3333333333333333,
              "#9c179e"
             ],
             [
              0.4444444444444444,
              "#bd3786"
             ],
             [
              0.5555555555555556,
              "#d8576b"
             ],
             [
              0.6666666666666666,
              "#ed7953"
             ],
             [
              0.7777777777777778,
              "#fb9f3a"
             ],
             [
              0.8888888888888888,
              "#fdca26"
             ],
             [
              1,
              "#f0f921"
             ]
            ],
            "type": "contour"
           }
          ],
          "contourcarpet": [
           {
            "colorbar": {
             "outlinewidth": 0,
             "ticks": ""
            },
            "type": "contourcarpet"
           }
          ],
          "heatmap": [
           {
            "colorbar": {
             "outlinewidth": 0,
             "ticks": ""
            },
            "colorscale": [
             [
              0,
              "#0d0887"
             ],
             [
              0.1111111111111111,
              "#46039f"
             ],
             [
              0.2222222222222222,
              "#7201a8"
             ],
             [
              0.3333333333333333,
              "#9c179e"
             ],
             [
              0.4444444444444444,
              "#bd3786"
             ],
             [
              0.5555555555555556,
              "#d8576b"
             ],
             [
              0.6666666666666666,
              "#ed7953"
             ],
             [
              0.7777777777777778,
              "#fb9f3a"
             ],
             [
              0.8888888888888888,
              "#fdca26"
             ],
             [
              1,
              "#f0f921"
             ]
            ],
            "type": "heatmap"
           }
          ],
          "histogram": [
           {
            "marker": {
             "pattern": {
              "fillmode": "overlay",
              "size": 10,
              "solidity": 0.2
             }
            },
            "type": "histogram"
           }
          ],
          "histogram2d": [
           {
            "colorbar": {
             "outlinewidth": 0,
             "ticks": ""
            },
            "colorscale": [
             [
              0,
              "#0d0887"
             ],
             [
              0.1111111111111111,
              "#46039f"
             ],
             [
              0.2222222222222222,
              "#7201a8"
             ],
             [
              0.3333333333333333,
              "#9c179e"
             ],
             [
              0.4444444444444444,
              "#bd3786"
             ],
             [
              0.5555555555555556,
              "#d8576b"
             ],
             [
              0.6666666666666666,
              "#ed7953"
             ],
             [
              0.7777777777777778,
              "#fb9f3a"
             ],
             [
              0.8888888888888888,
              "#fdca26"
             ],
             [
              1,
              "#f0f921"
             ]
            ],
            "type": "histogram2d"
           }
          ],
          "histogram2dcontour": [
           {
            "colorbar": {
             "outlinewidth": 0,
             "ticks": ""
            },
            "colorscale": [
             [
              0,
              "#0d0887"
             ],
             [
              0.1111111111111111,
              "#46039f"
             ],
             [
              0.2222222222222222,
              "#7201a8"
             ],
             [
              0.3333333333333333,
              "#9c179e"
             ],
             [
              0.4444444444444444,
              "#bd3786"
             ],
             [
              0.5555555555555556,
              "#d8576b"
             ],
             [
              0.6666666666666666,
              "#ed7953"
             ],
             [
              0.7777777777777778,
              "#fb9f3a"
             ],
             [
              0.8888888888888888,
              "#fdca26"
             ],
             [
              1,
              "#f0f921"
             ]
            ],
            "type": "histogram2dcontour"
           }
          ],
          "mesh3d": [
           {
            "colorbar": {
             "outlinewidth": 0,
             "ticks": ""
            },
            "type": "mesh3d"
           }
          ],
          "parcoords": [
           {
            "line": {
             "colorbar": {
              "outlinewidth": 0,
              "ticks": ""
             }
            },
            "type": "parcoords"
           }
          ],
          "pie": [
           {
            "automargin": true,
            "type": "pie"
           }
          ],
          "scatter": [
           {
            "fillpattern": {
             "fillmode": "overlay",
             "size": 10,
             "solidity": 0.2
            },
            "type": "scatter"
           }
          ],
          "scatter3d": [
           {
            "line": {
             "colorbar": {
              "outlinewidth": 0,
              "ticks": ""
             }
            },
            "marker": {
             "colorbar": {
              "outlinewidth": 0,
              "ticks": ""
             }
            },
            "type": "scatter3d"
           }
          ],
          "scattercarpet": [
           {
            "marker": {
             "colorbar": {
              "outlinewidth": 0,
              "ticks": ""
             }
            },
            "type": "scattercarpet"
           }
          ],
          "scattergeo": [
           {
            "marker": {
             "colorbar": {
              "outlinewidth": 0,
              "ticks": ""
             }
            },
            "type": "scattergeo"
           }
          ],
          "scattergl": [
           {
            "marker": {
             "colorbar": {
              "outlinewidth": 0,
              "ticks": ""
             }
            },
            "type": "scattergl"
           }
          ],
          "scattermap": [
           {
            "marker": {
             "colorbar": {
              "outlinewidth": 0,
              "ticks": ""
             }
            },
            "type": "scattermap"
           }
          ],
          "scattermapbox": [
           {
            "marker": {
             "colorbar": {
              "outlinewidth": 0,
              "ticks": ""
             }
            },
            "type": "scattermapbox"
           }
          ],
          "scatterpolar": [
           {
            "marker": {
             "colorbar": {
              "outlinewidth": 0,
              "ticks": ""
             }
            },
            "type": "scatterpolar"
           }
          ],
          "scatterpolargl": [
           {
            "marker": {
             "colorbar": {
              "outlinewidth": 0,
              "ticks": ""
             }
            },
            "type": "scatterpolargl"
           }
          ],
          "scatterternary": [
           {
            "marker": {
             "colorbar": {
              "outlinewidth": 0,
              "ticks": ""
             }
            },
            "type": "scatterternary"
           }
          ],
          "surface": [
           {
            "colorbar": {
             "outlinewidth": 0,
             "ticks": ""
            },
            "colorscale": [
             [
              0,
              "#0d0887"
             ],
             [
              0.1111111111111111,
              "#46039f"
             ],
             [
              0.2222222222222222,
              "#7201a8"
             ],
             [
              0.3333333333333333,
              "#9c179e"
             ],
             [
              0.4444444444444444,
              "#bd3786"
             ],
             [
              0.5555555555555556,
              "#d8576b"
             ],
             [
              0.6666666666666666,
              "#ed7953"
             ],
             [
              0.7777777777777778,
              "#fb9f3a"
             ],
             [
              0.8888888888888888,
              "#fdca26"
             ],
             [
              1,
              "#f0f921"
             ]
            ],
            "type": "surface"
           }
          ],
          "table": [
           {
            "cells": {
             "fill": {
              "color": "#EBF0F8"
             },
             "line": {
              "color": "white"
             }
            },
            "header": {
             "fill": {
              "color": "#C8D4E3"
             },
             "line": {
              "color": "white"
             }
            },
            "type": "table"
           }
          ]
         },
         "layout": {
          "annotationdefaults": {
           "arrowcolor": "#2a3f5f",
           "arrowhead": 0,
           "arrowwidth": 1
          },
          "autotypenumbers": "strict",
          "coloraxis": {
           "colorbar": {
            "outlinewidth": 0,
            "ticks": ""
           }
          },
          "colorscale": {
           "diverging": [
            [
             0,
             "#8e0152"
            ],
            [
             0.1,
             "#c51b7d"
            ],
            [
             0.2,
             "#de77ae"
            ],
            [
             0.3,
             "#f1b6da"
            ],
            [
             0.4,
             "#fde0ef"
            ],
            [
             0.5,
             "#f7f7f7"
            ],
            [
             0.6,
             "#e6f5d0"
            ],
            [
             0.7,
             "#b8e186"
            ],
            [
             0.8,
             "#7fbc41"
            ],
            [
             0.9,
             "#4d9221"
            ],
            [
             1,
             "#276419"
            ]
           ],
           "sequential": [
            [
             0,
             "#0d0887"
            ],
            [
             0.1111111111111111,
             "#46039f"
            ],
            [
             0.2222222222222222,
             "#7201a8"
            ],
            [
             0.3333333333333333,
             "#9c179e"
            ],
            [
             0.4444444444444444,
             "#bd3786"
            ],
            [
             0.5555555555555556,
             "#d8576b"
            ],
            [
             0.6666666666666666,
             "#ed7953"
            ],
            [
             0.7777777777777778,
             "#fb9f3a"
            ],
            [
             0.8888888888888888,
             "#fdca26"
            ],
            [
             1,
             "#f0f921"
            ]
           ],
           "sequentialminus": [
            [
             0,
             "#0d0887"
            ],
            [
             0.1111111111111111,
             "#46039f"
            ],
            [
             0.2222222222222222,
             "#7201a8"
            ],
            [
             0.3333333333333333,
             "#9c179e"
            ],
            [
             0.4444444444444444,
             "#bd3786"
            ],
            [
             0.5555555555555556,
             "#d8576b"
            ],
            [
             0.6666666666666666,
             "#ed7953"
            ],
            [
             0.7777777777777778,
             "#fb9f3a"
            ],
            [
             0.8888888888888888,
             "#fdca26"
            ],
            [
             1,
             "#f0f921"
            ]
           ]
          },
          "colorway": [
           "#636efa",
           "#EF553B",
           "#00cc96",
           "#ab63fa",
           "#FFA15A",
           "#19d3f3",
           "#FF6692",
           "#B6E880",
           "#FF97FF",
           "#FECB52"
          ],
          "font": {
           "color": "#2a3f5f"
          },
          "geo": {
           "bgcolor": "white",
           "lakecolor": "white",
           "landcolor": "white",
           "showlakes": true,
           "showland": true,
           "subunitcolor": "#C8D4E3"
          },
          "hoverlabel": {
           "align": "left"
          },
          "hovermode": "closest",
          "mapbox": {
           "style": "light"
          },
          "paper_bgcolor": "white",
          "plot_bgcolor": "white",
          "polar": {
           "angularaxis": {
            "gridcolor": "#EBF0F8",
            "linecolor": "#EBF0F8",
            "ticks": ""
           },
           "bgcolor": "white",
           "radialaxis": {
            "gridcolor": "#EBF0F8",
            "linecolor": "#EBF0F8",
            "ticks": ""
           }
          },
          "scene": {
           "xaxis": {
            "backgroundcolor": "white",
            "gridcolor": "#DFE8F3",
            "gridwidth": 2,
            "linecolor": "#EBF0F8",
            "showbackground": true,
            "ticks": "",
            "zerolinecolor": "#EBF0F8"
           },
           "yaxis": {
            "backgroundcolor": "white",
            "gridcolor": "#DFE8F3",
            "gridwidth": 2,
            "linecolor": "#EBF0F8",
            "showbackground": true,
            "ticks": "",
            "zerolinecolor": "#EBF0F8"
           },
           "zaxis": {
            "backgroundcolor": "white",
            "gridcolor": "#DFE8F3",
            "gridwidth": 2,
            "linecolor": "#EBF0F8",
            "showbackground": true,
            "ticks": "",
            "zerolinecolor": "#EBF0F8"
           }
          },
          "shapedefaults": {
           "line": {
            "color": "#2a3f5f"
           }
          },
          "ternary": {
           "aaxis": {
            "gridcolor": "#DFE8F3",
            "linecolor": "#A2B1C6",
            "ticks": ""
           },
           "baxis": {
            "gridcolor": "#DFE8F3",
            "linecolor": "#A2B1C6",
            "ticks": ""
           },
           "bgcolor": "white",
           "caxis": {
            "gridcolor": "#DFE8F3",
            "linecolor": "#A2B1C6",
            "ticks": ""
           }
          },
          "title": {
           "x": 0.05
          },
          "xaxis": {
           "automargin": true,
           "gridcolor": "#EBF0F8",
           "linecolor": "#EBF0F8",
           "ticks": "",
           "title": {
            "standoff": 15
           },
           "zerolinecolor": "#EBF0F8",
           "zerolinewidth": 2
          },
          "yaxis": {
           "automargin": true,
           "gridcolor": "#EBF0F8",
           "linecolor": "#EBF0F8",
           "ticks": "",
           "title": {
            "standoff": 15
           },
           "zerolinecolor": "#EBF0F8",
           "zerolinewidth": 2
          }
         }
        },
        "title": {
         "text": "Actual vs Predicted Home Values"
        },
        "width": 800,
        "xaxis": {
         "range": [
          0,
          3000000
         ],
         "scaleanchor": "y",
         "title": {
          "text": "Actual Home Value"
         }
        },
        "yaxis": {
         "range": [
          0,
          3000000
         ],
         "title": {
          "text": "Predicted Home Value"
         }
        }
       }
      }
     },
     "metadata": {},
     "output_type": "display_data"
    }
   ],
   "source": [
    "xy_lim = (0, 3_000_000)\n",
    "plot_actual_vs_predicted(\n",
    "    evaluation_df,\n",
    "    xlim=xy_lim,\n",
    "    ylim=xy_lim,\n",
    "    title=\"Actual vs Predicted Home Values\",\n",
    "    x_label=\"Actual Home Value\",\n",
    "    y_label=\"Predicted Home Value\",\n",
    ")"
   ]
  },
  {
   "cell_type": "code",
   "execution_count": 18,
   "id": "0994d77d",
   "metadata": {},
   "outputs": [
    {
     "name": "stdout",
     "output_type": "stream",
     "text": [
      "{'r2': 0.7923863392335829, 'r': np.float64(0.890846915263462), 'rmse': 131888.38743343446, 'mae': 72573.83922121955, 'mape': 0.26673190601469865}\n"
     ]
    }
   ],
   "source": [
    "evaluate_df= pd.DataFrame({\"y\": y_test, \"y_pred\": y_pred})\n",
    "metrics = evaluate_model(evaluate_df)\n",
    "print(metrics)"
   ]
  },
  {
   "cell_type": "code",
   "execution_count": 19,
   "id": "97c06ccc",
   "metadata": {},
   "outputs": [
    {
     "data": {
      "text/html": [
       "<div>\n",
       "<style scoped>\n",
       "    .dataframe tbody tr th:only-of-type {\n",
       "        vertical-align: middle;\n",
       "    }\n",
       "\n",
       "    .dataframe tbody tr th {\n",
       "        vertical-align: top;\n",
       "    }\n",
       "\n",
       "    .dataframe thead th {\n",
       "        text-align: right;\n",
       "    }\n",
       "</style>\n",
       "<table border=\"1\" class=\"dataframe\">\n",
       "  <thead>\n",
       "    <tr style=\"text-align: right;\">\n",
       "      <th></th>\n",
       "      <th>y</th>\n",
       "      <th>y_pred</th>\n",
       "    </tr>\n",
       "  </thead>\n",
       "  <tbody>\n",
       "    <tr>\n",
       "      <th>zip/62943</th>\n",
       "      <td>162222.55793</td>\n",
       "      <td>204549.127895</td>\n",
       "    </tr>\n",
       "    <tr>\n",
       "      <th>zip/63653</th>\n",
       "      <td>72232.23067</td>\n",
       "      <td>23479.718488</td>\n",
       "    </tr>\n",
       "    <tr>\n",
       "      <th>zip/64117</th>\n",
       "      <td>199195.44126</td>\n",
       "      <td>156224.812811</td>\n",
       "    </tr>\n",
       "    <tr>\n",
       "      <th>zip/74931</th>\n",
       "      <td>150131.29134</td>\n",
       "      <td>243551.452823</td>\n",
       "    </tr>\n",
       "    <tr>\n",
       "      <th>zip/98168</th>\n",
       "      <td>558843.92154</td>\n",
       "      <td>494979.367988</td>\n",
       "    </tr>\n",
       "  </tbody>\n",
       "</table>\n",
       "</div>"
      ],
      "text/plain": [
       "                      y         y_pred\n",
       "zip/62943  162222.55793  204549.127895\n",
       "zip/63653   72232.23067   23479.718488\n",
       "zip/64117  199195.44126  156224.812811\n",
       "zip/74931  150131.29134  243551.452823\n",
       "zip/98168  558843.92154  494979.367988"
      ]
     },
     "execution_count": 19,
     "metadata": {},
     "output_type": "execute_result"
    }
   ],
   "source": [
    "evaluate_df.head()"
   ]
  },
  {
   "cell_type": "code",
   "execution_count": 20,
   "id": "b995e37f",
   "metadata": {},
   "outputs": [
    {
     "data": {
      "application/vnd.plotly.v1+json": {
       "config": {
        "plotlyServerURL": "https://plot.ly"
       },
       "data": [
        {
         "marker": {
          "color": "blue",
          "opacity": 0.7,
          "size": 6
         },
         "mode": "markers",
         "name": "Predicted vs Actual",
         "type": "scatter",
         "x": {
          "bdata": "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",
          "dtype": "f8"
         },
         "y": {
          "bdata": "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",
          "dtype": "f8"
         }
        },
        {
         "line": {
          "color": "red",
          "dash": "dash"
         },
         "mode": "lines",
         "name": "Reference Line",
         "type": "scatter",
         "x": [
          0,
          3000000
         ],
         "y": [
          0,
          3000000
         ]
        }
       ],
       "layout": {
        "height": 800,
        "showlegend": true,
        "template": {
         "data": {
          "bar": [
           {
            "error_x": {
             "color": "#2a3f5f"
            },
            "error_y": {
             "color": "#2a3f5f"
            },
            "marker": {
             "line": {
              "color": "white",
              "width": 0.5
             },
             "pattern": {
              "fillmode": "overlay",
              "size": 10,
              "solidity": 0.2
             }
            },
            "type": "bar"
           }
          ],
          "barpolar": [
           {
            "marker": {
             "line": {
              "color": "white",
              "width": 0.5
             },
             "pattern": {
              "fillmode": "overlay",
              "size": 10,
              "solidity": 0.2
             }
            },
            "type": "barpolar"
           }
          ],
          "carpet": [
           {
            "aaxis": {
             "endlinecolor": "#2a3f5f",
             "gridcolor": "#C8D4E3",
             "linecolor": "#C8D4E3",
             "minorgridcolor": "#C8D4E3",
             "startlinecolor": "#2a3f5f"
            },
            "baxis": {
             "endlinecolor": "#2a3f5f",
             "gridcolor": "#C8D4E3",
             "linecolor": "#C8D4E3",
             "minorgridcolor": "#C8D4E3",
             "startlinecolor": "#2a3f5f"
            },
            "type": "carpet"
           }
          ],
          "choropleth": [
           {
            "colorbar": {
             "outlinewidth": 0,
             "ticks": ""
            },
            "type": "choropleth"
           }
          ],
          "contour": [
           {
            "colorbar": {
             "outlinewidth": 0,
             "ticks": ""
            },
            "colorscale": [
             [
              0,
              "#0d0887"
             ],
             [
              0.1111111111111111,
              "#46039f"
             ],
             [
              0.2222222222222222,
              "#7201a8"
             ],
             [
              0.3333333333333333,
              "#9c179e"
             ],
             [
              0.4444444444444444,
              "#bd3786"
             ],
             [
              0.5555555555555556,
              "#d8576b"
             ],
             [
              0.6666666666666666,
              "#ed7953"
             ],
             [
              0.7777777777777778,
              "#fb9f3a"
             ],
             [
              0.8888888888888888,
              "#fdca26"
             ],
             [
              1,
              "#f0f921"
             ]
            ],
            "type": "contour"
           }
          ],
          "contourcarpet": [
           {
            "colorbar": {
             "outlinewidth": 0,
             "ticks": ""
            },
            "type": "contourcarpet"
           }
          ],
          "heatmap": [
           {
            "colorbar": {
             "outlinewidth": 0,
             "ticks": ""
            },
            "colorscale": [
             [
              0,
              "#0d0887"
             ],
             [
              0.1111111111111111,
              "#46039f"
             ],
             [
              0.2222222222222222,
              "#7201a8"
             ],
             [
              0.3333333333333333,
              "#9c179e"
             ],
             [
              0.4444444444444444,
              "#bd3786"
             ],
             [
              0.5555555555555556,
              "#d8576b"
             ],
             [
              0.6666666666666666,
              "#ed7953"
             ],
             [
              0.7777777777777778,
              "#fb9f3a"
             ],
             [
              0.8888888888888888,
              "#fdca26"
             ],
             [
              1,
              "#f0f921"
             ]
            ],
            "type": "heatmap"
           }
          ],
          "histogram": [
           {
            "marker": {
             "pattern": {
              "fillmode": "overlay",
              "size": 10,
              "solidity": 0.2
             }
            },
            "type": "histogram"
           }
          ],
          "histogram2d": [
           {
            "colorbar": {
             "outlinewidth": 0,
             "ticks": ""
            },
            "colorscale": [
             [
              0,
              "#0d0887"
             ],
             [
              0.1111111111111111,
              "#46039f"
             ],
             [
              0.2222222222222222,
              "#7201a8"
             ],
             [
              0.3333333333333333,
              "#9c179e"
             ],
             [
              0.4444444444444444,
              "#bd3786"
             ],
             [
              0.5555555555555556,
              "#d8576b"
             ],
             [
              0.6666666666666666,
              "#ed7953"
             ],
             [
              0.7777777777777778,
              "#fb9f3a"
             ],
             [
              0.8888888888888888,
              "#fdca26"
             ],
             [
              1,
              "#f0f921"
             ]
            ],
            "type": "histogram2d"
           }
          ],
          "histogram2dcontour": [
           {
            "colorbar": {
             "outlinewidth": 0,
             "ticks": ""
            },
            "colorscale": [
             [
              0,
              "#0d0887"
             ],
             [
              0.1111111111111111,
              "#46039f"
             ],
             [
              0.2222222222222222,
              "#7201a8"
             ],
             [
              0.3333333333333333,
              "#9c179e"
             ],
             [
              0.4444444444444444,
              "#bd3786"
             ],
             [
              0.5555555555555556,
              "#d8576b"
             ],
             [
              0.6666666666666666,
              "#ed7953"
             ],
             [
              0.7777777777777778,
              "#fb9f3a"
             ],
             [
              0.8888888888888888,
              "#fdca26"
             ],
             [
              1,
              "#f0f921"
             ]
            ],
            "type": "histogram2dcontour"
           }
          ],
          "mesh3d": [
           {
            "colorbar": {
             "outlinewidth": 0,
             "ticks": ""
            },
            "type": "mesh3d"
           }
          ],
          "parcoords": [
           {
            "line": {
             "colorbar": {
              "outlinewidth": 0,
              "ticks": ""
             }
            },
            "type": "parcoords"
           }
          ],
          "pie": [
           {
            "automargin": true,
            "type": "pie"
           }
          ],
          "scatter": [
           {
            "fillpattern": {
             "fillmode": "overlay",
             "size": 10,
             "solidity": 0.2
            },
            "type": "scatter"
           }
          ],
          "scatter3d": [
           {
            "line": {
             "colorbar": {
              "outlinewidth": 0,
              "ticks": ""
             }
            },
            "marker": {
             "colorbar": {
              "outlinewidth": 0,
              "ticks": ""
             }
            },
            "type": "scatter3d"
           }
          ],
          "scattercarpet": [
           {
            "marker": {
             "colorbar": {
              "outlinewidth": 0,
              "ticks": ""
             }
            },
            "type": "scattercarpet"
           }
          ],
          "scattergeo": [
           {
            "marker": {
             "colorbar": {
              "outlinewidth": 0,
              "ticks": ""
             }
            },
            "type": "scattergeo"
           }
          ],
          "scattergl": [
           {
            "marker": {
             "colorbar": {
              "outlinewidth": 0,
              "ticks": ""
             }
            },
            "type": "scattergl"
           }
          ],
          "scattermap": [
           {
            "marker": {
             "colorbar": {
              "outlinewidth": 0,
              "ticks": ""
             }
            },
            "type": "scattermap"
           }
          ],
          "scattermapbox": [
           {
            "marker": {
             "colorbar": {
              "outlinewidth": 0,
              "ticks": ""
             }
            },
            "type": "scattermapbox"
           }
          ],
          "scatterpolar": [
           {
            "marker": {
             "colorbar": {
              "outlinewidth": 0,
              "ticks": ""
             }
            },
            "type": "scatterpolar"
           }
          ],
          "scatterpolargl": [
           {
            "marker": {
             "colorbar": {
              "outlinewidth": 0,
              "ticks": ""
             }
            },
            "type": "scatterpolargl"
           }
          ],
          "scatterternary": [
           {
            "marker": {
             "colorbar": {
              "outlinewidth": 0,
              "ticks": ""
             }
            },
            "type": "scatterternary"
           }
          ],
          "surface": [
           {
            "colorbar": {
             "outlinewidth": 0,
             "ticks": ""
            },
            "colorscale": [
             [
              0,
              "#0d0887"
             ],
             [
              0.1111111111111111,
              "#46039f"
             ],
             [
              0.2222222222222222,
              "#7201a8"
             ],
             [
              0.3333333333333333,
              "#9c179e"
             ],
             [
              0.4444444444444444,
              "#bd3786"
             ],
             [
              0.5555555555555556,
              "#d8576b"
             ],
             [
              0.6666666666666666,
              "#ed7953"
             ],
             [
              0.7777777777777778,
              "#fb9f3a"
             ],
             [
              0.8888888888888888,
              "#fdca26"
             ],
             [
              1,
              "#f0f921"
             ]
            ],
            "type": "surface"
           }
          ],
          "table": [
           {
            "cells": {
             "fill": {
              "color": "#EBF0F8"
             },
             "line": {
              "color": "white"
             }
            },
            "header": {
             "fill": {
              "color": "#C8D4E3"
             },
             "line": {
              "color": "white"
             }
            },
            "type": "table"
           }
          ]
         },
         "layout": {
          "annotationdefaults": {
           "arrowcolor": "#2a3f5f",
           "arrowhead": 0,
           "arrowwidth": 1
          },
          "autotypenumbers": "strict",
          "coloraxis": {
           "colorbar": {
            "outlinewidth": 0,
            "ticks": ""
           }
          },
          "colorscale": {
           "diverging": [
            [
             0,
             "#8e0152"
            ],
            [
             0.1,
             "#c51b7d"
            ],
            [
             0.2,
             "#de77ae"
            ],
            [
             0.3,
             "#f1b6da"
            ],
            [
             0.4,
             "#fde0ef"
            ],
            [
             0.5,
             "#f7f7f7"
            ],
            [
             0.6,
             "#e6f5d0"
            ],
            [
             0.7,
             "#b8e186"
            ],
            [
             0.8,
             "#7fbc41"
            ],
            [
             0.9,
             "#4d9221"
            ],
            [
             1,
             "#276419"
            ]
           ],
           "sequential": [
            [
             0,
             "#0d0887"
            ],
            [
             0.1111111111111111,
             "#46039f"
            ],
            [
             0.2222222222222222,
             "#7201a8"
            ],
            [
             0.3333333333333333,
             "#9c179e"
            ],
            [
             0.4444444444444444,
             "#bd3786"
            ],
            [
             0.5555555555555556,
             "#d8576b"
            ],
            [
             0.6666666666666666,
             "#ed7953"
            ],
            [
             0.7777777777777778,
             "#fb9f3a"
            ],
            [
             0.8888888888888888,
             "#fdca26"
            ],
            [
             1,
             "#f0f921"
            ]
           ],
           "sequentialminus": [
            [
             0,
             "#0d0887"
            ],
            [
             0.1111111111111111,
             "#46039f"
            ],
            [
             0.2222222222222222,
             "#7201a8"
            ],
            [
             0.3333333333333333,
             "#9c179e"
            ],
            [
             0.4444444444444444,
             "#bd3786"
            ],
            [
             0.5555555555555556,
             "#d8576b"
            ],
            [
             0.6666666666666666,
             "#ed7953"
            ],
            [
             0.7777777777777778,
             "#fb9f3a"
            ],
            [
             0.8888888888888888,
             "#fdca26"
            ],
            [
             1,
             "#f0f921"
            ]
           ]
          },
          "colorway": [
           "#636efa",
           "#EF553B",
           "#00cc96",
           "#ab63fa",
           "#FFA15A",
           "#19d3f3",
           "#FF6692",
           "#B6E880",
           "#FF97FF",
           "#FECB52"
          ],
          "font": {
           "color": "#2a3f5f"
          },
          "geo": {
           "bgcolor": "white",
           "lakecolor": "white",
           "landcolor": "white",
           "showlakes": true,
           "showland": true,
           "subunitcolor": "#C8D4E3"
          },
          "hoverlabel": {
           "align": "left"
          },
          "hovermode": "closest",
          "mapbox": {
           "style": "light"
          },
          "paper_bgcolor": "white",
          "plot_bgcolor": "white",
          "polar": {
           "angularaxis": {
            "gridcolor": "#EBF0F8",
            "linecolor": "#EBF0F8",
            "ticks": ""
           },
           "bgcolor": "white",
           "radialaxis": {
            "gridcolor": "#EBF0F8",
            "linecolor": "#EBF0F8",
            "ticks": ""
           }
          },
          "scene": {
           "xaxis": {
            "backgroundcolor": "white",
            "gridcolor": "#DFE8F3",
            "gridwidth": 2,
            "linecolor": "#EBF0F8",
            "showbackground": true,
            "ticks": "",
            "zerolinecolor": "#EBF0F8"
           },
           "yaxis": {
            "backgroundcolor": "white",
            "gridcolor": "#DFE8F3",
            "gridwidth": 2,
            "linecolor": "#EBF0F8",
            "showbackground": true,
            "ticks": "",
            "zerolinecolor": "#EBF0F8"
           },
           "zaxis": {
            "backgroundcolor": "white",
            "gridcolor": "#DFE8F3",
            "gridwidth": 2,
            "linecolor": "#EBF0F8",
            "showbackground": true,
            "ticks": "",
            "zerolinecolor": "#EBF0F8"
           }
          },
          "shapedefaults": {
           "line": {
            "color": "#2a3f5f"
           }
          },
          "ternary": {
           "aaxis": {
            "gridcolor": "#DFE8F3",
            "linecolor": "#A2B1C6",
            "ticks": ""
           },
           "baxis": {
            "gridcolor": "#DFE8F3",
            "linecolor": "#A2B1C6",
            "ticks": ""
           },
           "bgcolor": "white",
           "caxis": {
            "gridcolor": "#DFE8F3",
            "linecolor": "#A2B1C6",
            "ticks": ""
           }
          },
          "title": {
           "x": 0.05
          },
          "xaxis": {
           "automargin": true,
           "gridcolor": "#EBF0F8",
           "linecolor": "#EBF0F8",
           "ticks": "",
           "title": {
            "standoff": 15
           },
           "zerolinecolor": "#EBF0F8",
           "zerolinewidth": 2
          },
          "yaxis": {
           "automargin": true,
           "gridcolor": "#EBF0F8",
           "linecolor": "#EBF0F8",
           "ticks": "",
           "title": {
            "standoff": 15
           },
           "zerolinecolor": "#EBF0F8",
           "zerolinewidth": 2
          }
         }
        },
        "title": {
         "text": "Actual vs Predicted ZHVI"
        },
        "width": 800,
        "xaxis": {
         "range": [
          0,
          3000000
         ],
         "scaleanchor": "y",
         "title": {
          "text": "Actual"
         }
        },
        "yaxis": {
         "range": [
          0,
          3000000
         ],
         "title": {
          "text": "Predicted"
         }
        }
       }
      }
     },
     "metadata": {},
     "output_type": "display_data"
    }
   ],
   "source": [
    "xy_lim=(0,3000000)\n",
    "plot_actual_vs_predicted(\n",
    "    evaluate_df, x_label=\"Actual\", y_label=\"Predicted\", xlim= xy_lim, ylim=xy_lim,\n",
    "    title=\"Actual vs Predicted ZHVI\",\n",
    ")"
   ]
  },
  {
   "cell_type": "code",
   "execution_count": 22,
   "id": "8c4025ab",
   "metadata": {},
   "outputs": [],
   "source": [
    "k=5\n",
    "knn_model = KNeighborsRegressor(n_neighbors=k)\n",
    "knn_model.fit(X_train, y_train)\n",
    "y_pred= knn_model.predict(X_test)\n"
   ]
  },
  {
   "cell_type": "code",
   "execution_count": 23,
   "id": "a21b757e",
   "metadata": {},
   "outputs": [
    {
     "data": {
      "application/vnd.plotly.v1+json": {
       "config": {
        "plotlyServerURL": "https://plot.ly"
       },
       "data": [
        {
         "marker": {
          "color": "blue",
          "opacity": 0.7,
          "size": 6
         },
         "mode": "markers",
         "name": "Predicted vs Actual",
         "type": "scatter",
         "x": {
          "bdata": "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",
          "dtype": "f8"
         },
         "y": {
          "bdata": "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",
          "dtype": "f8"
         }
        },
        {
         "line": {
          "color": "red",
          "dash": "dash"
         },
         "mode": "lines",
         "name": "Reference Line",
         "type": "scatter",
         "x": [
          0,
          3000000
         ],
         "y": [
          0,
          3000000
         ]
        }
       ],
       "layout": {
        "height": 800,
        "showlegend": true,
        "template": {
         "data": {
          "bar": [
           {
            "error_x": {
             "color": "#2a3f5f"
            },
            "error_y": {
             "color": "#2a3f5f"
            },
            "marker": {
             "line": {
              "color": "white",
              "width": 0.5
             },
             "pattern": {
              "fillmode": "overlay",
              "size": 10,
              "solidity": 0.2
             }
            },
            "type": "bar"
           }
          ],
          "barpolar": [
           {
            "marker": {
             "line": {
              "color": "white",
              "width": 0.5
             },
             "pattern": {
              "fillmode": "overlay",
              "size": 10,
              "solidity": 0.2
             }
            },
            "type": "barpolar"
           }
          ],
          "carpet": [
           {
            "aaxis": {
             "endlinecolor": "#2a3f5f",
             "gridcolor": "#C8D4E3",
             "linecolor": "#C8D4E3",
             "minorgridcolor": "#C8D4E3",
             "startlinecolor": "#2a3f5f"
            },
            "baxis": {
             "endlinecolor": "#2a3f5f",
             "gridcolor": "#C8D4E3",
             "linecolor": "#C8D4E3",
             "minorgridcolor": "#C8D4E3",
             "startlinecolor": "#2a3f5f"
            },
            "type": "carpet"
           }
          ],
          "choropleth": [
           {
            "colorbar": {
             "outlinewidth": 0,
             "ticks": ""
            },
            "type": "choropleth"
           }
          ],
          "contour": [
           {
            "colorbar": {
             "outlinewidth": 0,
             "ticks": ""
            },
            "colorscale": [
             [
              0,
              "#0d0887"
             ],
             [
              0.1111111111111111,
              "#46039f"
             ],
             [
              0.2222222222222222,
              "#7201a8"
             ],
             [
              0.3333333333333333,
              "#9c179e"
             ],
             [
              0.4444444444444444,
              "#bd3786"
             ],
             [
              0.5555555555555556,
              "#d8576b"
             ],
             [
              0.6666666666666666,
              "#ed7953"
             ],
             [
              0.7777777777777778,
              "#fb9f3a"
             ],
             [
              0.8888888888888888,
              "#fdca26"
             ],
             [
              1,
              "#f0f921"
             ]
            ],
            "type": "contour"
           }
          ],
          "contourcarpet": [
           {
            "colorbar": {
             "outlinewidth": 0,
             "ticks": ""
            },
            "type": "contourcarpet"
           }
          ],
          "heatmap": [
           {
            "colorbar": {
             "outlinewidth": 0,
             "ticks": ""
            },
            "colorscale": [
             [
              0,
              "#0d0887"
             ],
             [
              0.1111111111111111,
              "#46039f"
             ],
             [
              0.2222222222222222,
              "#7201a8"
             ],
             [
              0.3333333333333333,
              "#9c179e"
             ],
             [
              0.4444444444444444,
              "#bd3786"
             ],
             [
              0.5555555555555556,
              "#d8576b"
             ],
             [
              0.6666666666666666,
              "#ed7953"
             ],
             [
              0.7777777777777778,
              "#fb9f3a"
             ],
             [
              0.8888888888888888,
              "#fdca26"
             ],
             [
              1,
              "#f0f921"
             ]
            ],
            "type": "heatmap"
           }
          ],
          "histogram": [
           {
            "marker": {
             "pattern": {
              "fillmode": "overlay",
              "size": 10,
              "solidity": 0.2
             }
            },
            "type": "histogram"
           }
          ],
          "histogram2d": [
           {
            "colorbar": {
             "outlinewidth": 0,
             "ticks": ""
            },
            "colorscale": [
             [
              0,
              "#0d0887"
             ],
             [
              0.1111111111111111,
              "#46039f"
             ],
             [
              0.2222222222222222,
              "#7201a8"
             ],
             [
              0.3333333333333333,
              "#9c179e"
             ],
             [
              0.4444444444444444,
              "#bd3786"
             ],
             [
              0.5555555555555556,
              "#d8576b"
             ],
             [
              0.6666666666666666,
              "#ed7953"
             ],
             [
              0.7777777777777778,
              "#fb9f3a"
             ],
             [
              0.8888888888888888,
              "#fdca26"
             ],
             [
              1,
              "#f0f921"
             ]
            ],
            "type": "histogram2d"
           }
          ],
          "histogram2dcontour": [
           {
            "colorbar": {
             "outlinewidth": 0,
             "ticks": ""
            },
            "colorscale": [
             [
              0,
              "#0d0887"
             ],
             [
              0.1111111111111111,
              "#46039f"
             ],
             [
              0.2222222222222222,
              "#7201a8"
             ],
             [
              0.3333333333333333,
              "#9c179e"
             ],
             [
              0.4444444444444444,
              "#bd3786"
             ],
             [
              0.5555555555555556,
              "#d8576b"
             ],
             [
              0.6666666666666666,
              "#ed7953"
             ],
             [
              0.7777777777777778,
              "#fb9f3a"
             ],
             [
              0.8888888888888888,
              "#fdca26"
             ],
             [
              1,
              "#f0f921"
             ]
            ],
            "type": "histogram2dcontour"
           }
          ],
          "mesh3d": [
           {
            "colorbar": {
             "outlinewidth": 0,
             "ticks": ""
            },
            "type": "mesh3d"
           }
          ],
          "parcoords": [
           {
            "line": {
             "colorbar": {
              "outlinewidth": 0,
              "ticks": ""
             }
            },
            "type": "parcoords"
           }
          ],
          "pie": [
           {
            "automargin": true,
            "type": "pie"
           }
          ],
          "scatter": [
           {
            "fillpattern": {
             "fillmode": "overlay",
             "size": 10,
             "solidity": 0.2
            },
            "type": "scatter"
           }
          ],
          "scatter3d": [
           {
            "line": {
             "colorbar": {
              "outlinewidth": 0,
              "ticks": ""
             }
            },
            "marker": {
             "colorbar": {
              "outlinewidth": 0,
              "ticks": ""
             }
            },
            "type": "scatter3d"
           }
          ],
          "scattercarpet": [
           {
            "marker": {
             "colorbar": {
              "outlinewidth": 0,
              "ticks": ""
             }
            },
            "type": "scattercarpet"
           }
          ],
          "scattergeo": [
           {
            "marker": {
             "colorbar": {
              "outlinewidth": 0,
              "ticks": ""
             }
            },
            "type": "scattergeo"
           }
          ],
          "scattergl": [
           {
            "marker": {
             "colorbar": {
              "outlinewidth": 0,
              "ticks": ""
             }
            },
            "type": "scattergl"
           }
          ],
          "scattermap": [
           {
            "marker": {
             "colorbar": {
              "outlinewidth": 0,
              "ticks": ""
             }
            },
            "type": "scattermap"
           }
          ],
          "scattermapbox": [
           {
            "marker": {
             "colorbar": {
              "outlinewidth": 0,
              "ticks": ""
             }
            },
            "type": "scattermapbox"
           }
          ],
          "scatterpolar": [
           {
            "marker": {
             "colorbar": {
              "outlinewidth": 0,
              "ticks": ""
             }
            },
            "type": "scatterpolar"
           }
          ],
          "scatterpolargl": [
           {
            "marker": {
             "colorbar": {
              "outlinewidth": 0,
              "ticks": ""
             }
            },
            "type": "scatterpolargl"
           }
          ],
          "scatterternary": [
           {
            "marker": {
             "colorbar": {
              "outlinewidth": 0,
              "ticks": ""
             }
            },
            "type": "scatterternary"
           }
          ],
          "surface": [
           {
            "colorbar": {
             "outlinewidth": 0,
             "ticks": ""
            },
            "colorscale": [
             [
              0,
              "#0d0887"
             ],
             [
              0.1111111111111111,
              "#46039f"
             ],
             [
              0.2222222222222222,
              "#7201a8"
             ],
             [
              0.3333333333333333,
              "#9c179e"
             ],
             [
              0.4444444444444444,
              "#bd3786"
             ],
             [
              0.5555555555555556,
              "#d8576b"
             ],
             [
              0.6666666666666666,
              "#ed7953"
             ],
             [
              0.7777777777777778,
              "#fb9f3a"
             ],
             [
              0.8888888888888888,
              "#fdca26"
             ],
             [
              1,
              "#f0f921"
             ]
            ],
            "type": "surface"
           }
          ],
          "table": [
           {
            "cells": {
             "fill": {
              "color": "#EBF0F8"
             },
             "line": {
              "color": "white"
             }
            },
            "header": {
             "fill": {
              "color": "#C8D4E3"
             },
             "line": {
              "color": "white"
             }
            },
            "type": "table"
           }
          ]
         },
         "layout": {
          "annotationdefaults": {
           "arrowcolor": "#2a3f5f",
           "arrowhead": 0,
           "arrowwidth": 1
          },
          "autotypenumbers": "strict",
          "coloraxis": {
           "colorbar": {
            "outlinewidth": 0,
            "ticks": ""
           }
          },
          "colorscale": {
           "diverging": [
            [
             0,
             "#8e0152"
            ],
            [
             0.1,
             "#c51b7d"
            ],
            [
             0.2,
             "#de77ae"
            ],
            [
             0.3,
             "#f1b6da"
            ],
            [
             0.4,
             "#fde0ef"
            ],
            [
             0.5,
             "#f7f7f7"
            ],
            [
             0.6,
             "#e6f5d0"
            ],
            [
             0.7,
             "#b8e186"
            ],
            [
             0.8,
             "#7fbc41"
            ],
            [
             0.9,
             "#4d9221"
            ],
            [
             1,
             "#276419"
            ]
           ],
           "sequential": [
            [
             0,
             "#0d0887"
            ],
            [
             0.1111111111111111,
             "#46039f"
            ],
            [
             0.2222222222222222,
             "#7201a8"
            ],
            [
             0.3333333333333333,
             "#9c179e"
            ],
            [
             0.4444444444444444,
             "#bd3786"
            ],
            [
             0.5555555555555556,
             "#d8576b"
            ],
            [
             0.6666666666666666,
             "#ed7953"
            ],
            [
             0.7777777777777778,
             "#fb9f3a"
            ],
            [
             0.8888888888888888,
             "#fdca26"
            ],
            [
             1,
             "#f0f921"
            ]
           ],
           "sequentialminus": [
            [
             0,
             "#0d0887"
            ],
            [
             0.1111111111111111,
             "#46039f"
            ],
            [
             0.2222222222222222,
             "#7201a8"
            ],
            [
             0.3333333333333333,
             "#9c179e"
            ],
            [
             0.4444444444444444,
             "#bd3786"
            ],
            [
             0.5555555555555556,
             "#d8576b"
            ],
            [
             0.6666666666666666,
             "#ed7953"
            ],
            [
             0.7777777777777778,
             "#fb9f3a"
            ],
            [
             0.8888888888888888,
             "#fdca26"
            ],
            [
             1,
             "#f0f921"
            ]
           ]
          },
          "colorway": [
           "#636efa",
           "#EF553B",
           "#00cc96",
           "#ab63fa",
           "#FFA15A",
           "#19d3f3",
           "#FF6692",
           "#B6E880",
           "#FF97FF",
           "#FECB52"
          ],
          "font": {
           "color": "#2a3f5f"
          },
          "geo": {
           "bgcolor": "white",
           "lakecolor": "white",
           "landcolor": "white",
           "showlakes": true,
           "showland": true,
           "subunitcolor": "#C8D4E3"
          },
          "hoverlabel": {
           "align": "left"
          },
          "hovermode": "closest",
          "mapbox": {
           "style": "light"
          },
          "paper_bgcolor": "white",
          "plot_bgcolor": "white",
          "polar": {
           "angularaxis": {
            "gridcolor": "#EBF0F8",
            "linecolor": "#EBF0F8",
            "ticks": ""
           },
           "bgcolor": "white",
           "radialaxis": {
            "gridcolor": "#EBF0F8",
            "linecolor": "#EBF0F8",
            "ticks": ""
           }
          },
          "scene": {
           "xaxis": {
            "backgroundcolor": "white",
            "gridcolor": "#DFE8F3",
            "gridwidth": 2,
            "linecolor": "#EBF0F8",
            "showbackground": true,
            "ticks": "",
            "zerolinecolor": "#EBF0F8"
           },
           "yaxis": {
            "backgroundcolor": "white",
            "gridcolor": "#DFE8F3",
            "gridwidth": 2,
            "linecolor": "#EBF0F8",
            "showbackground": true,
            "ticks": "",
            "zerolinecolor": "#EBF0F8"
           },
           "zaxis": {
            "backgroundcolor": "white",
            "gridcolor": "#DFE8F3",
            "gridwidth": 2,
            "linecolor": "#EBF0F8",
            "showbackground": true,
            "ticks": "",
            "zerolinecolor": "#EBF0F8"
           }
          },
          "shapedefaults": {
           "line": {
            "color": "#2a3f5f"
           }
          },
          "ternary": {
           "aaxis": {
            "gridcolor": "#DFE8F3",
            "linecolor": "#A2B1C6",
            "ticks": ""
           },
           "baxis": {
            "gridcolor": "#DFE8F3",
            "linecolor": "#A2B1C6",
            "ticks": ""
           },
           "bgcolor": "white",
           "caxis": {
            "gridcolor": "#DFE8F3",
            "linecolor": "#A2B1C6",
            "ticks": ""
           }
          },
          "title": {
           "x": 0.05
          },
          "xaxis": {
           "automargin": true,
           "gridcolor": "#EBF0F8",
           "linecolor": "#EBF0F8",
           "ticks": "",
           "title": {
            "standoff": 15
           },
           "zerolinecolor": "#EBF0F8",
           "zerolinewidth": 2
          },
          "yaxis": {
           "automargin": true,
           "gridcolor": "#EBF0F8",
           "linecolor": "#EBF0F8",
           "ticks": "",
           "title": {
            "standoff": 15
           },
           "zerolinecolor": "#EBF0F8",
           "zerolinewidth": 2
          }
         }
        },
        "title": {
         "text": "Actual vs Predicted ZHVI (KNN, k=5)"
        },
        "width": 800,
        "xaxis": {
         "range": [
          0,
          3000000
         ],
         "scaleanchor": "y",
         "title": {
          "text": "Actual"
         }
        },
        "yaxis": {
         "range": [
          0,
          3000000
         ],
         "title": {
          "text": "Predicted"
         }
        }
       }
      }
     },
     "metadata": {},
     "output_type": "display_data"
    }
   ],
   "source": [
    "plot_actual_vs_predicted(\n",
    "    evaluate_df, x_label=\"Actual\", y_label=\"Predicted\", xlim= xy_lim, ylim=xy_lim,\n",
    "    title=f\"Actual vs Predicted ZHVI (KNN, k={k})\",\n",
    ")"
   ]
  },
  {
   "cell_type": "code",
   "execution_count": 24,
   "id": "967ac2f1",
   "metadata": {},
   "outputs": [
    {
     "name": "stdout",
     "output_type": "stream",
     "text": [
      "{'r2': 0.787670314194312, 'r': np.float64(0.8889091262880304), 'rmse': 133377.92408499756, 'mae': 60408.591463699224, 'mape': 0.2067017807110204}\n"
     ]
    }
   ],
   "source": [
    "evaluation_df= pd.DataFrame({\"y\": y_test, \"y_pred\": y_pred})\n",
    "metrics = evaluate_model(evaluation_df)\n",
    "print(metrics)"
   ]
  },
  {
   "cell_type": "code",
   "execution_count": null,
   "id": "74985f1a",
   "metadata": {},
   "outputs": [],
   "source": []
  },
  {
   "cell_type": "code",
   "execution_count": null,
   "id": "cc46d32b",
   "metadata": {},
   "outputs": [],
   "source": []
  }
 ],
 "metadata": {
  "kernelspec": {
   "display_name": "gee",
   "language": "python",
   "name": "python3"
  },
  "language_info": {
   "codemirror_mode": {
    "name": "ipython",
    "version": 3
   },
   "file_extension": ".py",
   "mimetype": "text/x-python",
   "name": "python",
   "nbconvert_exporter": "python",
   "pygments_lexer": "ipython3",
   "version": "3.12.3"
  }
 },
 "nbformat": 4,
 "nbformat_minor": 5
}
